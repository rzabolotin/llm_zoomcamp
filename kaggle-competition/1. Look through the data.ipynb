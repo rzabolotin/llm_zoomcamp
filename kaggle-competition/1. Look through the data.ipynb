{
 "cells": [
  {
   "cell_type": "code",
   "execution_count": 1,
   "id": "b55021bd-22a6-4c85-ac7c-9a9ced25968d",
   "metadata": {},
   "outputs": [],
   "source": [
    "import pandas as pd"
   ]
  },
  {
   "cell_type": "markdown",
   "id": "a18780c7-f91f-4fcc-a230-447cc69b38a5",
   "metadata": {},
   "source": [
    "# Files that we have"
   ]
  },
  {
   "cell_type": "code",
   "execution_count": 3,
   "id": "548588e2-fc19-447f-9ca7-ea989a7f348c",
   "metadata": {},
   "outputs": [
    {
     "name": "stdout",
     "output_type": "stream",
     "text": [
      "total 368\n",
      "drwxrwxrwx 1 roman roman    512 Jul  7 10:22 .\n",
      "drwxrwxrwx 1 roman roman    512 Jul  7 10:26 ..\n",
      "-rwxrwxrwx 1 roman roman  43373 Jul  7 10:22 rus_test.csv\n",
      "-rwxrwxrwx 1 roman roman  50775 Jul  7 10:22 rus_train.csv\n",
      "-rwxrwxrwx 1 roman roman 122740 Jul  7 10:22 rus_train_unchecked.csv\n",
      "-rwxrwxrwx 1 roman roman   1527 Jul  7 10:22 sample_submission.csv\n",
      "-rwxrwxrwx 1 roman roman  28804 Jul  7 10:22 test.csv\n",
      "-rwxrwxrwx 1 roman roman  31480 Jul  7 10:22 train.csv\n",
      "-rwxrwxrwx 1 roman roman  82943 Jul  7 10:22 train_unchecked.csv\n"
     ]
    }
   ],
   "source": [
    "!ls -la data"
   ]
  },
  {
   "cell_type": "markdown",
   "id": "7f9b923f-c383-4db8-8e62-7dbe80e56b5a",
   "metadata": {},
   "source": [
    "# The content of train and test files"
   ]
  },
  {
   "cell_type": "markdown",
   "id": "77210760-3192-4037-9275-54e85e47bdb0",
   "metadata": {},
   "source": [
    "## Train"
   ]
  },
  {
   "cell_type": "code",
   "execution_count": 12,
   "id": "16036a7b-9bd3-4fc3-9c93-c72e893db104",
   "metadata": {},
   "outputs": [
    {
     "data": {
      "text/html": [
       "<div>\n",
       "<style scoped>\n",
       "    .dataframe tbody tr th:only-of-type {\n",
       "        vertical-align: middle;\n",
       "    }\n",
       "\n",
       "    .dataframe tbody tr th {\n",
       "        vertical-align: top;\n",
       "    }\n",
       "\n",
       "    .dataframe thead th {\n",
       "        text-align: right;\n",
       "    }\n",
       "</style>\n",
       "<table border=\"1\" class=\"dataframe\">\n",
       "  <thead>\n",
       "    <tr style=\"text-align: right;\">\n",
       "      <th></th>\n",
       "      <th>problem_text</th>\n",
       "      <th>answer</th>\n",
       "    </tr>\n",
       "    <tr>\n",
       "      <th>problem_id</th>\n",
       "      <th></th>\n",
       "      <th></th>\n",
       "    </tr>\n",
       "  </thead>\n",
       "  <tbody>\n",
       "    <tr>\n",
       "      <th>2374</th>\n",
       "      <td>Find the value of the expression $\\dfrac{17}{5...</td>\n",
       "      <td>1.6</td>\n",
       "    </tr>\n",
       "    <tr>\n",
       "      <th>4723</th>\n",
       "      <td>In a company of 30 people, 25 use the social n...</td>\n",
       "      <td>24</td>\n",
       "    </tr>\n",
       "    <tr>\n",
       "      <th>7135</th>\n",
       "      <td>The number of road traffic accidents (RTAs) in...</td>\n",
       "      <td>32</td>\n",
       "    </tr>\n",
       "    <tr>\n",
       "      <th>5814</th>\n",
       "      <td>Find the value of the expression $\\dfrac{2\\str...</td>\n",
       "      <td>256</td>\n",
       "    </tr>\n",
       "    <tr>\n",
       "      <th>9237</th>\n",
       "      <td>A traveler from Moscow wants to visit four cit...</td>\n",
       "      <td>53</td>\n",
       "    </tr>\n",
       "  </tbody>\n",
       "</table>\n",
       "</div>"
      ],
      "text/plain": [
       "                                                 problem_text answer\n",
       "problem_id                                                          \n",
       "2374        Find the value of the expression $\\dfrac{17}{5...    1.6\n",
       "4723        In a company of 30 people, 25 use the social n...     24\n",
       "7135        The number of road traffic accidents (RTAs) in...     32\n",
       "5814        Find the value of the expression $\\dfrac{2\\str...    256\n",
       "9237        A traveler from Moscow wants to visit four cit...     53"
      ]
     },
     "execution_count": 12,
     "metadata": {},
     "output_type": "execute_result"
    }
   ],
   "source": [
    "df = pd.read_csv(\"data/train.csv\", index_col=0)\n",
    "df.head()"
   ]
  },
  {
   "cell_type": "code",
   "execution_count": 27,
   "id": "35e455f7-7903-4f05-bfec-01f33bf0153c",
   "metadata": {},
   "outputs": [
    {
     "name": "stdout",
     "output_type": "stream",
     "text": [
      "The first task:  Find the value of the expression $\\dfrac{17}{5} :\\dfrac{34}{3} +1.3$.\n",
      "The last task:  Find the root of the equation \\(\\left(\\dfrac{1}{2} \\right)^{x - 8} = 8\\).\n"
     ]
    }
   ],
   "source": [
    "print(\"The first task: \", df.iloc[0,0])\n",
    "print(\"The last task: \" , df.iloc[-1,0])"
   ]
  },
  {
   "cell_type": "code",
   "execution_count": 28,
   "id": "12c6d4f4-2925-4177-8694-da3fdedc8649",
   "metadata": {},
   "outputs": [
    {
     "data": {
      "text/plain": [
       "(100, 2)"
      ]
     },
     "execution_count": 28,
     "metadata": {},
     "output_type": "execute_result"
    }
   ],
   "source": [
    "df.shape"
   ]
  },
  {
   "cell_type": "markdown",
   "id": "52dc0d09-8f8d-463c-b8c5-b07fa755d981",
   "metadata": {},
   "source": [
    "## Test"
   ]
  },
  {
   "cell_type": "code",
   "execution_count": 29,
   "id": "387ad7fb-76f0-4375-8c11-5156a3d4ccd5",
   "metadata": {},
   "outputs": [
    {
     "data": {
      "text/html": [
       "<div>\n",
       "<style scoped>\n",
       "    .dataframe tbody tr th:only-of-type {\n",
       "        vertical-align: middle;\n",
       "    }\n",
       "\n",
       "    .dataframe tbody tr th {\n",
       "        vertical-align: top;\n",
       "    }\n",
       "\n",
       "    .dataframe thead th {\n",
       "        text-align: right;\n",
       "    }\n",
       "</style>\n",
       "<table border=\"1\" class=\"dataframe\">\n",
       "  <thead>\n",
       "    <tr style=\"text-align: right;\">\n",
       "      <th></th>\n",
       "      <th>problem_text</th>\n",
       "    </tr>\n",
       "    <tr>\n",
       "      <th>problem_id</th>\n",
       "      <th></th>\n",
       "    </tr>\n",
       "  </thead>\n",
       "  <tbody>\n",
       "    <tr>\n",
       "      <th>11919</th>\n",
       "      <td>Find the value of the expression \\(4.8 \\cdot 2...</td>\n",
       "    </tr>\n",
       "    <tr>\n",
       "      <th>8513</th>\n",
       "      <td>The plane's navigation system informs the pass...</td>\n",
       "    </tr>\n",
       "    <tr>\n",
       "      <th>7887</th>\n",
       "      <td>The volume of a rectangular parallelepiped is ...</td>\n",
       "    </tr>\n",
       "    <tr>\n",
       "      <th>5272</th>\n",
       "      <td>Find the root of the equation: $\\left(\\dfrac{1...</td>\n",
       "    </tr>\n",
       "    <tr>\n",
       "      <th>8295</th>\n",
       "      <td>At the school, there are two-person camping te...</td>\n",
       "    </tr>\n",
       "  </tbody>\n",
       "</table>\n",
       "</div>"
      ],
      "text/plain": [
       "                                                 problem_text\n",
       "problem_id                                                   \n",
       "11919       Find the value of the expression \\(4.8 \\cdot 2...\n",
       "8513        The plane's navigation system informs the pass...\n",
       "7887        The volume of a rectangular parallelepiped is ...\n",
       "5272        Find the root of the equation: $\\left(\\dfrac{1...\n",
       "8295        At the school, there are two-person camping te..."
      ]
     },
     "execution_count": 29,
     "metadata": {},
     "output_type": "execute_result"
    }
   ],
   "source": [
    "df_test = pd.read_csv(\"data/test.csv\", index_col=0)\n",
    "df_test.head()"
   ]
  },
  {
   "cell_type": "code",
   "execution_count": 31,
   "id": "62652157-1c9e-4d87-955b-21c4b4c56b3b",
   "metadata": {},
   "outputs": [
    {
     "data": {
      "text/plain": [
       "(100, 1)"
      ]
     },
     "execution_count": 31,
     "metadata": {},
     "output_type": "execute_result"
    }
   ],
   "source": [
    "df_test.shape"
   ]
  },
  {
   "cell_type": "code",
   "execution_count": null,
   "id": "bd1e1599-fecb-45c9-b978-da2475618f7a",
   "metadata": {},
   "outputs": [],
   "source": [
    "df = pd.read_csv(\"data/train.csv\", index_col=0)\n",
    "df.head()"
   ]
  },
  {
   "cell_type": "markdown",
   "id": "63d85a25-826d-4b48-84b8-46ff55e1f99d",
   "metadata": {},
   "source": [
    "## Train unchecked"
   ]
  },
  {
   "cell_type": "code",
   "execution_count": 37,
   "id": "c764048d-99e8-4a94-82bf-fe2ff322dd1f",
   "metadata": {},
   "outputs": [
    {
     "data": {
      "text/html": [
       "<div>\n",
       "<style scoped>\n",
       "    .dataframe tbody tr th:only-of-type {\n",
       "        vertical-align: middle;\n",
       "    }\n",
       "\n",
       "    .dataframe tbody tr th {\n",
       "        vertical-align: top;\n",
       "    }\n",
       "\n",
       "    .dataframe thead th {\n",
       "        text-align: right;\n",
       "    }\n",
       "</style>\n",
       "<table border=\"1\" class=\"dataframe\">\n",
       "  <thead>\n",
       "    <tr style=\"text-align: right;\">\n",
       "      <th></th>\n",
       "      <th>problem_text</th>\n",
       "      <th>answer</th>\n",
       "    </tr>\n",
       "    <tr>\n",
       "      <th>problem_id</th>\n",
       "      <th></th>\n",
       "      <th></th>\n",
       "    </tr>\n",
       "  </thead>\n",
       "  <tbody>\n",
       "    <tr>\n",
       "      <th>9625</th>\n",
       "      <td>Find a four-digit number that is 14 times smal...</td>\n",
       "      <td>1568</td>\n",
       "    </tr>\n",
       "    <tr>\n",
       "      <th>1064</th>\n",
       "      <td>Find the root of the equation $\\log _{\\frac{1}...</td>\n",
       "      <td>7.25</td>\n",
       "    </tr>\n",
       "    <tr>\n",
       "      <th>8511</th>\n",
       "      <td>The airplane's navigation system informs the p...</td>\n",
       "      <td>11590</td>\n",
       "    </tr>\n",
       "    <tr>\n",
       "      <th>9692</th>\n",
       "      <td>Each of the four inequalities in the left colu...</td>\n",
       "      <td>2143</td>\n",
       "    </tr>\n",
       "    <tr>\n",
       "      <th>221</th>\n",
       "      <td>The city budget amounts to 84 million rubles, ...</td>\n",
       "      <td>37.8</td>\n",
       "    </tr>\n",
       "  </tbody>\n",
       "</table>\n",
       "</div>"
      ],
      "text/plain": [
       "                                                 problem_text answer\n",
       "problem_id                                                          \n",
       "9625        Find a four-digit number that is 14 times smal...   1568\n",
       "1064        Find the root of the equation $\\log _{\\frac{1}...   7.25\n",
       "8511        The airplane's navigation system informs the p...  11590\n",
       "9692        Each of the four inequalities in the left colu...   2143\n",
       "221         The city budget amounts to 84 million rubles, ...   37.8"
      ]
     },
     "execution_count": 37,
     "metadata": {},
     "output_type": "execute_result"
    }
   ],
   "source": [
    "df = pd.read_csv(\"data/train_unchecked.csv\", index_col=0)\n",
    "df.head()"
   ]
  },
  {
   "cell_type": "code",
   "execution_count": 38,
   "id": "87198c4e-4baf-47ec-90d3-aca8f894a7b8",
   "metadata": {},
   "outputs": [
    {
     "data": {
      "text/plain": [
       "(300, 2)"
      ]
     },
     "execution_count": 38,
     "metadata": {},
     "output_type": "execute_result"
    }
   ],
   "source": [
    "df.shape"
   ]
  },
  {
   "cell_type": "markdown",
   "id": "017fbc11-4b7d-4c0c-980c-630e373ca93c",
   "metadata": {},
   "source": [
    "## Rus train"
   ]
  },
  {
   "cell_type": "code",
   "execution_count": 34,
   "id": "bea5bb8e-c3ec-442b-8540-7c640af938b2",
   "metadata": {},
   "outputs": [
    {
     "data": {
      "text/html": [
       "<div>\n",
       "<style scoped>\n",
       "    .dataframe tbody tr th:only-of-type {\n",
       "        vertical-align: middle;\n",
       "    }\n",
       "\n",
       "    .dataframe tbody tr th {\n",
       "        vertical-align: top;\n",
       "    }\n",
       "\n",
       "    .dataframe thead th {\n",
       "        text-align: right;\n",
       "    }\n",
       "</style>\n",
       "<table border=\"1\" class=\"dataframe\">\n",
       "  <thead>\n",
       "    <tr style=\"text-align: right;\">\n",
       "      <th></th>\n",
       "      <th>problem_text</th>\n",
       "      <th>answer</th>\n",
       "      <th>hint</th>\n",
       "    </tr>\n",
       "    <tr>\n",
       "      <th>problem_id</th>\n",
       "      <th></th>\n",
       "      <th></th>\n",
       "      <th></th>\n",
       "    </tr>\n",
       "  </thead>\n",
       "  <tbody>\n",
       "    <tr>\n",
       "      <th>2374</th>\n",
       "      <td>Найдите значение выражения $\\dfrac{17}{5} :\\df...</td>\n",
       "      <td>1.6</td>\n",
       "      <td>Десятичную в обыкновенную</td>\n",
       "    </tr>\n",
       "    <tr>\n",
       "      <th>4723</th>\n",
       "      <td>В компании из 30 человек 25 пользуются социаль...</td>\n",
       "      <td>24</td>\n",
       "      <td>Диаграмма Венна</td>\n",
       "    </tr>\n",
       "    <tr>\n",
       "      <th>7135</th>\n",
       "      <td>Число дорожно-транспортных происшествий (ДТП) ...</td>\n",
       "      <td>32</td>\n",
       "      <td>дробь в проценты</td>\n",
       "    </tr>\n",
       "    <tr>\n",
       "      <th>5814</th>\n",
       "      <td>Найдите значение выражения $\\dfrac{2\\strut^{-5...</td>\n",
       "      <td>256</td>\n",
       "      <td>свойства степени</td>\n",
       "    </tr>\n",
       "    <tr>\n",
       "      <th>9237</th>\n",
       "      <td>Путешественник из Москвы хочет посетить четыре...</td>\n",
       "      <td>53</td>\n",
       "      <td>перебор</td>\n",
       "    </tr>\n",
       "  </tbody>\n",
       "</table>\n",
       "</div>"
      ],
      "text/plain": [
       "                                                 problem_text answer  \\\n",
       "problem_id                                                             \n",
       "2374        Найдите значение выражения $\\dfrac{17}{5} :\\df...    1.6   \n",
       "4723        В компании из 30 человек 25 пользуются социаль...     24   \n",
       "7135        Число дорожно-транспортных происшествий (ДТП) ...     32   \n",
       "5814        Найдите значение выражения $\\dfrac{2\\strut^{-5...    256   \n",
       "9237        Путешественник из Москвы хочет посетить четыре...     53   \n",
       "\n",
       "                                 hint  \n",
       "problem_id                             \n",
       "2374        Десятичную в обыкновенную  \n",
       "4723                  Диаграмма Венна  \n",
       "7135                 дробь в проценты  \n",
       "5814                 свойства степени  \n",
       "9237                          перебор  "
      ]
     },
     "execution_count": 34,
     "metadata": {},
     "output_type": "execute_result"
    }
   ],
   "source": [
    "df = pd.read_csv(\"data/rus_train.csv\", index_col=0)\n",
    "df.head()"
   ]
  },
  {
   "cell_type": "code",
   "execution_count": 35,
   "id": "99ecf277-4f00-4391-af36-8081b0b49635",
   "metadata": {},
   "outputs": [
    {
     "data": {
      "text/plain": [
       "(100, 3)"
      ]
     },
     "execution_count": 35,
     "metadata": {},
     "output_type": "execute_result"
    }
   ],
   "source": [
    "df.shape"
   ]
  },
  {
   "cell_type": "code",
   "execution_count": null,
   "id": "077f5987-da32-42c8-a0a2-f3b95bf1faa9",
   "metadata": {},
   "outputs": [],
   "source": []
  }
 ],
 "metadata": {
  "kernelspec": {
   "display_name": "Python 3 (ipykernel)",
   "language": "python",
   "name": "python3"
  },
  "language_info": {
   "codemirror_mode": {
    "name": "ipython",
    "version": 3
   },
   "file_extension": ".py",
   "mimetype": "text/x-python",
   "name": "python",
   "nbconvert_exporter": "python",
   "pygments_lexer": "ipython3",
   "version": "3.9.5"
  }
 },
 "nbformat": 4,
 "nbformat_minor": 5
}
