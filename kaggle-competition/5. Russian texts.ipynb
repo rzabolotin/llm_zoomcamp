{
 "cells": [
  {
   "cell_type": "markdown",
   "id": "3a7bc0d0-ea84-42cb-86d4-526e1af07f2b",
   "metadata": {},
   "source": [
    "# Try more complex promt"
   ]
  },
  {
   "cell_type": "code",
   "execution_count": 1,
   "id": "a2c78ebf-1fb5-4f72-b6aa-61d3ed8491a3",
   "metadata": {},
   "outputs": [],
   "source": [
    "import pandas as pd\n",
    "import anthropic"
   ]
  },
  {
   "cell_type": "code",
   "execution_count": 2,
   "id": "e073f897-639b-489e-bf70-c50728b926cf",
   "metadata": {},
   "outputs": [],
   "source": [
    "MODELS = dict(haiku=\"claude-3-haiku-20240307\", sonnet=\"claude-3-5-sonnet-20240620\")"
   ]
  },
  {
   "cell_type": "code",
   "execution_count": 3,
   "id": "70931434-12a2-4c43-bc0a-01ddd3373df7",
   "metadata": {},
   "outputs": [],
   "source": [
    "df = pd.read_csv(\"data/rus_train.csv\", index_col=0)"
   ]
  },
  {
   "cell_type": "code",
   "execution_count": 4,
   "id": "eb80e21b-b8c7-41a4-992a-8f5786bf4925",
   "metadata": {},
   "outputs": [],
   "source": [
    "client = anthropic.Anthropic()"
   ]
  },
  {
   "cell_type": "code",
   "execution_count": 5,
   "id": "f776d6a3-a8cb-43ef-9dc3-9be3d8a2bd2f",
   "metadata": {},
   "outputs": [],
   "source": [
    "def get_answer_4(task, model_name = MODELS['sonnet']): \n",
    "    system = \"\"\"\n",
    "You are tasked with solving a mathematical problem from the Russian EGE (Единый государственный экзамен) exam. Your goal is to provide the correct numerical answer that can be used in a scoring script. Follow these instructions carefully:\n",
    "\n",
    "Read the following mathematical task, which will be presented in Russian:\n",
    "<task>\n",
    "\n",
    "\n",
    "{{TASK}}\n",
    "</task>\n",
    "\n",
    "Solve the problem step by step. Use a logical approach and apply relevant mathematical concepts and formulas. You may think through and explain your process in English.\n",
    "Show your work and explain your reasoning in detail in English. This will help verify the correctness of your solution.\n",
    "After solving the problem, provide your final answer as a single number without any units or additional text.\n",
    "Format your response as follows:\n",
    "<work>\n",
    "[Show your step-by-step solution and explanations here in English]\n",
    "</work>\n",
    "<answer>\n",
    "[Provide only the final numerical answer here]\n",
    "</answer>\n",
    "\n",
    "\n",
    "Important: The <answer> section must contain only the final numerical result, without any additional text, units, or explanations. This is crucial for the scoring script to function correctly.\n",
    "Remember to double-check your calculations and ensure that your final answer accurately reflects the solution to the given task. While the problem is presented in Russian, you should understand it and provide your work and explanations in English, with only the final numerical answer in the <answer> section.\n",
    "\"\"\"\n",
    "    \n",
    "    messages = [\n",
    "        {\n",
    "            \"role\": \"user\",\n",
    "            \"content\": [\n",
    "                {\n",
    "                    \"type\": \"text\",\n",
    "                    \"text\": task\n",
    "                }\n",
    "            ]\n",
    "        }\n",
    "    ]\n",
    "\n",
    "    response = client.messages.create( \n",
    "        model=model_name,\n",
    "        max_tokens=2000,\n",
    "        system=system,\n",
    "        messages=messages\n",
    "    )\n",
    "    return(response.content[0].text)"
   ]
  },
  {
   "cell_type": "code",
   "execution_count": 6,
   "id": "994ec4f9-f3c8-4879-92cd-6a610dba066e",
   "metadata": {},
   "outputs": [
    {
     "data": {
      "text/html": [
       "<div>\n",
       "<style scoped>\n",
       "    .dataframe tbody tr th:only-of-type {\n",
       "        vertical-align: middle;\n",
       "    }\n",
       "\n",
       "    .dataframe tbody tr th {\n",
       "        vertical-align: top;\n",
       "    }\n",
       "\n",
       "    .dataframe thead th {\n",
       "        text-align: right;\n",
       "    }\n",
       "</style>\n",
       "<table border=\"1\" class=\"dataframe\">\n",
       "  <thead>\n",
       "    <tr style=\"text-align: right;\">\n",
       "      <th></th>\n",
       "      <th>problem_text</th>\n",
       "      <th>answer</th>\n",
       "      <th>hint</th>\n",
       "    </tr>\n",
       "    <tr>\n",
       "      <th>problem_id</th>\n",
       "      <th></th>\n",
       "      <th></th>\n",
       "      <th></th>\n",
       "    </tr>\n",
       "  </thead>\n",
       "  <tbody>\n",
       "    <tr>\n",
       "      <th>2374</th>\n",
       "      <td>Найдите значение выражения $\\dfrac{17}{5} :\\df...</td>\n",
       "      <td>1.6</td>\n",
       "      <td>Десятичную в обыкновенную</td>\n",
       "    </tr>\n",
       "    <tr>\n",
       "      <th>4723</th>\n",
       "      <td>В компании из 30 человек 25 пользуются социаль...</td>\n",
       "      <td>24</td>\n",
       "      <td>Диаграмма Венна</td>\n",
       "    </tr>\n",
       "    <tr>\n",
       "      <th>7135</th>\n",
       "      <td>Число дорожно-транспортных происшествий (ДТП) ...</td>\n",
       "      <td>32</td>\n",
       "      <td>дробь в проценты</td>\n",
       "    </tr>\n",
       "    <tr>\n",
       "      <th>5814</th>\n",
       "      <td>Найдите значение выражения $\\dfrac{2\\strut^{-5...</td>\n",
       "      <td>256</td>\n",
       "      <td>свойства степени</td>\n",
       "    </tr>\n",
       "    <tr>\n",
       "      <th>9237</th>\n",
       "      <td>Путешественник из Москвы хочет посетить четыре...</td>\n",
       "      <td>53</td>\n",
       "      <td>перебор</td>\n",
       "    </tr>\n",
       "  </tbody>\n",
       "</table>\n",
       "</div>"
      ],
      "text/plain": [
       "                                                 problem_text answer  \\\n",
       "problem_id                                                             \n",
       "2374        Найдите значение выражения $\\dfrac{17}{5} :\\df...    1.6   \n",
       "4723        В компании из 30 человек 25 пользуются социаль...     24   \n",
       "7135        Число дорожно-транспортных происшествий (ДТП) ...     32   \n",
       "5814        Найдите значение выражения $\\dfrac{2\\strut^{-5...    256   \n",
       "9237        Путешественник из Москвы хочет посетить четыре...     53   \n",
       "\n",
       "                                 hint  \n",
       "problem_id                             \n",
       "2374        Десятичную в обыкновенную  \n",
       "4723                  Диаграмма Венна  \n",
       "7135                 дробь в проценты  \n",
       "5814                 свойства степени  \n",
       "9237                          перебор  "
      ]
     },
     "execution_count": 6,
     "metadata": {},
     "output_type": "execute_result"
    }
   ],
   "source": [
    "df.head()"
   ]
  },
  {
   "cell_type": "code",
   "execution_count": 7,
   "id": "6a8c805d-2232-48ca-a713-e15d987a6815",
   "metadata": {},
   "outputs": [],
   "source": [
    "task, answer, hint = df.iloc[4,]"
   ]
  },
  {
   "cell_type": "code",
   "execution_count": 8,
   "id": "e98efd55-27b1-4fd6-b9ec-acf0fd9684c3",
   "metadata": {},
   "outputs": [],
   "source": [
    "quess = get_answer_4(task)"
   ]
  },
  {
   "cell_type": "code",
   "execution_count": 9,
   "id": "68c1f89f-d347-472b-b926-1d3b8f3a3522",
   "metadata": {},
   "outputs": [
    {
     "name": "stdout",
     "output_type": "stream",
     "text": [
      "Путешественник из Москвы хочет посетить четыре города Золотого кольца России: Владимир, Ярославль, Суздаль и Ростов. Турагентство предлагает маршруты с посещением некоторых городов Золотого кольца. Сведения о стоимости билетов и маршрутах представлены в таблице.\n",
      "\n",
      "\\begin{center}\n",
      "\\begin{tabular}{|c|c|c|c|}\n",
      "\\hline\n",
      "Номер маршрута&Посещаемые города&Стоимость (руб.)\\\\\\hline\n",
      "1&Суздаль, Ярославль, Владимир&3900 \\\\\\hline\n",
      "2&Ростов, Владимир&2400 \\\\\\hline\n",
      "3&Ярославль, Владимир&2100 \\\\\\hline\n",
      "4&Суздаль&1650 \\\\\\hline\n",
      "5&Ростов, Суздаль&2700 \\\\\\hline\n",
      "6&Ярославль, Ростов&2350 \\\\\\hline\n",
      "\\end{tabular}\n",
      "\\end{center}\n",
      "\n",
      "Какие маршруты должен выбрать путешественник, чтобы побывать во всех четырёх городах и затратить менее 5000 рублей?\n",
      "\n",
      "В ответе укажите какой-нибудь один набор номеров маршрутов без пробелов, запятых и других дополнительных символов.\n",
      "Quess = <work>\n",
      "Let's approach this problem step by step:\n",
      "\n",
      "1. We need to find a combination of routes that cover all four cities: Vladimir, Yaroslavl, Suzdal, and Rostov.\n",
      "2. The total cost should be less than 5000 rubles.\n",
      "3. We need to consider all possible combinations of routes that cover all four cities.\n",
      "\n",
      "Let's analyze the routes:\n",
      "\n",
      "Route 1 covers Suzdal, Yaroslavl, and Vladimir for 3900 rubles.\n",
      "Route 2 covers Rostov and Vladimir for 2400 rubles.\n",
      "Route 3 covers Yaroslavl and Vladimir for 2100 rubles.\n",
      "Route 4 covers only Suzdal for 1650 rubles.\n",
      "Route 5 covers Rostov and Suzdal for 2700 rubles.\n",
      "Route 6 covers Yaroslavl and Rostov for 2350 rubles.\n",
      "\n",
      "The most efficient combination would be to choose routes that cover all cities with the least overlap and lowest total cost. \n",
      "\n",
      "Looking at the options, we can see that Route 4 (Suzdal) and Route 6 (Yaroslavl and Rostov) together cover three cities for 1650 + 2350 = 4000 rubles. We still need to cover Vladimir.\n",
      "\n",
      "We can add Route 3 (Yaroslavl and Vladimir) to this combination. Although it repeats Yaroslavl, it's the cheapest way to add Vladimir to our itinerary.\n",
      "\n",
      "So, the final combination is:\n",
      "Route 4 (Suzdal): 1650 rubles\n",
      "Route 6 (Yaroslavl and Rostov): 2350 rubles\n",
      "Route 3 (Yaroslavl and Vladimir): 2100 rubles\n",
      "\n",
      "Total cost: 1650 + 2350 + 2100 = 6100 rubles\n",
      "\n",
      "However, this exceeds our budget of 5000 rubles.\n",
      "\n",
      "The only other possible combination that covers all cities and costs less than 5000 rubles is:\n",
      "Route 3 (Yaroslavl and Vladimir): 2100 rubles\n",
      "Route 5 (Rostov and Suzdal): 2700 rubles\n",
      "\n",
      "Total cost: 2100 + 2700 = 4800 rubles\n",
      "\n",
      "This combination covers all four cities and is within the budget.\n",
      "\n",
      "Therefore, the answer is the combination of routes 3 and 5.\n",
      "</work>\n",
      "\n",
      "<answer>\n",
      "35\n",
      "</answer>\n",
      "Answer = 53\n"
     ]
    }
   ],
   "source": [
    "print(task)\n",
    "print(f\"Quess = {quess}\")\n",
    "print(f\"Answer = {answer}\")"
   ]
  },
  {
   "cell_type": "code",
   "execution_count": 10,
   "id": "ad4ad023-e12d-4387-ac47-518591bd0426",
   "metadata": {},
   "outputs": [],
   "source": [
    "import re\n",
    "\n",
    "def extract_answer_content(text):\n",
    "    pattern = r'<answer>(.*?)</answer>'\n",
    "    match = re.search(pattern, text, re.DOTALL)\n",
    "    if match:\n",
    "        return match.group(1).strip()\n",
    "    else:\n",
    "        return \"No answer found\""
   ]
  },
  {
   "cell_type": "code",
   "execution_count": 11,
   "id": "bbd61cce-b78f-4712-bd74-7b15993f79e6",
   "metadata": {},
   "outputs": [],
   "source": [
    "def get_answer_4(task, model_name = MODELS['sonnet']): \n",
    "    system = \"\"\"\n",
    "You are tasked with solving a mathematical problem from the Russian EGE (Unified State Exam) exam. Your goal is to provide the correct numerical answer that can be used in a scoring script. Follow these instructions carefully:\n",
    "\n",
    "1. Read the following mathematical task:\n",
    "<task>\n",
    "{{TASK}}\n",
    "</task>\n",
    "\n",
    "2. Solve the problem step by step. Use a logical approach and apply relevant mathematical concepts and formulas.\n",
    "\n",
    "3. Show your work and explain your reasoning in detail. This will help verify the correctness of your solution.\n",
    "\n",
    "4. After solving the problem, provide your final answer as a single number without any units or additional text.\n",
    "\n",
    "5. Format your response as follows:\n",
    "   <work>\n",
    "   [Show your step-by-step solution and explanations here]\n",
    "   </work>\n",
    "   \n",
    "   <answer>\n",
    "   [Provide only the final numerical answer here]\n",
    "   </answer>\n",
    "\n",
    "Important: The <answer> section must contain only the final numerical result, without any additional text, units, or explanations. This is crucial for the scoring script to function correctly.\n",
    "\n",
    "Remember to double-check your calculations and ensure that your final answer accurately reflects the solution to the given task.\n",
    "\"\"\"\n",
    "    \n",
    "    messages = [\n",
    "        {\n",
    "            \"role\": \"user\",\n",
    "            \"content\": [\n",
    "                {\n",
    "                    \"type\": \"text\",\n",
    "                    \"text\": task\n",
    "                }\n",
    "            ]\n",
    "        }\n",
    "    ]\n",
    "\n",
    "    response = client.messages.create( \n",
    "        model=model_name,\n",
    "        max_tokens=2000,\n",
    "        system=system,\n",
    "        temperature=0.1,\n",
    "        messages=messages\n",
    "    )\n",
    "    return(extract_answer_content(response.content[0].text))"
   ]
  },
  {
   "cell_type": "code",
   "execution_count": 12,
   "id": "c3a8507b-f9bf-4d9d-ba68-6e1e3bb52872",
   "metadata": {},
   "outputs": [],
   "source": [
    "quess = get_answer_4(task)"
   ]
  },
  {
   "cell_type": "code",
   "execution_count": 13,
   "id": "c600d53b-eb72-4d0a-a50c-dec65d389b19",
   "metadata": {},
   "outputs": [
    {
     "name": "stdout",
     "output_type": "stream",
     "text": [
      "Путешественник из Москвы хочет посетить четыре города Золотого кольца России: Владимир, Ярославль, Суздаль и Ростов. Турагентство предлагает маршруты с посещением некоторых городов Золотого кольца. Сведения о стоимости билетов и маршрутах представлены в таблице.\n",
      "\n",
      "\\begin{center}\n",
      "\\begin{tabular}{|c|c|c|c|}\n",
      "\\hline\n",
      "Номер маршрута&Посещаемые города&Стоимость (руб.)\\\\\\hline\n",
      "1&Суздаль, Ярославль, Владимир&3900 \\\\\\hline\n",
      "2&Ростов, Владимир&2400 \\\\\\hline\n",
      "3&Ярославль, Владимир&2100 \\\\\\hline\n",
      "4&Суздаль&1650 \\\\\\hline\n",
      "5&Ростов, Суздаль&2700 \\\\\\hline\n",
      "6&Ярославль, Ростов&2350 \\\\\\hline\n",
      "\\end{tabular}\n",
      "\\end{center}\n",
      "\n",
      "Какие маршруты должен выбрать путешественник, чтобы побывать во всех четырёх городах и затратить менее 5000 рублей?\n",
      "\n",
      "В ответе укажите какой-нибудь один набор номеров маршрутов без пробелов, запятых и других дополнительных символов.\n",
      "Quess = 35\n",
      "Answer = 53\n"
     ]
    }
   ],
   "source": [
    "print(task)\n",
    "print(f\"Quess = {quess}\")\n",
    "print(f\"Answer = {answer}\")"
   ]
  },
  {
   "cell_type": "markdown",
   "id": "0e92a5f2-28ce-437d-8d86-63c56b23c715",
   "metadata": {},
   "source": [
    "# Try to calculate some more"
   ]
  },
  {
   "cell_type": "code",
   "execution_count": 14,
   "id": "0062d3f3-41e5-4ff4-a537-db47f36bd670",
   "metadata": {},
   "outputs": [],
   "source": [
    "from tqdm import tqdm"
   ]
  },
  {
   "cell_type": "code",
   "execution_count": 16,
   "id": "06bb80b5-43d3-4d4e-98fe-99091238c755",
   "metadata": {},
   "outputs": [
    {
     "name": "stderr",
     "output_type": "stream",
     "text": [
      "100%|███████████████████████████████████████████████████████████████████████████████████| 10/10 [00:57<00:00,  5.71s/it]\n"
     ]
    }
   ],
   "source": [
    "answers = []\n",
    "quesses = []\n",
    "for i in tqdm(range(10)):\n",
    "    task, answer, hint = df.iloc[i,]\n",
    "    quess = get_answer_4(task)\n",
    "    answers.append(answer)\n",
    "    quesses.append(quess)"
   ]
  },
  {
   "cell_type": "code",
   "execution_count": 17,
   "id": "76980808-8b42-49a6-a2e9-1aedebc54ce8",
   "metadata": {},
   "outputs": [],
   "source": [
    "from pprint import pprint"
   ]
  },
  {
   "cell_type": "code",
   "execution_count": 36,
   "id": "efc7fd34-443b-4204-a8e5-c901a954183b",
   "metadata": {},
   "outputs": [
    {
     "name": "stdout",
     "output_type": "stream",
     "text": [
      "[('1.6', '1.6'),\n",
      " ('24', '24'),\n",
      " ('32', '32'),\n",
      " ('256', '256'),\n",
      " ('53', '35'),\n",
      " ('3', '4'),\n",
      " ('27000; 64000', '1256'),\n",
      " ('2', '2'),\n",
      " ('0.1', '0.1'),\n",
      " ('1.2', '1.2')]\n"
     ]
    }
   ],
   "source": [
    "#pprint(list(zip(answers, quesses)))"
   ]
  },
  {
   "cell_type": "code",
   "execution_count": 18,
   "id": "00bd4944-933d-4129-8195-a780d199db70",
   "metadata": {},
   "outputs": [
    {
     "name": "stdout",
     "output_type": "stream",
     "text": [
      "[('1.6', '1.6'),\n",
      " ('24', '24'),\n",
      " ('32', '32'),\n",
      " ('256', '256'),\n",
      " ('53', '35'),\n",
      " ('3', '5'),\n",
      " ('27000; 64000', '1256'),\n",
      " ('2', '2'),\n",
      " ('0.1', '0.1'),\n",
      " ('1.2', '1.2')]\n"
     ]
    }
   ],
   "source": [
    "pprint(list(zip(answers, quesses)))"
   ]
  },
  {
   "cell_type": "code",
   "execution_count": 19,
   "id": "73bc75d9-a91a-4540-a97a-8b279a7fd08c",
   "metadata": {},
   "outputs": [
    {
     "name": "stdout",
     "output_type": "stream",
     "text": [
      "the score is 0.7\n"
     ]
    }
   ],
   "source": [
    "scoreing = sum(x == y for x, y in zip(answers, quesses)) / len(answers)\n",
    "print(f\"the score is {scoreing}\")"
   ]
  },
  {
   "cell_type": "markdown",
   "id": "52b9005c-0b6f-4017-bd3d-d58ddf5ab92b",
   "metadata": {},
   "source": [
    "# Try to sumbit dummy answer"
   ]
  },
  {
   "cell_type": "code",
   "execution_count": 20,
   "id": "2f15f63b-8313-4167-a1a4-9a54a8e64426",
   "metadata": {},
   "outputs": [],
   "source": [
    "def make_submit(answers: pd.Series, filename=\"data/my_submit.csv\"):\n",
    "    answer_df = answers.reset_index()\n",
    "    answer_df.columns = [\"problem_id\", \"answer\"]\n",
    "    answer_df.to_csv(filename, index=False)\n",
    "    "
   ]
  },
  {
   "cell_type": "code",
   "execution_count": 21,
   "id": "de4ad94e-98c6-4314-a9da-0140bb7e871d",
   "metadata": {},
   "outputs": [],
   "source": [
    "test_df = pd.read_csv(\"data/rus_test.csv\", index_col=0)"
   ]
  },
  {
   "cell_type": "code",
   "execution_count": 24,
   "id": "8cae974a-f94e-4df5-ad41-ecd7589774cf",
   "metadata": {},
   "outputs": [],
   "source": [
    "answers = test_df.apply(lambda row: get_answer_4(row['problem_text']), axis=1)"
   ]
  },
  {
   "cell_type": "code",
   "execution_count": 25,
   "id": "1411e7f4-f72f-47f7-9954-2990b516d169",
   "metadata": {},
   "outputs": [],
   "source": [
    "make_submit(answers, filename=\"data/my_submit5.csv\")"
   ]
  },
  {
   "cell_type": "code",
   "execution_count": null,
   "id": "bfa9bf42-1b0c-4a31-ad67-3c76bee9044c",
   "metadata": {},
   "outputs": [],
   "source": []
  }
 ],
 "metadata": {
  "kernelspec": {
   "display_name": "Python 3 (ipykernel)",
   "language": "python",
   "name": "python3"
  },
  "language_info": {
   "codemirror_mode": {
    "name": "ipython",
    "version": 3
   },
   "file_extension": ".py",
   "mimetype": "text/x-python",
   "name": "python",
   "nbconvert_exporter": "python",
   "pygments_lexer": "ipython3",
   "version": "3.9.5"
  }
 },
 "nbformat": 4,
 "nbformat_minor": 5
}
