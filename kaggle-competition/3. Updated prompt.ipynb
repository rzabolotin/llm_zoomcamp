{
 "cells": [
  {
   "cell_type": "markdown",
   "id": "3a7bc0d0-ea84-42cb-86d4-526e1af07f2b",
   "metadata": {},
   "source": [
    "# Try more complex promt"
   ]
  },
  {
   "cell_type": "code",
   "execution_count": 2,
   "id": "a2c78ebf-1fb5-4f72-b6aa-61d3ed8491a3",
   "metadata": {},
   "outputs": [],
   "source": [
    "import pandas as pd\n",
    "import anthropic"
   ]
  },
  {
   "cell_type": "code",
   "execution_count": 3,
   "id": "e073f897-639b-489e-bf70-c50728b926cf",
   "metadata": {},
   "outputs": [],
   "source": [
    "MODELS = dict(haiku=\"claude-3-haiku-20240307\", sonnet=\"claude-3-5-sonnet-20240620\")"
   ]
  },
  {
   "cell_type": "code",
   "execution_count": 4,
   "id": "70931434-12a2-4c43-bc0a-01ddd3373df7",
   "metadata": {},
   "outputs": [],
   "source": [
    "df = pd.read_csv(\"data/train.csv\", index_col=0)"
   ]
  },
  {
   "cell_type": "code",
   "execution_count": 5,
   "id": "eb80e21b-b8c7-41a4-992a-8f5786bf4925",
   "metadata": {},
   "outputs": [],
   "source": [
    "client = anthropic.Anthropic()"
   ]
  },
  {
   "cell_type": "code",
   "execution_count": 21,
   "id": "f776d6a3-a8cb-43ef-9dc3-9be3d8a2bd2f",
   "metadata": {},
   "outputs": [],
   "source": [
    "def get_answer_2(task, model_name = MODELS['sonnet']): \n",
    "    system = \"\"\"\n",
    "You are tasked with solving a mathematical problem from the Russian EGE (Unified State Exam) exam. Your goal is to provide the correct numerical answer that can be used in a scoring script. Follow these instructions carefully:\n",
    "\n",
    "1. Read the following mathematical task:\n",
    "<task>\n",
    "{{TASK}}\n",
    "</task>\n",
    "\n",
    "2. Solve the problem step by step. Use a logical approach and apply relevant mathematical concepts and formulas.\n",
    "\n",
    "3. Show your work and explain your reasoning in detail. This will help verify the correctness of your solution.\n",
    "\n",
    "4. After solving the problem, provide your final answer as a single number without any units or additional text.\n",
    "\n",
    "5. Format your response as follows:\n",
    "   <work>\n",
    "   [Show your step-by-step solution and explanations here]\n",
    "   </work>\n",
    "   \n",
    "   <answer>\n",
    "   [Provide only the final numerical answer here]\n",
    "   </answer>\n",
    "\n",
    "Important: The <answer> section must contain only the final numerical result, without any additional text, units, or explanations. This is crucial for the scoring script to function correctly.\n",
    "\n",
    "Remember to double-check your calculations and ensure that your final answer accurately reflects the solution to the given task.\n",
    "\"\"\"\n",
    "    \n",
    "    messages = [\n",
    "        {\n",
    "            \"role\": \"user\",\n",
    "            \"content\": [\n",
    "                {\n",
    "                    \"type\": \"text\",\n",
    "                    \"text\": task\n",
    "                }\n",
    "            ]\n",
    "        }\n",
    "    ]\n",
    "\n",
    "    response = client.messages.create( \n",
    "        model=model_name,\n",
    "        max_tokens=2000,\n",
    "        system=system,\n",
    "        messages=messages\n",
    "    )\n",
    "    return(response.content[0].text)"
   ]
  },
  {
   "cell_type": "code",
   "execution_count": 18,
   "id": "6a8c805d-2232-48ca-a713-e15d987a6815",
   "metadata": {},
   "outputs": [],
   "source": [
    "task, answer = df.iloc[4,]"
   ]
  },
  {
   "cell_type": "code",
   "execution_count": 22,
   "id": "e98efd55-27b1-4fd6-b9ec-acf0fd9684c3",
   "metadata": {},
   "outputs": [],
   "source": [
    "quess = get_answer_2(task)"
   ]
  },
  {
   "cell_type": "code",
   "execution_count": 23,
   "id": "68c1f89f-d347-472b-b926-1d3b8f3a3522",
   "metadata": {},
   "outputs": [
    {
     "name": "stdout",
     "output_type": "stream",
     "text": [
      "A traveler from Moscow wants to visit four cities of the Golden Ring of Russia: Vladimir, Yaroslavl, Suzdal, and Rostov. The travel agency offers routes that include visits to some of the cities of the Golden Ring. Information about the cost of tickets and routes is presented in the table.\n",
      "\n",
      "\\begin{center}\n",
      "\\begin{tabular}{|c|c|c|c|}\n",
      "\\hline\n",
      "Route number&Visited cities&Cost (rubles)\\\\\\hline\n",
      "1&Suzdal, Yaroslavl, Vladimir&3900 \\\\\\hline\n",
      "2&Rostov, Vladimir&2400 \\\\\\hline\n",
      "3&Yaroslavl, Vladimir&2100 \\\\\\hline\n",
      "4&Suzdal&1650 \\\\\\hline\n",
      "5&Rostov, Suzdal&2700 \\\\\\hline\n",
      "6&Yaroslavl, Rostov&2350 \\\\\\hline\n",
      "\\end{tabular}\n",
      "\\end{center}\n",
      "\n",
      "Which routes should the traveler choose to visit all four cities and spend less than 5000 rubles?\n",
      "\n",
      "In the answer, specify any one set of route numbers without spaces, commas, or other additional symbols.\n",
      "Quess = Let's approach this problem step by step:\n",
      "\n",
      "<work>\n",
      "1) First, we need to find combinations of routes that cover all four cities: Vladimir, Yaroslavl, Suzdal, and Rostov.\n",
      "\n",
      "2) Let's check each route for the cities it covers:\n",
      "   Route 1: Suzdal, Yaroslavl, Vladimir\n",
      "   Route 2: Rostov, Vladimir\n",
      "   Route 3: Yaroslavl, Vladimir\n",
      "   Route 4: Suzdal\n",
      "   Route 5: Rostov, Suzdal\n",
      "   Route 6: Yaroslavl, Rostov\n",
      "\n",
      "3) We need to find combinations that cover all cities and cost less than 5000 rubles.\n",
      "\n",
      "4) Possible combinations:\n",
      "   a) Routes 1 and 2: \n",
      "      Cities: Suzdal, Yaroslavl, Vladimir, Rostov\n",
      "      Cost: 3900 + 2400 = 6300 rubles (exceeds 5000, not suitable)\n",
      "\n",
      "   b) Routes 3 and 5:\n",
      "      Cities: Yaroslavl, Vladimir, Rostov, Suzdal\n",
      "      Cost: 2100 + 2700 = 4800 rubles (under 5000, suitable)\n",
      "\n",
      "   c) Routes 4 and 6:\n",
      "      Cities: Suzdal, Yaroslavl, Rostov\n",
      "      Cost: 1650 + 2350 = 4000 rubles (under 5000, but doesn't cover Vladimir)\n",
      "\n",
      "5) The only combination that covers all four cities and costs less than 5000 rubles is Routes 3 and 5.\n",
      "\n",
      "</work>\n",
      "\n",
      "<answer>\n",
      "35\n",
      "</answer>\n",
      "Answer = 53\n"
     ]
    }
   ],
   "source": [
    "print(task)\n",
    "print(f\"Quess = {quess}\")\n",
    "print(f\"Answer = {answer}\")"
   ]
  },
  {
   "cell_type": "code",
   "execution_count": 24,
   "id": "ad4ad023-e12d-4387-ac47-518591bd0426",
   "metadata": {},
   "outputs": [],
   "source": [
    "import re\n",
    "\n",
    "def extract_answer_content(text):\n",
    "    pattern = r'<answer>(.*?)</answer>'\n",
    "    match = re.search(pattern, text, re.DOTALL)\n",
    "    if match:\n",
    "        return match.group(1).strip()\n",
    "    else:\n",
    "        return \"No answer found\""
   ]
  },
  {
   "cell_type": "code",
   "execution_count": 28,
   "id": "bbd61cce-b78f-4712-bd74-7b15993f79e6",
   "metadata": {},
   "outputs": [],
   "source": [
    "def get_answer_2(task, model_name = MODELS['sonnet']): \n",
    "    system = \"\"\"\n",
    "You are tasked with solving a mathematical problem from the Russian EGE (Unified State Exam) exam. Your goal is to provide the correct numerical answer that can be used in a scoring script. Follow these instructions carefully:\n",
    "\n",
    "1. Read the following mathematical task:\n",
    "<task>\n",
    "{{TASK}}\n",
    "</task>\n",
    "\n",
    "2. Solve the problem step by step. Use a logical approach and apply relevant mathematical concepts and formulas.\n",
    "\n",
    "3. Show your work and explain your reasoning in detail. This will help verify the correctness of your solution.\n",
    "\n",
    "4. After solving the problem, provide your final answer as a single number without any units or additional text.\n",
    "\n",
    "5. Format your response as follows:\n",
    "   <work>\n",
    "   [Show your step-by-step solution and explanations here]\n",
    "   </work>\n",
    "   \n",
    "   <answer>\n",
    "   [Provide only the final numerical answer here]\n",
    "   </answer>\n",
    "\n",
    "Important: The <answer> section must contain only the final numerical result, without any additional text, units, or explanations. This is crucial for the scoring script to function correctly.\n",
    "\n",
    "Remember to double-check your calculations and ensure that your final answer accurately reflects the solution to the given task.\n",
    "\"\"\"\n",
    "    \n",
    "    messages = [\n",
    "        {\n",
    "            \"role\": \"user\",\n",
    "            \"content\": [\n",
    "                {\n",
    "                    \"type\": \"text\",\n",
    "                    \"text\": task\n",
    "                }\n",
    "            ]\n",
    "        }\n",
    "    ]\n",
    "\n",
    "    response = client.messages.create( \n",
    "        model=model_name,\n",
    "        max_tokens=2000,\n",
    "        system=system,\n",
    "        temperature=0.1,\n",
    "        messages=messages\n",
    "    )\n",
    "    return(extract_answer_content(response.content[0].text))"
   ]
  },
  {
   "cell_type": "code",
   "execution_count": 29,
   "id": "c3a8507b-f9bf-4d9d-ba68-6e1e3bb52872",
   "metadata": {},
   "outputs": [],
   "source": [
    "quess = get_answer_2(task)"
   ]
  },
  {
   "cell_type": "code",
   "execution_count": 30,
   "id": "c600d53b-eb72-4d0a-a50c-dec65d389b19",
   "metadata": {},
   "outputs": [
    {
     "name": "stdout",
     "output_type": "stream",
     "text": [
      "A traveler from Moscow wants to visit four cities of the Golden Ring of Russia: Vladimir, Yaroslavl, Suzdal, and Rostov. The travel agency offers routes that include visits to some of the cities of the Golden Ring. Information about the cost of tickets and routes is presented in the table.\n",
      "\n",
      "\\begin{center}\n",
      "\\begin{tabular}{|c|c|c|c|}\n",
      "\\hline\n",
      "Route number&Visited cities&Cost (rubles)\\\\\\hline\n",
      "1&Suzdal, Yaroslavl, Vladimir&3900 \\\\\\hline\n",
      "2&Rostov, Vladimir&2400 \\\\\\hline\n",
      "3&Yaroslavl, Vladimir&2100 \\\\\\hline\n",
      "4&Suzdal&1650 \\\\\\hline\n",
      "5&Rostov, Suzdal&2700 \\\\\\hline\n",
      "6&Yaroslavl, Rostov&2350 \\\\\\hline\n",
      "\\end{tabular}\n",
      "\\end{center}\n",
      "\n",
      "Which routes should the traveler choose to visit all four cities and spend less than 5000 rubles?\n",
      "\n",
      "In the answer, specify any one set of route numbers without spaces, commas, or other additional symbols.\n",
      "Quess = 35\n",
      "Answer = 53\n"
     ]
    }
   ],
   "source": [
    "print(task)\n",
    "print(f\"Quess = {quess}\")\n",
    "print(f\"Answer = {answer}\")"
   ]
  },
  {
   "cell_type": "markdown",
   "id": "0e92a5f2-28ce-437d-8d86-63c56b23c715",
   "metadata": {},
   "source": [
    "# Try to calculate some more"
   ]
  },
  {
   "cell_type": "code",
   "execution_count": 32,
   "id": "0062d3f3-41e5-4ff4-a537-db47f36bd670",
   "metadata": {},
   "outputs": [],
   "source": [
    "from tqdm import tqdm"
   ]
  },
  {
   "cell_type": "code",
   "execution_count": 34,
   "id": "06bb80b5-43d3-4d4e-98fe-99091238c755",
   "metadata": {},
   "outputs": [
    {
     "name": "stderr",
     "output_type": "stream",
     "text": [
      "100%|███████████████████████████████████████████████████████████████████████████████████| 10/10 [00:54<00:00,  5.44s/it]\n"
     ]
    }
   ],
   "source": [
    "answers = []\n",
    "quesses = []\n",
    "for i in tqdm(range(10)):\n",
    "    task, answer = df.iloc[i,]\n",
    "    quess = get_answer_2(task)\n",
    "    answers.append(answer)\n",
    "    quesses.append(quess)"
   ]
  },
  {
   "cell_type": "code",
   "execution_count": 35,
   "id": "76980808-8b42-49a6-a2e9-1aedebc54ce8",
   "metadata": {},
   "outputs": [],
   "source": [
    "from pprint import pprint"
   ]
  },
  {
   "cell_type": "code",
   "execution_count": 36,
   "id": "efc7fd34-443b-4204-a8e5-c901a954183b",
   "metadata": {},
   "outputs": [
    {
     "name": "stdout",
     "output_type": "stream",
     "text": [
      "[('1.6', '1.6'),\n",
      " ('24', '24'),\n",
      " ('32', '32'),\n",
      " ('256', '256'),\n",
      " ('53', '35'),\n",
      " ('3', '4'),\n",
      " ('27000; 64000', '1256'),\n",
      " ('2', '2'),\n",
      " ('0.1', '0.1'),\n",
      " ('1.2', '1.2')]\n"
     ]
    }
   ],
   "source": [
    "pprint(list(zip(answers, quesses)))"
   ]
  },
  {
   "cell_type": "code",
   "execution_count": 37,
   "id": "73bc75d9-a91a-4540-a97a-8b279a7fd08c",
   "metadata": {},
   "outputs": [
    {
     "name": "stdout",
     "output_type": "stream",
     "text": [
      "the score is 0.7\n"
     ]
    }
   ],
   "source": [
    "scoreing = sum(x == y for x, y in zip(answers, quesses)) / len(answers)\n",
    "print(f\"the score is {scoreing}\")"
   ]
  },
  {
   "cell_type": "markdown",
   "id": "52b9005c-0b6f-4017-bd3d-d58ddf5ab92b",
   "metadata": {},
   "source": [
    "# Try to sumbit dummy answer"
   ]
  },
  {
   "cell_type": "code",
   "execution_count": 42,
   "id": "2f15f63b-8313-4167-a1a4-9a54a8e64426",
   "metadata": {},
   "outputs": [],
   "source": [
    "def make_submit(answers: pd.Series, filename=\"data/my_submit.csv\"):\n",
    "    answer_df = answers.reset_index()\n",
    "    answer_df.columns = [\"problem_id\", \"answer\"]\n",
    "    answer_df.to_csv(filename, index=False)\n",
    "    "
   ]
  },
  {
   "cell_type": "code",
   "execution_count": 38,
   "id": "de4ad94e-98c6-4314-a9da-0140bb7e871d",
   "metadata": {},
   "outputs": [],
   "source": [
    "test_df = pd.read_csv(\"data/test.csv\", index_col=0)"
   ]
  },
  {
   "cell_type": "code",
   "execution_count": 43,
   "id": "8cae974a-f94e-4df5-ad41-ecd7589774cf",
   "metadata": {},
   "outputs": [],
   "source": [
    "answers = test_df.apply(lambda row: get_answer_2(row['problem_text']), axis=1)"
   ]
  },
  {
   "cell_type": "code",
   "execution_count": 44,
   "id": "1411e7f4-f72f-47f7-9954-2990b516d169",
   "metadata": {},
   "outputs": [],
   "source": [
    "make_submit(answers)"
   ]
  },
  {
   "cell_type": "code",
   "execution_count": null,
   "id": "bfa9bf42-1b0c-4a31-ad67-3c76bee9044c",
   "metadata": {},
   "outputs": [],
   "source": []
  }
 ],
 "metadata": {
  "kernelspec": {
   "display_name": "Python 3 (ipykernel)",
   "language": "python",
   "name": "python3"
  },
  "language_info": {
   "codemirror_mode": {
    "name": "ipython",
    "version": 3
   },
   "file_extension": ".py",
   "mimetype": "text/x-python",
   "name": "python",
   "nbconvert_exporter": "python",
   "pygments_lexer": "ipython3",
   "version": "3.9.5"
  }
 },
 "nbformat": 4,
 "nbformat_minor": 5
}
