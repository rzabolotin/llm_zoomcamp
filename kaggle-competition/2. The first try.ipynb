{
 "cells": [
  {
   "cell_type": "code",
   "execution_count": 1,
   "id": "3d47cfe3-fee4-4b13-b522-6b99bc122b8d",
   "metadata": {},
   "outputs": [],
   "source": [
    "import pandas as pd\n",
    "import anthropic"
   ]
  },
  {
   "cell_type": "code",
   "execution_count": 2,
   "id": "6a23a750-b3c3-4e5d-8c2e-4cf02cc4ef1e",
   "metadata": {},
   "outputs": [],
   "source": [
    "MODELS = dict(haiku=\"claude-3-haiku-20240307\", sonnet=\"claude-3-5-sonnet-20240620\")"
   ]
  },
  {
   "cell_type": "code",
   "execution_count": 3,
   "id": "c17af263-d13e-4cc1-9da9-43aa0c2c8812",
   "metadata": {},
   "outputs": [],
   "source": [
    "df = pd.read_csv(\"data/train.csv\", index_col=0)"
   ]
  },
  {
   "cell_type": "code",
   "execution_count": 4,
   "id": "a8abaf48-7e85-42d8-b520-3cd046006883",
   "metadata": {},
   "outputs": [
    {
     "data": {
      "text/plain": [
       "'Find the value of the expression $\\\\dfrac{17}{5} :\\\\dfrac{34}{3} +1.3$.'"
      ]
     },
     "execution_count": 4,
     "metadata": {},
     "output_type": "execute_result"
    }
   ],
   "source": [
    "df.iloc[0,0]"
   ]
  },
  {
   "cell_type": "code",
   "execution_count": 5,
   "id": "1a8c5e55-8336-4839-b261-2689935486f9",
   "metadata": {},
   "outputs": [],
   "source": [
    "prompt = df.iloc[0,0]"
   ]
  },
  {
   "cell_type": "code",
   "execution_count": 6,
   "id": "9cbcd9c1-13c8-4b67-9479-b165f6aced0f",
   "metadata": {},
   "outputs": [],
   "source": [
    "client = anthropic.Anthropic()\n"
   ]
  },
  {
   "cell_type": "markdown",
   "id": "f158fa25-55d7-4d9a-ac4b-7cdadd9d665a",
   "metadata": {},
   "source": [
    "## First prompt"
   ]
  },
  {
   "cell_type": "code",
   "execution_count": 7,
   "id": "e593d4b2-23f3-4a7c-8b10-7e8c0c680e8b",
   "metadata": {},
   "outputs": [],
   "source": [
    "response = client.messages.create(\n",
    "    model=\"claude-3-haiku-20240307\",\n",
    "    max_tokens = 500,\n",
    "    messages=[\n",
    "        {\n",
    "          \"role\": \"user\",\n",
    "          \"content\": [\n",
    "            {\n",
    "              \"type\": \"text\",\n",
    "              \"text\": prompt\n",
    "            }\n",
    "          ]\n",
    "        }\n",
    "  ]\n",
    ")\n"
   ]
  },
  {
   "cell_type": "code",
   "execution_count": 8,
   "id": "f43f0951-f618-447b-a82e-dad159ae1088",
   "metadata": {},
   "outputs": [
    {
     "name": "stdout",
     "output_type": "stream",
     "text": [
      "To solve this expression, we need to follow the order of operations: PEMDAS (Parentheses, Exponents, Multiplication and Division, Addition and Subtraction).\n",
      "\n",
      "Given expression: $\\dfrac{17}{5} :\\dfrac{34}{3} +1.3$\n",
      "\n",
      "Step 1: Perform the division operation.\n",
      "$\\dfrac{17}{5} :\\dfrac{34}{3} = \\dfrac{17}{5} \\times \\dfrac{3}{34} = \\dfrac{51}{170}$\n",
      "\n",
      "Step 2: Add the constant 1.3.\n",
      "$\\dfrac{51}{170} + 1.3 = \\dfrac{51}{170} + \\dfrac{130}{100} = \\dfrac{181}{170} + \\dfrac{130}{100} = \\dfrac{181 \\times 100 + 130 \\times 170}{170 \\times 100} = \\dfrac{18100 + 22100}{17000} = \\dfrac{40200}{17000} = \\dfrac{402}{170}$\n",
      "\n",
      "Therefore, the value of the expression $\\dfrac{17}{5} :\\dfrac{34}{3} +1.3$ is $\\dfrac{402}{170}$.\n"
     ]
    }
   ],
   "source": [
    "print(response.content[0].text)"
   ]
  },
  {
   "cell_type": "markdown",
   "id": "b7bdc9e3-d7df-4411-adee-81be3c510888",
   "metadata": {},
   "source": [
    "## Organize the code and write first prompt"
   ]
  },
  {
   "cell_type": "code",
   "execution_count": 9,
   "id": "eaba790e-8e6d-4571-a741-b4107e9f9e53",
   "metadata": {},
   "outputs": [],
   "source": [
    "def get_answer_1(task, model_name = MODELS['sonnet']): \n",
    "    system = \"you are assistant that give correct answers to math tasks, you should only write the numeric answers, or none if you don't know. You should not write ane explanations\"\n",
    "    \n",
    "    messages = [\n",
    "        {\n",
    "            \"role\": \"user\",\n",
    "            \"content\": [\n",
    "                {\n",
    "                    \"type\": \"text\",\n",
    "                    \"text\": task\n",
    "                }\n",
    "            ]\n",
    "        }\n",
    "    ]\n",
    "\n",
    "    response = client.messages.create( \n",
    "        model=model_name,\n",
    "        max_tokens=10,\n",
    "        system=system,\n",
    "        messages=messages\n",
    "    )\n",
    "    return(response.content[0].text)"
   ]
  },
  {
   "cell_type": "code",
   "execution_count": 25,
   "id": "c13944da-53d4-47df-a5d7-51eacdf33f0b",
   "metadata": {},
   "outputs": [],
   "source": [
    "task, answer = df.iloc[0,]"
   ]
  },
  {
   "cell_type": "code",
   "execution_count": 26,
   "id": "6aa1c095-0a36-4e60-b247-fdbe2623f625",
   "metadata": {},
   "outputs": [],
   "source": [
    "quess = get_answer_1(task)"
   ]
  },
  {
   "cell_type": "code",
   "execution_count": 28,
   "id": "2188ac81-4b79-48db-bf1f-47b129220b05",
   "metadata": {},
   "outputs": [
    {
     "name": "stdout",
     "output_type": "stream",
     "text": [
      "Find the value of the expression $\\dfrac{17}{5} :\\dfrac{34}{3} +1.3$.\n",
      "Quess = 0.5\n",
      "Answer = 1.6\n"
     ]
    }
   ],
   "source": [
    "print(task)\n",
    "print(f\"Quess = {quess}\")\n",
    "print(f\"Answer = {answer}\")"
   ]
  },
  {
   "cell_type": "code",
   "execution_count": 31,
   "id": "e1141f24-1c15-431a-8460-44ff37be24e2",
   "metadata": {},
   "outputs": [],
   "source": [
    "quess = get_answer_1(task, model_name=MODELS['haiku'])"
   ]
  },
  {
   "cell_type": "code",
   "execution_count": 32,
   "id": "0799b6e8-5673-4928-97d1-6cc9aa412517",
   "metadata": {},
   "outputs": [
    {
     "name": "stdout",
     "output_type": "stream",
     "text": [
      "Find the value of the expression $\\dfrac{17}{5} :\\dfrac{34}{3} +1.3$.\n",
      "Quess = 2.1\n",
      "Answer = 1.6\n"
     ]
    }
   ],
   "source": [
    "print(task)\n",
    "print(f\"Quess = {quess}\")\n",
    "print(f\"Answer = {answer}\")"
   ]
  },
  {
   "cell_type": "code",
   "execution_count": 38,
   "id": "ade7d1d2-b233-405b-9b14-59ff9a6be533",
   "metadata": {},
   "outputs": [],
   "source": [
    "from tqdm import tqdm"
   ]
  },
  {
   "cell_type": "code",
   "execution_count": 39,
   "id": "3ab85168-41fe-4876-bd23-b4bff4333e92",
   "metadata": {},
   "outputs": [
    {
     "name": "stderr",
     "output_type": "stream",
     "text": [
      "100%|███████████████████████████████████████████████████████████████████████████████████| 10/10 [00:10<00:00,  1.06s/it]\n"
     ]
    }
   ],
   "source": [
    "answers = []\n",
    "quesses = []\n",
    "for i in tqdm(range(10)):\n",
    "    task, answer = df.iloc[i,]\n",
    "    quess = get_answer_1(task)\n",
    "    answers.append(answer)\n",
    "    quesses.append(quess)"
   ]
  },
  {
   "cell_type": "code",
   "execution_count": 45,
   "id": "51a9bf17-52b5-4553-8384-131b92ff382b",
   "metadata": {},
   "outputs": [],
   "source": [
    "from pprint import pprint"
   ]
  },
  {
   "cell_type": "code",
   "execution_count": 46,
   "id": "b3291ffe-78b3-4ae4-b5d2-8cc94a4bcf24",
   "metadata": {},
   "outputs": [
    {
     "name": "stdout",
     "output_type": "stream",
     "text": [
      "[('1.6', '0.5'),\n",
      " ('24', '24'),\n",
      " ('32', '32'),\n",
      " ('256', '256'),\n",
      " ('53', '346'),\n",
      " ('3', '4'),\n",
      " ('27000; 64000', '1728'),\n",
      " ('2', '2'),\n",
      " ('0.1', '0.1'),\n",
      " ('1.2', '\\\\(\\\\frac{6}{\\\\sqrt{')]\n"
     ]
    }
   ],
   "source": [
    "pprint(list(zip(answers, quesses)))"
   ]
  },
  {
   "cell_type": "code",
   "execution_count": 47,
   "id": "617a5361-b564-4b43-9c12-04681b8ba0d4",
   "metadata": {},
   "outputs": [
    {
     "ename": "SyntaxError",
     "evalue": "f-string: closing parenthesis '}' does not match opening parenthesis '(' (105316046.py, line 1)",
     "output_type": "error",
     "traceback": [
      "\u001b[0;36m  Cell \u001b[0;32mIn[47], line 1\u001b[0;36m\u001b[0m\n\u001b[0;31m    print(f\"Percent of right answers: {mean(answers == quesses}\")\u001b[0m\n\u001b[0m                                                                ^\u001b[0m\n\u001b[0;31mSyntaxError\u001b[0m\u001b[0;31m:\u001b[0m f-string: closing parenthesis '}' does not match opening parenthesis '('\n"
     ]
    }
   ],
   "source": [
    "print(f\"Percent of right answers: {mean(answers == quesses}\")"
   ]
  },
  {
   "cell_type": "code",
   "execution_count": 57,
   "id": "df9a2dd2-4e52-4f90-bf8c-74c9286f0501",
   "metadata": {},
   "outputs": [
    {
     "name": "stdout",
     "output_type": "stream",
     "text": [
      "the score is 0.5\n"
     ]
    }
   ],
   "source": [
    "scoreing = sum(x == y for x, y in zip(answers, quesses)) / len(answers)\n",
    "print(f\"the score is {scoreing}\")"
   ]
  },
  {
   "cell_type": "code",
   "execution_count": 58,
   "id": "457acf79-673b-4c7e-bab7-b4370a845d97",
   "metadata": {},
   "outputs": [
    {
     "name": "stderr",
     "output_type": "stream",
     "text": [
      "100%|███████████████████████████████████████████████████████████████████████████████████| 10/10 [00:08<00:00,  1.16it/s]\n"
     ]
    }
   ],
   "source": [
    "answers = []\n",
    "quesses = []\n",
    "for i in tqdm(range(10)):\n",
    "    task, answer = df.iloc[i,]\n",
    "    quess = get_answer_1(task, MODELS['haiku'])\n",
    "    answers.append(answer)\n",
    "    quesses.append(quess)"
   ]
  },
  {
   "cell_type": "code",
   "execution_count": 59,
   "id": "9faa5f61-fc45-45c9-9064-faf7382f8887",
   "metadata": {},
   "outputs": [
    {
     "name": "stdout",
     "output_type": "stream",
     "text": [
      "the score is 0.2\n"
     ]
    }
   ],
   "source": [
    "scoreing = sum(x == y for x, y in zip(answers, quesses)) / len(answers)\n",
    "print(f\"the score is {scoreing}\")"
   ]
  },
  {
   "cell_type": "markdown",
   "id": "84cfaec0-ccf5-4949-8340-5594af1a5db2",
   "metadata": {},
   "source": [
    "## Try to sumbit dummy answer"
   ]
  },
  {
   "cell_type": "code",
   "execution_count": 16,
   "id": "6e930f7e-c581-4965-bba0-a49535a83df3",
   "metadata": {},
   "outputs": [],
   "source": [
    "test_df = pd.read_csv(\"data/test.csv\", index_col=0)"
   ]
  },
  {
   "cell_type": "code",
   "execution_count": 17,
   "id": "720a117e-487b-445d-823b-147b87a7c6f0",
   "metadata": {},
   "outputs": [
    {
     "data": {
      "text/html": [
       "<div>\n",
       "<style scoped>\n",
       "    .dataframe tbody tr th:only-of-type {\n",
       "        vertical-align: middle;\n",
       "    }\n",
       "\n",
       "    .dataframe tbody tr th {\n",
       "        vertical-align: top;\n",
       "    }\n",
       "\n",
       "    .dataframe thead th {\n",
       "        text-align: right;\n",
       "    }\n",
       "</style>\n",
       "<table border=\"1\" class=\"dataframe\">\n",
       "  <thead>\n",
       "    <tr style=\"text-align: right;\">\n",
       "      <th></th>\n",
       "      <th>problem_text</th>\n",
       "    </tr>\n",
       "    <tr>\n",
       "      <th>problem_id</th>\n",
       "      <th></th>\n",
       "    </tr>\n",
       "  </thead>\n",
       "  <tbody>\n",
       "    <tr>\n",
       "      <th>11919</th>\n",
       "      <td>Find the value of the expression \\(4.8 \\cdot 2...</td>\n",
       "    </tr>\n",
       "    <tr>\n",
       "      <th>8513</th>\n",
       "      <td>The plane's navigation system informs the pass...</td>\n",
       "    </tr>\n",
       "    <tr>\n",
       "      <th>7887</th>\n",
       "      <td>The volume of a rectangular parallelepiped is ...</td>\n",
       "    </tr>\n",
       "    <tr>\n",
       "      <th>5272</th>\n",
       "      <td>Find the root of the equation: $\\left(\\dfrac{1...</td>\n",
       "    </tr>\n",
       "    <tr>\n",
       "      <th>8295</th>\n",
       "      <td>At the school, there are two-person camping te...</td>\n",
       "    </tr>\n",
       "  </tbody>\n",
       "</table>\n",
       "</div>"
      ],
      "text/plain": [
       "                                                 problem_text\n",
       "problem_id                                                   \n",
       "11919       Find the value of the expression \\(4.8 \\cdot 2...\n",
       "8513        The plane's navigation system informs the pass...\n",
       "7887        The volume of a rectangular parallelepiped is ...\n",
       "5272        Find the root of the equation: $\\left(\\dfrac{1...\n",
       "8295        At the school, there are two-person camping te..."
      ]
     },
     "execution_count": 17,
     "metadata": {},
     "output_type": "execute_result"
    }
   ],
   "source": [
    "test_df.head()"
   ]
  },
  {
   "cell_type": "code",
   "execution_count": 18,
   "id": "17db6f00-323f-4d0b-91b3-233638002fd1",
   "metadata": {},
   "outputs": [],
   "source": [
    "def dummy_answer(question_text):\n",
    "    return 0"
   ]
  },
  {
   "cell_type": "code",
   "execution_count": 19,
   "id": "736c74f4-8d75-4076-ac6a-e431345d78e5",
   "metadata": {},
   "outputs": [],
   "source": [
    "answers = test_df.apply(lambda row: dummy_answer(row['problem_text']), axis=1)"
   ]
  },
  {
   "cell_type": "code",
   "execution_count": 20,
   "id": "a05958d2-17e9-410c-8ce6-1619cbcec957",
   "metadata": {},
   "outputs": [
    {
     "data": {
      "text/plain": [
       "problem_id\n",
       "11919    0\n",
       "8513     0\n",
       "7887     0\n",
       "5272     0\n",
       "8295     0\n",
       "        ..\n",
       "3519     0\n",
       "7934     0\n",
       "9390     0\n",
       "7137     0\n",
       "5914     0\n",
       "Length: 100, dtype: int64"
      ]
     },
     "execution_count": 20,
     "metadata": {},
     "output_type": "execute_result"
    }
   ],
   "source": [
    "answers"
   ]
  },
  {
   "cell_type": "code",
   "execution_count": 42,
   "id": "09e64a5c-11cf-4ac1-bca1-33bcdf197529",
   "metadata": {},
   "outputs": [],
   "source": [
    "answer_df = answers.reset_index()\n",
    "answer_df.columns = [\"problem_id\", \"answer\"]"
   ]
  },
  {
   "cell_type": "code",
   "execution_count": 43,
   "id": "71457894-cf9a-4c33-88be-49c09266078c",
   "metadata": {},
   "outputs": [],
   "source": [
    "answer_df.to_csv(\"data/my_sumbit.csv\")"
   ]
  },
  {
   "cell_type": "code",
   "execution_count": 50,
   "id": "24f2def7-4961-44fd-b138-ad2301aa2a9a",
   "metadata": {},
   "outputs": [],
   "source": [
    "def make_submit(answers: pd.Series, filename=\"data/my_submit.csv\"):\n",
    "    answer_df = answers.reset_index()\n",
    "    answer_df.columns = [\"problem_id\", \"answer\"]\n",
    "    answer_df.to_csv(filename, index=False)\n",
    "    "
   ]
  },
  {
   "cell_type": "code",
   "execution_count": 51,
   "id": "2a4a9111-bdf2-43e5-8622-33f8ae9d9f8c",
   "metadata": {},
   "outputs": [],
   "source": [
    "make_submit(answers)"
   ]
  },
  {
   "cell_type": "markdown",
   "id": "77a089be-cc08-42af-88db-2df4eed77ec0",
   "metadata": {},
   "source": [
    "# Try claude sonnet decision"
   ]
  },
  {
   "cell_type": "code",
   "execution_count": 52,
   "id": "ecb5afdb-280f-4de6-8f70-bce7ef8a91a7",
   "metadata": {},
   "outputs": [],
   "source": [
    "answers = test_df.apply(lambda row: get_answer_1(row['problem_text']), axis=1)"
   ]
  },
  {
   "cell_type": "code",
   "execution_count": 53,
   "id": "e6f49736-cf53-4569-a875-78a16f6724d7",
   "metadata": {},
   "outputs": [],
   "source": [
    "make_submit(answers)"
   ]
  },
  {
   "cell_type": "code",
   "execution_count": null,
   "id": "dae3b3dc-ae7c-404b-a839-8e4a55405a10",
   "metadata": {},
   "outputs": [],
   "source": []
  }
 ],
 "metadata": {
  "kernelspec": {
   "display_name": "Python 3 (ipykernel)",
   "language": "python",
   "name": "python3"
  },
  "language_info": {
   "codemirror_mode": {
    "name": "ipython",
    "version": 3
   },
   "file_extension": ".py",
   "mimetype": "text/x-python",
   "name": "python",
   "nbconvert_exporter": "python",
   "pygments_lexer": "ipython3",
   "version": "3.9.5"
  }
 },
 "nbformat": 4,
 "nbformat_minor": 5
}
