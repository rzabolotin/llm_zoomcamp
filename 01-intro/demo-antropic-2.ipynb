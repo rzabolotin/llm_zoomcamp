{
 "cells": [
  {
   "cell_type": "code",
   "execution_count": 2,
   "id": "85656f31-444e-485b-bbc2-f740cdad4cc7",
   "metadata": {},
   "outputs": [],
   "source": [
    "import anthropic"
   ]
  },
  {
   "cell_type": "code",
   "execution_count": 3,
   "id": "3e56b2c3-8add-4915-b9b0-7cf39e7106f7",
   "metadata": {},
   "outputs": [],
   "source": [
    "client = anthropic.Anthropic()"
   ]
  },
  {
   "cell_type": "code",
   "execution_count": 4,
   "id": "bc47e11e-1f96-4f44-ac26-5feff9849c06",
   "metadata": {},
   "outputs": [],
   "source": [
    "message = \"How to enroll the course\""
   ]
  },
  {
   "cell_type": "code",
   "execution_count": 5,
   "id": "f180ae6d-4c18-4d98-99da-b52d788ad4bc",
   "metadata": {},
   "outputs": [],
   "source": [
    "client = anthropic.Anthropic()"
   ]
  },
  {
   "cell_type": "code",
   "execution_count": 11,
   "id": "7572f60f-cf4c-43c0-bb5a-3a8632631f4e",
   "metadata": {},
   "outputs": [
    {
     "name": "stdout",
     "output_type": "stream",
     "text": [
      "CPU times: user 9.68 ms, sys: 0 ns, total: 9.68 ms\n",
      "Wall time: 3.08 s\n"
     ]
    }
   ],
   "source": [
    "%%time\n",
    "response = client.messages.create(\n",
    "    model=\"claude-3-haiku-20240307\",\n",
    "    max_tokens = 500,\n",
    "    messages=[\n",
    "        {\n",
    "          \"role\": \"user\",\n",
    "          \"content\": [\n",
    "            {\n",
    "              \"type\": \"text\",\n",
    "              \"text\": message\n",
    "            }\n",
    "          ]\n",
    "        }\n",
    "  ]\n",
    ")\n"
   ]
  },
  {
   "cell_type": "code",
   "execution_count": 18,
   "id": "c05562ac-c881-4a58-bafd-1ea2fada5f93",
   "metadata": {},
   "outputs": [
    {
     "name": "stdout",
     "output_type": "stream",
     "text": [
      "Here are some general steps to enroll in a course:\n",
      "\n",
      "1. Identify the course you want to take. This may involve browsing a school's course catalog or looking at the offerings for a particular program or department.\n",
      "\n",
      "2. Check the enrollment requirements and prerequisites. Make sure you meet any prerequisites like having taken certain prerequisite courses or having a certain level of experience.\n",
      "\n",
      "3. Determine the enrollment deadlines. Most schools have enrollment periods or deadlines by which you need to register for a course.\n",
      "\n",
      "4. Complete the registration or enrollment process. This typically involves accessing the school's registration system, either online or in-person, and providing the required information like your personal details, course selection, and any necessary fees.\n",
      "\n",
      "5. Confirm your enrollment. After registering, check that the course appears on your schedule or student record to verify you are officially enrolled.\n",
      "\n",
      "6. Pay any tuition, fees, or other costs. Enroll in a payment plan if needed and complete any financial aid or scholarship applications.\n",
      "\n",
      "7. Obtain any required course materials like textbooks, supplies, or software before the course begins.\n",
      "\n",
      "The specific steps may vary depending on the school or program you are enrolling in. It's a good idea to check the school's website or speak with an academic advisor for the full details on their enrollment process.\n"
     ]
    }
   ],
   "source": [
    "print(response.content[0].text)"
   ]
  },
  {
   "cell_type": "code",
   "execution_count": null,
   "id": "73eec36f-234a-46e5-b1e2-584209a16de2",
   "metadata": {},
   "outputs": [],
   "source": []
  }
 ],
 "metadata": {
  "kernelspec": {
   "display_name": "Python 3 (ipykernel)",
   "language": "python",
   "name": "python3"
  },
  "language_info": {
   "codemirror_mode": {
    "name": "ipython",
    "version": 3
   },
   "file_extension": ".py",
   "mimetype": "text/x-python",
   "name": "python",
   "nbconvert_exporter": "python",
   "pygments_lexer": "ipython3",
   "version": "3.9.5"
  }
 },
 "nbformat": 4,
 "nbformat_minor": 5
}
