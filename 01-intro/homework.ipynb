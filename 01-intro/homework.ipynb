{
 "cells": [
  {
   "cell_type": "markdown",
   "id": "34787cd6-eb34-44a7-842a-f4959e57ec83",
   "metadata": {},
   "source": [
    "# Q1. Running Elastic\n",
    "\n",
    "Run Elastic Search 8.4.3, and get the cluster information. If you run it on localhost, this is how you do it:\n",
    "\n",
    "Run elastic search image\n",
    "\n",
    "```bash\n",
    "docker run -it \\\n",
    "    --rm \\\n",
    "    --name elasticsearch \\\n",
    "    -p 9200:9200 \\\n",
    "    -p 9300:9300 \\\n",
    "    -e \"discovery.type=single-node\" \\\n",
    "    -e \"xpack.security.enabled=false\" \\\n",
    "    docker.elastic.co/elasticsearch/elasticsearch:8.4.3\n",
    "\n",
    "``` \n",
    "```bash\n",
    "curl localhost:9200\n",
    "```\n",
    "\n",
    "What's the version.build_hash value?"
   ]
  },
  {
   "cell_type": "markdown",
   "id": "829f4861-9031-4dc8-a66b-e7fa8fe6f862",
   "metadata": {},
   "source": [
    "Output:\n",
    "\n",
    "```json\n",
    "{\n",
    "  \"name\" : \"69bf270d13e5\",\n",
    "  \"cluster_name\" : \"docker-cluster\",\n",
    "  \"cluster_uuid\" : \"x95q-KD2Qgq-yB7VBR0opA\",\n",
    "  \"version\" : {\n",
    "    \"number\" : \"8.4.3\",\n",
    "    \"build_flavor\" : \"default\",\n",
    "    \"build_type\" : \"docker\",\n",
    "    \"build_hash\" : \"42f05b9372a9a4a470db3b52817899b99a76ee73\",\n",
    "    \"build_date\" : \"2022-10-04T07:17:24.662462378Z\",\n",
    "    \"build_snapshot\" : false,\n",
    "    \"lucene_version\" : \"9.3.0\",\n",
    "    \"minimum_wire_compatibility_version\" : \"7.17.0\",\n",
    "    \"minimum_index_compatibility_version\" : \"7.0.0\"\n",
    "  },\n",
    "  \"tagline\" : \"You Know, for Search\"\n",
    "}\n",
    "```"
   ]
  },
  {
   "cell_type": "markdown",
   "id": "44652a97-2b41-4e3c-bf1f-3511013e4633",
   "metadata": {},
   "source": [
    "**Answer:** 42f05b9372a9a4a470db3b52817899b99a76ee73"
   ]
  },
  {
   "cell_type": "markdown",
   "id": "bea9813a-58d3-47d3-896c-ac8081c7c1a0",
   "metadata": {},
   "source": [
    "# Getting the data"
   ]
  },
  {
   "cell_type": "code",
   "execution_count": 5,
   "id": "ab301ccd-0592-4ef1-b7f5-62aae4013cb5",
   "metadata": {},
   "outputs": [],
   "source": [
    "import requests \n",
    "\n",
    "docs_url = 'https://github.com/DataTalksClub/llm-zoomcamp/blob/main/01-intro/documents.json?raw=1'\n",
    "docs_response = requests.get(docs_url)\n",
    "documents_raw = docs_response.json()\n",
    "\n",
    "documents = []\n",
    "\n",
    "for course in documents_raw:\n",
    "    course_name = course['course']\n",
    "\n",
    "    for doc in course['documents']:\n",
    "        doc['course'] = course_name\n",
    "        documents.append(doc)"
   ]
  },
  {
   "cell_type": "markdown",
   "id": "30da6b49-bfe1-4d1c-abb9-b38f69dd1307",
   "metadata": {},
   "source": [
    "# Q2. Indexing the data"
   ]
  },
  {
   "cell_type": "markdown",
   "id": "feca5322-aa62-41db-a1f8-af2a6bffd063",
   "metadata": {},
   "source": [
    "Index the data in the same way as was shown in the course videos. Make the course field a keyword and the rest should be text."
   ]
  },
  {
   "cell_type": "code",
   "execution_count": 6,
   "id": "80d299d0-15bb-429f-a536-d475ec9f98b3",
   "metadata": {},
   "outputs": [],
   "source": [
    "from elasticsearch import Elasticsearch"
   ]
  },
  {
   "cell_type": "code",
   "execution_count": 9,
   "id": "e8007541-381d-42cd-a64b-0e51b8bac211",
   "metadata": {},
   "outputs": [],
   "source": [
    "es_client = Elasticsearch('http://localhost:9200')"
   ]
  },
  {
   "cell_type": "code",
   "execution_count": 10,
   "id": "2d8af140-fb83-41e5-bdd4-a1e12aabee23",
   "metadata": {},
   "outputs": [
    {
     "data": {
      "text/plain": [
       "ObjectApiResponse({'acknowledged': True, 'shards_acknowledged': True, 'index': 'course-questions'})"
      ]
     },
     "execution_count": 10,
     "metadata": {},
     "output_type": "execute_result"
    }
   ],
   "source": [
    "index_settings = {\n",
    "    \"settings\": {\n",
    "        \"number_of_shards\": 1,\n",
    "        \"number_of_replicas\": 0\n",
    "    },\n",
    "    \"mappings\": {\n",
    "        \"properties\": {\n",
    "            \"text\": {\"type\": \"text\"},\n",
    "            \"section\": {\"type\": \"text\"},\n",
    "            \"question\": {\"type\": \"text\"},\n",
    "            \"course\": {\"type\": \"keyword\"} \n",
    "        }\n",
    "    }\n",
    "}\n",
    "\n",
    "index_name = \"course-questions\"\n",
    "\n",
    "es_client.indices.create(index=index_name, body=index_settings)"
   ]
  },
  {
   "cell_type": "code",
   "execution_count": 11,
   "id": "b0bc4dd8-4ba6-4458-ab78-e8e17ef4a417",
   "metadata": {},
   "outputs": [
    {
     "name": "stderr",
     "output_type": "stream",
     "text": [
      "/home/roman/.local/share/virtualenvs/llm-zoomcamp-6WKyO3I_/lib/python3.9/site-packages/tqdm/auto.py:21: TqdmWarning: IProgress not found. Please update jupyter and ipywidgets. See https://ipywidgets.readthedocs.io/en/stable/user_install.html\n",
      "  from .autonotebook import tqdm as notebook_tqdm\n"
     ]
    }
   ],
   "source": [
    "from tqdm.auto import tqdm"
   ]
  },
  {
   "cell_type": "code",
   "execution_count": 12,
   "id": "7392a3d2-f764-411d-b115-a6dd9e798eb8",
   "metadata": {},
   "outputs": [
    {
     "name": "stderr",
     "output_type": "stream",
     "text": [
      "100%|████████████████████████████████████████████████████████████████████████████████| 948/948 [00:07<00:00, 121.58it/s]\n"
     ]
    }
   ],
   "source": [
    "for doc in tqdm(documents):\n",
    "    es_client.index(index=index_name, document=doc)"
   ]
  },
  {
   "cell_type": "markdown",
   "id": "7acccc9b-bebb-4803-a81f-0b4f7012f53f",
   "metadata": {},
   "source": [
    "Which function do you use for adding your data to elastic?  \n",
    "**Answer:** index"
   ]
  },
  {
   "cell_type": "markdown",
   "id": "1086f574-aa10-4fcf-8c4d-7a2d1e495e18",
   "metadata": {},
   "source": [
    "# Q3. Searching"
   ]
  },
  {
   "cell_type": "markdown",
   "id": "63ad6a9f-a1cb-4814-8dd7-13ee2ad85988",
   "metadata": {},
   "source": [
    "Now let's search in our index.\n",
    "\n",
    "We will execute a query \"How do I execute a command in a running docker container?\".\n",
    "\n",
    "Use only question and text fields and give question a boost of 4, and use \"type\": \"best_fields\".\n",
    "\n",
    "What's the score for the top ranking result?\n",
    "\n",
    "* 94.05\n",
    "* 84.05\n",
    "* 74.05\n",
    "* 64.05\n",
    "\n",
    "\n",
    "Look at the _score field."
   ]
  },
  {
   "cell_type": "code",
   "execution_count": 13,
   "id": "c51ccef6-ea9a-4206-8a31-37b75fa5eb11",
   "metadata": {},
   "outputs": [],
   "source": [
    "def elastic_search(query, n = 1):\n",
    "    search_query = {\n",
    "        \"size\": n,\n",
    "        \"query\": {\n",
    "            \"bool\": {\n",
    "                \"must\": {\n",
    "                    \"multi_match\": {\n",
    "                        \"query\": query,\n",
    "                        \"fields\": [\"question^4\", \"text\"],\n",
    "                        \"type\": \"best_fields\"\n",
    "                    }\n",
    "                },\n",
    "                #\"filter\": {\n",
    "                #    \"term\": {\n",
    "                #        \"course\": \"data-engineering-zoomcamp\"\n",
    "                #    }\n",
    "                #}\n",
    "            }\n",
    "        }\n",
    "    }\n",
    "\n",
    "    response = es_client.search(index=index_name, body=search_query)\n",
    "    \n",
    "    return response"
   ]
  },
  {
   "cell_type": "code",
   "execution_count": 14,
   "id": "d8388328-6c81-4046-bb31-4c2c7a1c56db",
   "metadata": {},
   "outputs": [
    {
     "name": "stdout",
     "output_type": "stream",
     "text": [
      "\n",
      "Best score: 84.050095\n",
      "Best result: Launch the container image in interactive mode and overriding the entrypoint, so that it starts a bash command.\n",
      "docker run -it --entrypoint bash <image>\n",
      "If the container is already running, execute a command in the specific container:\n",
      "docker ps (find the container-id)\n",
      "docker exec -it <container-id> bash\n",
      "(Marcos MJD)\n",
      "\n"
     ]
    }
   ],
   "source": [
    "a = elastic_search(\"How do I execute a command in a running docker container?\")\n",
    "best_result = a['hits']['hits'][0]\n",
    "print(\"\"\"\n",
    "Best score: {res[_score]}\n",
    "Best result: {res[_source][text]}\n",
    "\"\"\".format(res=best_result, _source='_source', text='text', _score='_score'))"
   ]
  },
  {
   "cell_type": "markdown",
   "id": "fb9097b6-f282-4700-b5b3-ec23c7a0ebee",
   "metadata": {},
   "source": [
    "**Anser:** 84.05"
   ]
  },
  {
   "cell_type": "markdown",
   "id": "8cc99bab-7574-4aa5-89d6-6fedbe8328ab",
   "metadata": {},
   "source": [
    "# Q4. Filtering"
   ]
  },
  {
   "cell_type": "markdown",
   "id": "7309160a-e2ed-4a72-99b7-8084b68d6581",
   "metadata": {},
   "source": [
    "Now let's only limit the questions to machine-learning-zoomcamp.\n",
    "\n",
    "Return 3 results. What's the 3rd question returned by the search engine?\n",
    "\n",
    "* How do I debug a docker container?\n",
    "* How do I copy files from a different folder into docker container’s working directory?\n",
    "* How do Lambda container images work?\n",
    "* How can I annotate a graph?"
   ]
  },
  {
   "cell_type": "code",
   "execution_count": 20,
   "id": "e71ff792-c9b6-4f81-8143-fc66262eb197",
   "metadata": {},
   "outputs": [],
   "source": [
    "def elastic_search_ml(query, n = 1):\n",
    "    search_query = {\n",
    "        \"size\": n,\n",
    "        \"query\": {\n",
    "            \"bool\": {\n",
    "                \"must\": {\n",
    "                    \"multi_match\": {\n",
    "                        \"query\": query,\n",
    "                        \"fields\": [\"question^4\", \"text\"],\n",
    "                        \"type\": \"best_fields\"\n",
    "                    }\n",
    "                },\n",
    "                \"filter\": {\n",
    "                    \"term\": {\n",
    "                        \"course\": \"machine-learning-zoomcamp\"\n",
    "                    }\n",
    "                }\n",
    "            }\n",
    "        }\n",
    "    }\n",
    "\n",
    "    response = es_client.search(index=index_name, body=search_query)\n",
    "    \n",
    "    return response\n",
    "def get_n_question(query, n):\n",
    "    a = elastic_search_ml(query, n)\n",
    "    last_result = a['hits']['hits'][n-1]\n",
    "    print(\"\"\"\n",
    "    Question: {res[_source][question]}\n",
    "    \"\"\".format(res=last_result, _source='_source', question='question', _score='_score'))"
   ]
  },
  {
   "cell_type": "code",
   "execution_count": 21,
   "id": "f3a5ef15-05c1-4e2c-8e7c-3ea7f13cf1aa",
   "metadata": {},
   "outputs": [
    {
     "name": "stdout",
     "output_type": "stream",
     "text": [
      "\n",
      "    Question: How do I copy files from a different folder into docker container’s working directory?\n",
      "    \n"
     ]
    }
   ],
   "source": [
    "get_n_question(\"How do I execute a command in a running docker container?\", 3)"
   ]
  },
  {
   "cell_type": "markdown",
   "id": "de4e8aa9-a5b3-4af9-9849-7cc79e47885e",
   "metadata": {},
   "source": [
    "**Answer**: How do I copy files from a different folder into docker container’s working directory?"
   ]
  },
  {
   "cell_type": "markdown",
   "id": "46dcf1a6-f254-4c14-904c-32c2de50deb1",
   "metadata": {},
   "source": [
    "# Q5. Building a prompt"
   ]
  },
  {
   "cell_type": "code",
   "execution_count": 22,
   "id": "ce57e151-eee6-4182-b76f-a58a60b40255",
   "metadata": {},
   "outputs": [],
   "source": [
    "def elastic_search_ml(query, n = 1):\n",
    "    search_query = {\n",
    "        \"size\": n,\n",
    "        \"query\": {\n",
    "            \"bool\": {\n",
    "                \"must\": {\n",
    "                    \"multi_match\": {\n",
    "                        \"query\": query,\n",
    "                        \"fields\": [\"question^4\", \"text\"],\n",
    "                        \"type\": \"best_fields\"\n",
    "                    }\n",
    "                },\n",
    "                \"filter\": {\n",
    "                    \"term\": {\n",
    "                        \"course\": \"machine-learning-zoomcamp\"\n",
    "                    }\n",
    "                }\n",
    "            }\n",
    "        }\n",
    "    }\n",
    "\n",
    "    response = es_client.search(index=index_name, body=search_query)\n",
    "\n",
    "    result_docs = []\n",
    "    \n",
    "    for hit in response['hits']['hits']:\n",
    "        result_docs.append(hit['_source'])\n",
    "    \n",
    "    return result_docs"
   ]
  },
  {
   "cell_type": "code",
   "execution_count": 23,
   "id": "62452ed5-e47b-4a94-95b6-ce34d82879b7",
   "metadata": {},
   "outputs": [],
   "source": [
    "def build_prompt(query, search_results):\n",
    "    prompt_template = \"\"\"\n",
    "You're a course teaching assistant. Answer the QUESTION based on the CONTEXT from the FAQ database.\n",
    "Use only the facts from the CONTEXT when answering the QUESTION.\n",
    "\n",
    "QUESTION: {question}\n",
    "\n",
    "CONTEXT: \n",
    "{context}\n",
    "\"\"\".strip()\n",
    "\n",
    "    context = \"\"\n",
    "    \n",
    "    for doc in search_results:\n",
    "        context = context + f\"Q: {doc['question']}\\nA: {doc['text']}\\n\\n\"\n",
    "    \n",
    "    prompt = prompt_template.format(question=query, context=context).strip()\n",
    "    return prompt"
   ]
  },
  {
   "cell_type": "code",
   "execution_count": 24,
   "id": "ba58aa05-80cc-45b9-b6fd-568688339283",
   "metadata": {},
   "outputs": [],
   "source": [
    "def rag1(query): \n",
    "    search_results = elastic_search_ml(query, 3)\n",
    "    prompt = build_prompt(query, search_results)\n",
    "    return prompt"
   ]
  },
  {
   "cell_type": "code",
   "execution_count": 25,
   "id": "b4f4dfc5-7946-40c6-9b53-53ea1431bc69",
   "metadata": {},
   "outputs": [
    {
     "data": {
      "text/plain": [
       "1463"
      ]
     },
     "execution_count": 25,
     "metadata": {},
     "output_type": "execute_result"
    }
   ],
   "source": [
    "prompt = rag1(\"How do I execute a command in a running docker container?\")\n",
    "len(prompt)"
   ]
  },
  {
   "cell_type": "markdown",
   "id": "3f06aceb-814b-482f-9384-1157e6f8c3b3",
   "metadata": {},
   "source": [
    "What's the length of the resulting prompt? (use the len function)\n",
    "\n",
    "* 962\n",
    "* **1462**  (as closest)\n",
    "* 1962\n",
    "* 2462"
   ]
  },
  {
   "cell_type": "markdown",
   "id": "312725d4-0261-4106-b2d5-a0019f7fe282",
   "metadata": {},
   "source": [
    "**Answer**: 1462"
   ]
  },
  {
   "cell_type": "markdown",
   "id": "226552c9-a424-4021-a62a-c5ccd4b827d0",
   "metadata": {},
   "source": [
    "# Q6. Tokens"
   ]
  },
  {
   "cell_type": "code",
   "execution_count": 26,
   "id": "337ddf0a-2126-412f-abab-c01b3b10f486",
   "metadata": {},
   "outputs": [
    {
     "name": "stdout",
     "output_type": "stream",
     "text": [
      "Requirement already satisfied: tiktoken in /home/roman/.local/share/virtualenvs/llm-zoomcamp-6WKyO3I_/lib/python3.9/site-packages (0.7.0)\n",
      "Requirement already satisfied: regex>=2022.1.18 in /home/roman/.local/share/virtualenvs/llm-zoomcamp-6WKyO3I_/lib/python3.9/site-packages (from tiktoken) (2024.5.15)\n",
      "Requirement already satisfied: requests>=2.26.0 in /home/roman/.local/share/virtualenvs/llm-zoomcamp-6WKyO3I_/lib/python3.9/site-packages (from tiktoken) (2.32.3)\n",
      "Requirement already satisfied: charset-normalizer<4,>=2 in /home/roman/.local/share/virtualenvs/llm-zoomcamp-6WKyO3I_/lib/python3.9/site-packages (from requests>=2.26.0->tiktoken) (3.3.2)\n",
      "Requirement already satisfied: idna<4,>=2.5 in /home/roman/.local/share/virtualenvs/llm-zoomcamp-6WKyO3I_/lib/python3.9/site-packages (from requests>=2.26.0->tiktoken) (3.7)\n",
      "Requirement already satisfied: urllib3<3,>=1.21.1 in /home/roman/.local/share/virtualenvs/llm-zoomcamp-6WKyO3I_/lib/python3.9/site-packages (from requests>=2.26.0->tiktoken) (2.2.1)\n",
      "Requirement already satisfied: certifi>=2017.4.17 in /home/roman/.local/share/virtualenvs/llm-zoomcamp-6WKyO3I_/lib/python3.9/site-packages (from requests>=2.26.0->tiktoken) (2024.6.2)\n",
      "Note: you may need to restart the kernel to use updated packages.\n"
     ]
    }
   ],
   "source": [
    "pip install tiktoken"
   ]
  },
  {
   "cell_type": "code",
   "execution_count": 27,
   "id": "380f1afa-e1f6-4c5c-a8b7-edd2b353779a",
   "metadata": {},
   "outputs": [],
   "source": [
    "import tiktoken"
   ]
  },
  {
   "cell_type": "code",
   "execution_count": 28,
   "id": "0bfb1476-edb9-46e8-a274-09da249336c9",
   "metadata": {},
   "outputs": [],
   "source": [
    "encoding = tiktoken.encoding_for_model(\"gpt-4o\")"
   ]
  },
  {
   "cell_type": "code",
   "execution_count": 29,
   "id": "07e88820-0496-4b3f-84e5-ade564ed78be",
   "metadata": {},
   "outputs": [
    {
     "data": {
      "text/plain": [
       "323"
      ]
     },
     "execution_count": 29,
     "metadata": {},
     "output_type": "execute_result"
    }
   ],
   "source": [
    "len(encoding.encode(prompt))"
   ]
  },
  {
   "cell_type": "markdown",
   "id": "9b7e0ede-457f-4c06-9283-cda568955ca4",
   "metadata": {},
   "source": [
    "Use the encode function. How many tokens does our prompt have?\n",
    "\n",
    "* 122\n",
    "* 222\n",
    "* **322**\n",
    "* 422\n",
    "\n",
    "  \n",
    "Note: to decode back a token into a word, you can use the decode_single_token_bytes function:"
   ]
  },
  {
   "cell_type": "markdown",
   "id": "25464edb-fb55-4170-b4fb-85804de6a154",
   "metadata": {},
   "source": [
    "**Answer:** 322"
   ]
  },
  {
   "cell_type": "markdown",
   "id": "12a3f58a-40a5-4770-aeda-7167b6e873ad",
   "metadata": {},
   "source": [
    "# Bonus: generating the answer (ungraded)"
   ]
  },
  {
   "cell_type": "markdown",
   "id": "a960bdab-543e-4cd8-aa02-d9f97456a29c",
   "metadata": {},
   "source": [
    "Let's send the prompt to OpenAI. What's the response?\n",
    "\n",
    "Note: you can replace OpenAI with Ollama. See module 2."
   ]
  },
  {
   "cell_type": "code",
   "execution_count": 34,
   "id": "2aefcf71-b32a-49e2-aaf5-2607abfea620",
   "metadata": {},
   "outputs": [],
   "source": [
    "from openai import OpenAI\n",
    "\n",
    "clientO = OpenAI()\n",
    "\n",
    "def llm_openai(prompt):\n",
    "    response = clientO.chat.completions.create(\n",
    "        model='gpt-4o',\n",
    "        messages=[{\"role\": \"user\", \"content\": prompt}]\n",
    "    )\n",
    "    \n",
    "    return response.choices[0].message.content"
   ]
  },
  {
   "cell_type": "code",
   "execution_count": 38,
   "id": "3863f139-02e3-4c96-93ac-e9b1eeec4897",
   "metadata": {},
   "outputs": [
    {
     "name": "stdout",
     "output_type": "stream",
     "text": [
      "To execute a command in a running Docker container, you can follow these steps:\n",
      "\n",
      "1. First, find the container ID of the running container using the `docker ps` command:\n",
      "    ```bash\n",
      "    docker ps\n",
      "    ```\n",
      "2. Then, use the `docker exec` command to execute a command in that specific container. For example, to start a bash session in the container, you can use:\n",
      "    ```bash\n",
      "    docker exec -it <container-id> bash\n",
      "    ```\n",
      "\n",
      "Replace `<container-id>` with the actual container ID obtained from the `docker ps` output.\n"
     ]
    }
   ],
   "source": [
    "response = llm_openai(prompt)\n",
    "print(response)"
   ]
  },
  {
   "cell_type": "markdown",
   "id": "51add485-e872-4c8b-ac3e-7fa85ac1e2bb",
   "metadata": {},
   "source": [
    "# Bonus: calculating the costs (ungraded)"
   ]
  },
  {
   "cell_type": "code",
   "execution_count": 37,
   "id": "ef52c06b-aeb3-457d-b1b5-d1b0f007e853",
   "metadata": {},
   "outputs": [],
   "source": [
    "input_tokens = len(encoding.encode(prompt))"
   ]
  },
  {
   "cell_type": "code",
   "execution_count": 39,
   "id": "5b7cfbcc-4965-4c67-b4fb-890bf0a61e03",
   "metadata": {},
   "outputs": [],
   "source": [
    "output_tokens = len(encoding.encode(response))"
   ]
  },
  {
   "cell_type": "code",
   "execution_count": 41,
   "id": "4134bc00-3b46-4801-85d5-068c091f8445",
   "metadata": {},
   "outputs": [],
   "source": [
    "input_price = 0.005 / 1000\n",
    "output_price = 0.015 / 1000"
   ]
  },
  {
   "cell_type": "code",
   "execution_count": 42,
   "id": "0a2afc2f-e408-45c9-a41a-3030e2a02f49",
   "metadata": {},
   "outputs": [],
   "source": [
    "price_per_1000_requests = 1000 * (input_tokens * input_price + output_tokens * output_price)"
   ]
  },
  {
   "cell_type": "code",
   "execution_count": 44,
   "id": "fdcb862b-6632-4d28-ac22-d041c02d8836",
   "metadata": {},
   "outputs": [
    {
     "name": "stdout",
     "output_type": "stream",
     "text": [
      "The price for 1000 request is 3.40 dollars\n"
     ]
    }
   ],
   "source": [
    "print(f\"The price for 1000 request is {price_per_1000_requests:.2f} dollars\")"
   ]
  }
 ],
 "metadata": {
  "kernelspec": {
   "display_name": "Python 3 (ipykernel)",
   "language": "python",
   "name": "python3"
  },
  "language_info": {
   "codemirror_mode": {
    "name": "ipython",
    "version": 3
   },
   "file_extension": ".py",
   "mimetype": "text/x-python",
   "name": "python",
   "nbconvert_exporter": "python",
   "pygments_lexer": "ipython3",
   "version": "3.9.5"
  }
 },
 "nbformat": 4,
 "nbformat_minor": 5
}
