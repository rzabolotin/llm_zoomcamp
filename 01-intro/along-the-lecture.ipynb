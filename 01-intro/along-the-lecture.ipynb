{
 "cells": [
  {
   "cell_type": "code",
   "execution_count": 1,
   "id": "0bf63a4f-a741-4b4c-8d48-fce4e2c024d9",
   "metadata": {},
   "outputs": [],
   "source": [
    "import minsearch\n",
    "import json"
   ]
  },
  {
   "cell_type": "markdown",
   "id": "62401e7d-4f5e-4d60-9b03-504b52b17f0b",
   "metadata": {},
   "source": [
    "# Read data"
   ]
  },
  {
   "cell_type": "code",
   "execution_count": 2,
   "id": "33ffc664-0b9d-4911-8c35-fcc92e5cde88",
   "metadata": {},
   "outputs": [],
   "source": [
    "with open('documents.json', 'r') as f_in:\n",
    "    raw_doc = json.load(f_in)"
   ]
  },
  {
   "cell_type": "code",
   "execution_count": 3,
   "id": "51a1a99c-e82f-4d0e-9c06-aa3ece7c5209",
   "metadata": {},
   "outputs": [],
   "source": [
    "documents = []\n",
    "for course_dict in raw_doc:\n",
    "    course = course_dict['course']\n",
    "    for doc in course_dict['documents']:\n",
    "        doc['course'] = course\n",
    "        documents.append(doc)"
   ]
  },
  {
   "cell_type": "markdown",
   "id": "5b06fec4-8343-4d08-b508-efc53c7bdb57",
   "metadata": {},
   "source": [
    "# Create minsearch index"
   ]
  },
  {
   "cell_type": "code",
   "execution_count": 4,
   "id": "9fad730c-50ad-4666-a96b-21f5acd69fd3",
   "metadata": {},
   "outputs": [],
   "source": [
    "index = minsearch.Index(\n",
    "    text_fields=[\"question\", \"text\", \"section\"],\n",
    "    keyword_fields=[\"course\"]\n",
    ")"
   ]
  },
  {
   "cell_type": "code",
   "execution_count": 5,
   "id": "efe4bc4f-6af6-46ae-b86e-7b0ec7121fde",
   "metadata": {},
   "outputs": [
    {
     "data": {
      "text/plain": [
       "<minsearch.Index at 0x7f8a05d0a610>"
      ]
     },
     "execution_count": 5,
     "metadata": {},
     "output_type": "execute_result"
    }
   ],
   "source": [
    "index.fit(documents)"
   ]
  },
  {
   "cell_type": "code",
   "execution_count": 6,
   "id": "8d379cd3-957b-42e3-a966-cd7dde0381d2",
   "metadata": {},
   "outputs": [],
   "source": [
    "q = 'the course has already started, can I still enroll?'"
   ]
  },
  {
   "cell_type": "code",
   "execution_count": 7,
   "id": "15a11ced-f9ed-438e-bc4c-8c0b77b77fa2",
   "metadata": {},
   "outputs": [
    {
     "data": {
      "text/plain": [
       "[{'text': 'Yes, you can. You won’t be able to submit some of the homeworks, but you can still take part in the course.\\nIn order to get a certificate, you need to submit 2 out of 3 course projects and review 3 peers’ Projects by the deadline. It means that if you join the course at the end of November and manage to work on two projects, you will still be eligible for a certificate.',\n",
       "  'section': 'General course-related questions',\n",
       "  'question': 'The course has already started. Can I still join it?',\n",
       "  'course': 'machine-learning-zoomcamp'},\n",
       " {'text': \"Yes, even if you don't register, you're still eligible to submit the homeworks.\\nBe aware, however, that there will be deadlines for turning in the final projects. So don't leave everything for the last minute.\",\n",
       "  'section': 'General course-related questions',\n",
       "  'question': 'Course - Can I still join the course after the start date?',\n",
       "  'course': 'data-engineering-zoomcamp'},\n",
       " {'text': 'Yes, we will keep all the materials after the course finishes, so you can follow the course at your own pace after it finishes.\\nYou can also continue looking at the homeworks and continue preparing for the next cohort. I guess you can also start working on your final capstone project.',\n",
       "  'section': 'General course-related questions',\n",
       "  'question': 'Course - Can I follow the course after it finishes?',\n",
       "  'course': 'data-engineering-zoomcamp'},\n",
       " {'text': \"The purpose of this document is to capture frequently asked technical questions\\nThe exact day and hour of the course will be 15th Jan 2024 at 17h00. The course will start with the first  “Office Hours'' live.1\\nSubscribe to course public Google Calendar (it works from Desktop only).\\nRegister before the course starts using this link.\\nJoin the course Telegram channel with announcements.\\nDon’t forget to register in DataTalks.Club's Slack and join the channel.\",\n",
       "  'section': 'General course-related questions',\n",
       "  'question': 'Course - When will the course start?',\n",
       "  'course': 'data-engineering-zoomcamp'},\n",
       " {'text': 'You can start by installing and setting up all the dependencies and requirements:\\nGoogle cloud account\\nGoogle Cloud SDK\\nPython 3 (installed with Anaconda)\\nTerraform\\nGit\\nLook over the prerequisites and syllabus to see if you are comfortable with these subjects.',\n",
       "  'section': 'General course-related questions',\n",
       "  'question': 'Course - What can I do before the course starts?',\n",
       "  'course': 'data-engineering-zoomcamp'}]"
      ]
     },
     "execution_count": 7,
     "metadata": {},
     "output_type": "execute_result"
    }
   ],
   "source": [
    "boost = {'question': 3.0, 'section': 0.5}\n",
    "index.search(\n",
    "    query=q,\n",
    "    boost_dict=boost,\n",
    "    num_results=5\n",
    ")"
   ]
  },
  {
   "cell_type": "code",
   "execution_count": 8,
   "id": "2a2abff4-22e4-40bc-96e1-40576e824a12",
   "metadata": {},
   "outputs": [],
   "source": [
    "def search(query):\n",
    "    boost = {'question': 3.0, 'section': 0.5}\n",
    "    result = index.search(\n",
    "        query=q,\n",
    "        boost_dict=boost,\n",
    "        num_results=5\n",
    "    )\n",
    "    return result"
   ]
  },
  {
   "cell_type": "markdown",
   "id": "ab4c1fec-152e-4212-9db7-2884d2cc2a85",
   "metadata": {},
   "source": [
    "# Use LLM for generation answer"
   ]
  },
  {
   "cell_type": "markdown",
   "id": "3870ade0-9a14-471b-a6a5-7c5e0595f41b",
   "metadata": {},
   "source": [
    "### OpenAI"
   ]
  },
  {
   "cell_type": "code",
   "execution_count": 10,
   "id": "ff4f544a-35d9-46a5-921b-abee22b0713e",
   "metadata": {},
   "outputs": [],
   "source": [
    "from openai import OpenAI"
   ]
  },
  {
   "cell_type": "code",
   "execution_count": 21,
   "id": "9b8a0be1-401f-4a1d-a686-34b91ad1c856",
   "metadata": {},
   "outputs": [],
   "source": [
    "clientO = OpenAI()"
   ]
  },
  {
   "cell_type": "code",
   "execution_count": 22,
   "id": "51ee7404-aac9-4c13-a82b-4f17dc9472df",
   "metadata": {},
   "outputs": [
    {
     "name": "stdout",
     "output_type": "stream",
     "text": [
      "It depends on the specific course and the policies of the institution offering it. Some courses allow late enrollment within a certain timeframe, while others may have strict deadlines. Here are a few steps you can take:\n",
      "\n",
      "1. **Check the Course Policy:** Review the course's official guidelines regarding late enrollment.\n",
      "\n",
      "2. **Contact the Instructor:** Reach out to the course instructor or professor to discuss your situation. They might be able to make an exception or provide guidance on how to catch up on missed material.\n",
      "\n",
      "3. **Consult the Registrar or Admissions Office:** They can provide official information on enrollment deadlines and any potential penalties or additional requirements for late enrollment.\n",
      "\n",
      "4. **Review the Syllabus:** If you can access the syllabus, review it to understand how much material you've missed and what you'll need to do to catch up.\n",
      "\n",
      "5. **Consider the Workload:** Be honest with yourself about your ability to catch up on missed work while keeping up with ongoing assignments.\n",
      "\n",
      "6. **Financial Aid Implications:** If you're receiving financial aid, check with the financial aid office to ensure that late enrollment won’t affect your aid package.\n",
      "\n",
      "Taking these steps can help you make an informed decision about whether late enrollment is feasible for you.\n"
     ]
    }
   ],
   "source": [
    "response = clientO.chat.completions.create(\n",
    "    model='gpt-4o',\n",
    "    messages = [\n",
    "        {\n",
    "            'role': 'user',\n",
    "            'content': q\n",
    "        }\n",
    "    ]\n",
    ")\n",
    "print(response.choices[0].message.content)"
   ]
  },
  {
   "cell_type": "code",
   "execution_count": 19,
   "id": "14cbf802-a967-4252-9ed8-9be4c2a88fd4",
   "metadata": {},
   "outputs": [],
   "source": [
    "from anthropic import Anthropic"
   ]
  },
  {
   "cell_type": "markdown",
   "id": "67be5701-60fb-462d-8af1-e4fcee3001dd",
   "metadata": {},
   "source": [
    "### Anthropic"
   ]
  },
  {
   "cell_type": "code",
   "execution_count": 20,
   "id": "ad21cbf4-7525-4327-a443-4061f3c3c9c7",
   "metadata": {},
   "outputs": [],
   "source": [
    "clientA = Anthropic()"
   ]
  },
  {
   "cell_type": "code",
   "execution_count": 28,
   "id": "07301a75-4881-432d-97c0-f1dfcca27ba7",
   "metadata": {},
   "outputs": [
    {
     "name": "stdout",
     "output_type": "stream",
     "text": [
      "Whether you can still enroll in a course that has already started depends on the policies and deadlines of the specific educational institution or program. Here are a few things to consider:\n",
      "\n",
      "1. Check the enrollment/add deadline: Most institutions have a deadline, usually within the first week or two of the term, when students can still add new courses. This enrollment period is often referred to as the \"add/drop\" period.\n",
      "\n",
      "2. Talk to an academic advisor: If the official add/drop period has passed, reach out to an academic advisor or the registrar's office. Explain your situation and see if they can make an exception or if there are any other options for you to still join the course.\n",
      "\n",
      "3. Seek instructor permission: In some cases, you may be able to get permission directly from the course instructor to enroll late. The instructor may be willing to work with you to help you catch up on any missed material.\n",
      "\n",
      "4. Consider auditing the course: If you can't officially enroll, you may be able to audit the class instead. This allows you to participate without receiving credit or a grade.\n",
      "\n",
      "5. Wait for the next term: If enrolling late is not possible, you may need to wait until the next term or semester to take the course.\n",
      "\n",
      "The best approach is to inquire as soon as possible. The earlier you reach out, the more flexibility the institution may have in accommodating your situation. Be prepared to explain your reasons and any extenuating circumstances.\n"
     ]
    }
   ],
   "source": [
    "response = clientA.messages.create(\n",
    "    model=\"claude-3-haiku-20240307\",\n",
    "    max_tokens = 500,\n",
    "    messages=[\n",
    "        {\n",
    "          \"role\": \"user\",\n",
    "          \"content\": [\n",
    "            {\n",
    "              \"type\": \"text\",\n",
    "              \"text\": q\n",
    "            }\n",
    "          ]\n",
    "        }\n",
    "  ]\n",
    ")\n",
    "print(response.content[0].text)"
   ]
  },
  {
   "cell_type": "markdown",
   "id": "d9308dde-c499-4a6c-8b43-9f69c5145def",
   "metadata": {},
   "source": [
    "# Put together"
   ]
  },
  {
   "cell_type": "code",
   "execution_count": 31,
   "id": "b0dd1b7e-24b7-45be-9f29-003e55115392",
   "metadata": {},
   "outputs": [],
   "source": [
    "prompt_template = \"\"\"\n",
    "You're a course teaching assistant. Answer the QUESTION based on the CONTEXT from the FAQ database.\n",
    "Use only the facts from the CONTEXT when answering the QUESTION.\n",
    "\n",
    "QUESTION: {question}\n",
    "\n",
    "CONTEXT: \n",
    "{context}\n",
    "\"\"\".strip()"
   ]
  },
  {
   "cell_type": "code",
   "execution_count": 34,
   "id": "62d3ccd3-5550-4dc1-b0fe-c672c4cad0f1",
   "metadata": {},
   "outputs": [],
   "source": [
    "def build_prompt(query, search_results):\n",
    "    prompt_template = \"\"\"\n",
    "You're a course teaching assistant. Answer the QUESTION based on the CONTEXT from the FAQ database.\n",
    "Use only the facts from the CONTEXT when answering the QUESTION.\n",
    "\n",
    "QUESTION: {question}\n",
    "\n",
    "CONTEXT: \n",
    "{context}\n",
    "\"\"\".strip()\n",
    "\n",
    "    context = \"\"\n",
    "    \n",
    "    for doc in search_results:\n",
    "        context = context + f\"section: {doc['section']}\\nquestion: {doc['question']}\\nanswer: {doc['text']}\\n\\n\"\n",
    "    \n",
    "    prompt = prompt_template.format(question=query, context=context).strip()\n",
    "    return prompt"
   ]
  },
  {
   "cell_type": "code",
   "execution_count": 35,
   "id": "d7ccc11c-11e8-4191-bfc0-45c7a88dce63",
   "metadata": {},
   "outputs": [],
   "source": [
    "def llm_openai(prompt):\n",
    "    response = clientO.chat.completions.create(\n",
    "        model='gpt-4o',\n",
    "        messages=[{\"role\": \"user\", \"content\": prompt}]\n",
    "    )\n",
    "    \n",
    "    return response.choices[0].message.content"
   ]
  },
  {
   "cell_type": "code",
   "execution_count": 37,
   "id": "54ddb114-0697-4a3d-b4c0-1c87bce12abb",
   "metadata": {},
   "outputs": [],
   "source": [
    "def llm_anth(prompt):\n",
    "    response = clientA.messages.create(\n",
    "        model=\"claude-3-haiku-20240307\",\n",
    "        max_tokens = 500,\n",
    "        messages=[\n",
    "            {\n",
    "              \"role\": \"user\",\n",
    "              \"content\": [\n",
    "                {\n",
    "                  \"type\": \"text\",\n",
    "                  \"text\": prompt\n",
    "                }\n",
    "              ]\n",
    "            }\n",
    "      ]\n",
    "    )\n",
    "    return response.content[0].text"
   ]
  },
  {
   "cell_type": "code",
   "execution_count": 39,
   "id": "f09fb743-a78b-44e4-b907-00cc77811b57",
   "metadata": {},
   "outputs": [],
   "source": [
    "def rag_openai(query):\n",
    "    search_results = search(query)\n",
    "    prompt = build_prompt(query, search_results)\n",
    "    answer = llm_openai(prompt)\n",
    "    return answer\n",
    "\n",
    "def rag_anth(query):\n",
    "    search_results = search(query)\n",
    "    prompt = build_prompt(query, search_results)\n",
    "    answer = llm_anth(prompt)\n",
    "    return answer"
   ]
  },
  {
   "cell_type": "code",
   "execution_count": 41,
   "id": "fe0f9dbf-e3d0-453c-abe5-c4ba865e0764",
   "metadata": {},
   "outputs": [],
   "source": [
    "q = \"how do I run kafka?\""
   ]
  },
  {
   "cell_type": "code",
   "execution_count": 42,
   "id": "6c53b4f0-f5ee-420a-96ad-490f1d939541",
   "metadata": {},
   "outputs": [
    {
     "data": {
      "text/plain": [
       "'To run Kafka for Java in the terminal, navigate to your project directory and use the following command:\\n\\n```bash\\njava -cp build/libs/<jar_name>-1.0-SNAPSHOT.jar:out src/main/java/org/example/JsonProducer.java\\n```\\n\\nMake sure to replace `<jar_name>` with the actual name of your jar file.'"
      ]
     },
     "execution_count": 42,
     "metadata": {},
     "output_type": "execute_result"
    }
   ],
   "source": [
    "rag_openai(q)"
   ]
  },
  {
   "cell_type": "code",
   "execution_count": 43,
   "id": "d77326b6-da3f-48bd-9d8b-2a44247e38db",
   "metadata": {},
   "outputs": [
    {
     "data": {
      "text/plain": [
       "'Based on the context provided in the FAQ database, the answer to the question \"how do I run kafka?\" is:\\n\\nTo run Kafka, you can follow these steps:\\n\\n1. **Java Kafka**:\\n   - In the project directory, run the following command to run the Java Kafka producer, consumer, KStreams, etc.:\\n     ```\\n     java -cp build/libs/<jar_name>-1.0-SNAPSHOT.jar:out src/main/java/org/example/JsonProducer.java\\n     ```\\n\\n2. **Python Kafka**:\\n   - Create a virtual environment and install the necessary packages:\\n     ```\\n     python -m venv env\\n     source env/bin/activate\\n     pip install -r ../requirements.txt\\n     ```\\n   - Activate the virtual environment before running the Python files:\\n     ```\\n     source env/bin/activate\\n     ```\\n   - To deactivate the virtual environment:\\n     ```\\n     deactivate\\n     ```\\n\\nNote that the virtual environment should be created only to run the Python file, and Docker images should be up and running first.'"
      ]
     },
     "execution_count": 43,
     "metadata": {},
     "output_type": "execute_result"
    }
   ],
   "source": [
    "rag_anth(q)"
   ]
  },
  {
   "cell_type": "markdown",
   "id": "d3b83ae0-76e3-469f-b432-3ac5793c8a69",
   "metadata": {},
   "source": [
    "# Use Elastic search"
   ]
  },
  {
   "cell_type": "code",
   "execution_count": null,
   "id": "febbd0c5-ea8b-4b94-80f2-0562304c2c49",
   "metadata": {},
   "outputs": [],
   "source": []
  }
 ],
 "metadata": {
  "kernelspec": {
   "display_name": "Python 3 (ipykernel)",
   "language": "python",
   "name": "python3"
  },
  "language_info": {
   "codemirror_mode": {
    "name": "ipython",
    "version": 3
   },
   "file_extension": ".py",
   "mimetype": "text/x-python",
   "name": "python",
   "nbconvert_exporter": "python",
   "pygments_lexer": "ipython3",
   "version": "3.9.5"
  }
 },
 "nbformat": 4,
 "nbformat_minor": 5
}
