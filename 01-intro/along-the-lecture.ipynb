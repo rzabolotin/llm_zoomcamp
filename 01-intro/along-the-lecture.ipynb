{
 "cells": [
  {
   "cell_type": "code",
   "execution_count": 1,
   "id": "0bf63a4f-a741-4b4c-8d48-fce4e2c024d9",
   "metadata": {},
   "outputs": [],
   "source": [
    "import minsearch\n",
    "import json"
   ]
  },
  {
   "cell_type": "markdown",
   "id": "62401e7d-4f5e-4d60-9b03-504b52b17f0b",
   "metadata": {},
   "source": [
    "# Read data"
   ]
  },
  {
   "cell_type": "code",
   "execution_count": 2,
   "id": "33ffc664-0b9d-4911-8c35-fcc92e5cde88",
   "metadata": {},
   "outputs": [],
   "source": [
    "with open('documents.json', 'r') as f_in:\n",
    "    raw_doc = json.load(f_in)"
   ]
  },
  {
   "cell_type": "code",
   "execution_count": 3,
   "id": "51a1a99c-e82f-4d0e-9c06-aa3ece7c5209",
   "metadata": {},
   "outputs": [],
   "source": [
    "documents = []\n",
    "for course_dict in raw_doc:\n",
    "    course = course_dict['course']\n",
    "    for doc in course_dict['documents']:\n",
    "        doc['course'] = course\n",
    "        documents.append(doc)"
   ]
  },
  {
   "cell_type": "markdown",
   "id": "5b06fec4-8343-4d08-b508-efc53c7bdb57",
   "metadata": {},
   "source": [
    "# Create minsearch index"
   ]
  },
  {
   "cell_type": "code",
   "execution_count": 4,
   "id": "9fad730c-50ad-4666-a96b-21f5acd69fd3",
   "metadata": {},
   "outputs": [],
   "source": [
    "index = minsearch.Index(\n",
    "    text_fields=[\"question\", \"text\", \"section\"],\n",
    "    keyword_fields=[\"course\"]\n",
    ")"
   ]
  },
  {
   "cell_type": "code",
   "execution_count": 5,
   "id": "efe4bc4f-6af6-46ae-b86e-7b0ec7121fde",
   "metadata": {},
   "outputs": [
    {
     "data": {
      "text/plain": [
       "<minsearch.Index at 0x7f0f0442b550>"
      ]
     },
     "execution_count": 5,
     "metadata": {},
     "output_type": "execute_result"
    }
   ],
   "source": [
    "index.fit(documents)"
   ]
  },
  {
   "cell_type": "code",
   "execution_count": 6,
   "id": "8d379cd3-957b-42e3-a966-cd7dde0381d2",
   "metadata": {},
   "outputs": [],
   "source": [
    "q = 'the course has already started, can I still enroll?'"
   ]
  },
  {
   "cell_type": "code",
   "execution_count": 7,
   "id": "15a11ced-f9ed-438e-bc4c-8c0b77b77fa2",
   "metadata": {},
   "outputs": [
    {
     "data": {
      "text/plain": [
       "[{'text': 'Yes, you can. You won’t be able to submit some of the homeworks, but you can still take part in the course.\\nIn order to get a certificate, you need to submit 2 out of 3 course projects and review 3 peers’ Projects by the deadline. It means that if you join the course at the end of November and manage to work on two projects, you will still be eligible for a certificate.',\n",
       "  'section': 'General course-related questions',\n",
       "  'question': 'The course has already started. Can I still join it?',\n",
       "  'course': 'machine-learning-zoomcamp'},\n",
       " {'text': \"Yes, even if you don't register, you're still eligible to submit the homeworks.\\nBe aware, however, that there will be deadlines for turning in the final projects. So don't leave everything for the last minute.\",\n",
       "  'section': 'General course-related questions',\n",
       "  'question': 'Course - Can I still join the course after the start date?',\n",
       "  'course': 'data-engineering-zoomcamp'},\n",
       " {'text': 'Yes, we will keep all the materials after the course finishes, so you can follow the course at your own pace after it finishes.\\nYou can also continue looking at the homeworks and continue preparing for the next cohort. I guess you can also start working on your final capstone project.',\n",
       "  'section': 'General course-related questions',\n",
       "  'question': 'Course - Can I follow the course after it finishes?',\n",
       "  'course': 'data-engineering-zoomcamp'},\n",
       " {'text': \"The purpose of this document is to capture frequently asked technical questions\\nThe exact day and hour of the course will be 15th Jan 2024 at 17h00. The course will start with the first  “Office Hours'' live.1\\nSubscribe to course public Google Calendar (it works from Desktop only).\\nRegister before the course starts using this link.\\nJoin the course Telegram channel with announcements.\\nDon’t forget to register in DataTalks.Club's Slack and join the channel.\",\n",
       "  'section': 'General course-related questions',\n",
       "  'question': 'Course - When will the course start?',\n",
       "  'course': 'data-engineering-zoomcamp'},\n",
       " {'text': 'You can start by installing and setting up all the dependencies and requirements:\\nGoogle cloud account\\nGoogle Cloud SDK\\nPython 3 (installed with Anaconda)\\nTerraform\\nGit\\nLook over the prerequisites and syllabus to see if you are comfortable with these subjects.',\n",
       "  'section': 'General course-related questions',\n",
       "  'question': 'Course - What can I do before the course starts?',\n",
       "  'course': 'data-engineering-zoomcamp'}]"
      ]
     },
     "execution_count": 7,
     "metadata": {},
     "output_type": "execute_result"
    }
   ],
   "source": [
    "boost = {'question': 3.0, 'section': 0.5}\n",
    "index.search(\n",
    "    query=q,\n",
    "    boost_dict=boost,\n",
    "    num_results=5\n",
    ")"
   ]
  },
  {
   "cell_type": "code",
   "execution_count": 8,
   "id": "2a2abff4-22e4-40bc-96e1-40576e824a12",
   "metadata": {},
   "outputs": [],
   "source": [
    "def search(query):\n",
    "    boost = {'question': 3.0, 'section': 0.5}\n",
    "    result = index.search(\n",
    "        query=q,\n",
    "        boost_dict=boost,\n",
    "        num_results=5\n",
    "    )\n",
    "    return result"
   ]
  },
  {
   "cell_type": "markdown",
   "id": "ab4c1fec-152e-4212-9db7-2884d2cc2a85",
   "metadata": {},
   "source": [
    "# Use LLM for generation answer"
   ]
  },
  {
   "cell_type": "markdown",
   "id": "3870ade0-9a14-471b-a6a5-7c5e0595f41b",
   "metadata": {},
   "source": [
    "### OpenAI"
   ]
  },
  {
   "cell_type": "code",
   "execution_count": 9,
   "id": "ff4f544a-35d9-46a5-921b-abee22b0713e",
   "metadata": {},
   "outputs": [],
   "source": [
    "from openai import OpenAI"
   ]
  },
  {
   "cell_type": "code",
   "execution_count": 10,
   "id": "9b8a0be1-401f-4a1d-a686-34b91ad1c856",
   "metadata": {},
   "outputs": [],
   "source": [
    "clientO = OpenAI()"
   ]
  },
  {
   "cell_type": "code",
   "execution_count": 11,
   "id": "51ee7404-aac9-4c13-a82b-4f17dc9472df",
   "metadata": {},
   "outputs": [
    {
     "name": "stdout",
     "output_type": "stream",
     "text": [
      "Yes, many courses allow for late enrollment, especially if they are offered online or have flexible start dates. However, policies on late enrollment can vary depending on the institution or platform offering the course. Here are some steps you can take:\n",
      "\n",
      "1. **Check the Course Website:** Look for information regarding late enrollment or contact details.\n",
      "2. **Contact the Instructor or Administration:** Reach out to the instructor or program administrator to inquire about the possibility of joining late. Explain your situation and express your interest.\n",
      "3. **Review Course Requirements:** Make sure you understand what you might have missed and determine if you can catch up on your own or with some assistance.\n",
      "4. **Consider Alternative Options:** If late enrollment isn't possible, ask if there are other start dates, similar courses, or any recorded sessions that you can attend later.\n",
      "\n",
      "Be sure to act quickly, as the sooner you reach out, the better your chances of being able to join the course.\n"
     ]
    }
   ],
   "source": [
    "response = clientO.chat.completions.create(\n",
    "    model='gpt-4o',\n",
    "    messages = [\n",
    "        {\n",
    "            'role': 'user',\n",
    "            'content': q\n",
    "        }\n",
    "    ]\n",
    ")\n",
    "print(response.choices[0].message.content)"
   ]
  },
  {
   "cell_type": "markdown",
   "id": "67be5701-60fb-462d-8af1-e4fcee3001dd",
   "metadata": {},
   "source": [
    "### Anthropic"
   ]
  },
  {
   "cell_type": "code",
   "execution_count": 13,
   "id": "14cbf802-a967-4252-9ed8-9be4c2a88fd4",
   "metadata": {},
   "outputs": [],
   "source": [
    "from anthropic import Anthropic"
   ]
  },
  {
   "cell_type": "code",
   "execution_count": 14,
   "id": "ad21cbf4-7525-4327-a443-4061f3c3c9c7",
   "metadata": {},
   "outputs": [],
   "source": [
    "clientA = Anthropic()"
   ]
  },
  {
   "cell_type": "code",
   "execution_count": 15,
   "id": "07301a75-4881-432d-97c0-f1dfcca27ba7",
   "metadata": {},
   "outputs": [
    {
     "name": "stdout",
     "output_type": "stream",
     "text": [
      "The answer to whether you can still enroll in a course that has already started depends on the specific policies and procedures of the educational institution offering the course. Here are a few key things to consider:\n",
      "\n",
      "1. Enrollment deadlines: Most institutions have strict enrollment deadlines, often within the first week or two of the course starting. If you try to enroll after this deadline has passed, you may not be able to do so.\n",
      "\n",
      "2. Late enrollment: Some institutions may allow late enrollment, but this is usually subject to certain conditions. For example, you may need to obtain special permission from the instructor or department, or there may be additional fees associated with late enrollment.\n",
      "\n",
      "3. Missed content: If you do manage to enroll after the course has already started, you will likely have missed some of the course material and activities. It's important to consider whether you can catch up on the missed content and meet the course requirements.\n",
      "\n",
      "4. Attendance and participation: Many courses have attendance and participation requirements that may be difficult to fulfill if you join late.\n",
      "\n",
      "To find out if you can still enroll, it's best to contact the institution's registrar's office or the department offering the course as soon as possible. They will be able to provide you with the specific policies and procedures for late enrollment, as well as advise you on the best course of action.\n"
     ]
    }
   ],
   "source": [
    "response = clientA.messages.create(\n",
    "    model=\"claude-3-haiku-20240307\",\n",
    "    max_tokens = 500,\n",
    "    messages=[\n",
    "        {\n",
    "          \"role\": \"user\",\n",
    "          \"content\": [\n",
    "            {\n",
    "              \"type\": \"text\",\n",
    "              \"text\": q\n",
    "            }\n",
    "          ]\n",
    "        }\n",
    "  ]\n",
    ")\n",
    "print(response.content[0].text)"
   ]
  },
  {
   "cell_type": "markdown",
   "id": "d9308dde-c499-4a6c-8b43-9f69c5145def",
   "metadata": {},
   "source": [
    "# Put together"
   ]
  },
  {
   "cell_type": "code",
   "execution_count": 16,
   "id": "b0dd1b7e-24b7-45be-9f29-003e55115392",
   "metadata": {},
   "outputs": [],
   "source": [
    "prompt_template = \"\"\"\n",
    "You're a course teaching assistant. Answer the QUESTION based on the CONTEXT from the FAQ database.\n",
    "Use only the facts from the CONTEXT when answering the QUESTION.\n",
    "\n",
    "QUESTION: {question}\n",
    "\n",
    "CONTEXT: \n",
    "{context}\n",
    "\"\"\".strip()"
   ]
  },
  {
   "cell_type": "code",
   "execution_count": 17,
   "id": "62d3ccd3-5550-4dc1-b0fe-c672c4cad0f1",
   "metadata": {},
   "outputs": [],
   "source": [
    "def build_prompt(query, search_results):\n",
    "    prompt_template = \"\"\"\n",
    "You're a course teaching assistant. Answer the QUESTION based on the CONTEXT from the FAQ database.\n",
    "Use only the facts from the CONTEXT when answering the QUESTION.\n",
    "\n",
    "QUESTION: {question}\n",
    "\n",
    "CONTEXT:\n",
    "{context}\n",
    "\"\"\".strip()\n",
    "\n",
    "    context = \"\"\n",
    "    \n",
    "    for doc in search_results:\n",
    "        context = context + f\"section: {doc['section']}\\nquestion: {doc['question']}\\nanswer: {doc['text']}\\n\\n\"\n",
    "    \n",
    "    prompt = prompt_template.format(question=query, context=context).strip()\n",
    "    return prompt"
   ]
  },
  {
   "cell_type": "code",
   "execution_count": 18,
   "id": "d7ccc11c-11e8-4191-bfc0-45c7a88dce63",
   "metadata": {},
   "outputs": [],
   "source": [
    "def llm_openai(prompt):\n",
    "    response = clientO.chat.completions.create(\n",
    "        model='gpt-4o',\n",
    "        messages=[{\"role\": \"user\", \"content\": prompt}]\n",
    "    )\n",
    "    \n",
    "    return response.choices[0].message.content"
   ]
  },
  {
   "cell_type": "code",
   "execution_count": 19,
   "id": "54ddb114-0697-4a3d-b4c0-1c87bce12abb",
   "metadata": {},
   "outputs": [],
   "source": [
    "def llm_anth(prompt):\n",
    "    response = clientA.messages.create(\n",
    "        model=\"claude-3-haiku-20240307\",\n",
    "        max_tokens = 500,\n",
    "        messages=[\n",
    "            {\n",
    "              \"role\": \"user\",\n",
    "              \"content\": [\n",
    "                {\n",
    "                  \"type\": \"text\",\n",
    "                  \"text\": prompt\n",
    "                }\n",
    "              ]\n",
    "            }\n",
    "      ]\n",
    "    )\n",
    "    return response.content[0].text"
   ]
  },
  {
   "cell_type": "code",
   "execution_count": 20,
   "id": "f09fb743-a78b-44e4-b907-00cc77811b57",
   "metadata": {},
   "outputs": [],
   "source": [
    "def rag_openai(query):\n",
    "    search_results = search(query)\n",
    "    prompt = build_prompt(query, search_results)\n",
    "    answer = llm_openai(prompt)\n",
    "    return answer\n",
    "\n",
    "def rag_anth(query):\n",
    "    search_results = search(query)\n",
    "    prompt = build_prompt(query, search_results)\n",
    "    answer = llm_anth(prompt)\n",
    "    return answer"
   ]
  },
  {
   "cell_type": "code",
   "execution_count": 21,
   "id": "fe0f9dbf-e3d0-453c-abe5-c4ba865e0764",
   "metadata": {},
   "outputs": [],
   "source": [
    "q = \"how do I run kafka?\""
   ]
  },
  {
   "cell_type": "code",
   "execution_count": 22,
   "id": "6c53b4f0-f5ee-420a-96ad-490f1d939541",
   "metadata": {},
   "outputs": [
    {
     "data": {
      "text/plain": [
       "\"To run Kafka producer, consumer, kstreams, etc., in the terminal, follow these steps from the project directory:\\n\\n1. If you're working with Java, use the following command:\\n    ```\\n    java -cp build/libs/<jar_name>-1.0-SNAPSHOT.jar:out src/main/java/org/example/JsonProducer.java\\n    ```\\n\\n2. If you're working with Python and encounter issues:\\n    - Create a virtual environment and install the necessary packages:\\n        ```\\n        python -m venv env\\n        source env/bin/activate\\n        pip install -r ../requirements.txt\\n        ```\\n    - Activate the virtual environment each time you need it:\\n        ```\\n        source env/bin/activate\\n        ```\\n    - Deactivate the environment when done:\\n        ```\\n        deactivate\\n        ```\\n    Note that for Windows, the command to activate the virtual environment is slightly different:\\n    ```\\n    env\\\\Scripts\\\\activate\\n    ```\\n\\nEnsure that Docker images are up and running before creating the virtual environment for running the Python files.\""
      ]
     },
     "execution_count": 22,
     "metadata": {},
     "output_type": "execute_result"
    }
   ],
   "source": [
    "rag_openai(q)"
   ]
  },
  {
   "cell_type": "code",
   "execution_count": 43,
   "id": "d77326b6-da3f-48bd-9d8b-2a44247e38db",
   "metadata": {},
   "outputs": [
    {
     "data": {
      "text/plain": [
       "'Based on the context provided in the FAQ database, the answer to the question \"how do I run kafka?\" is:\\n\\nTo run Kafka, you can follow these steps:\\n\\n1. **Java Kafka**:\\n   - In the project directory, run the following command to run the Java Kafka producer, consumer, KStreams, etc.:\\n     ```\\n     java -cp build/libs/<jar_name>-1.0-SNAPSHOT.jar:out src/main/java/org/example/JsonProducer.java\\n     ```\\n\\n2. **Python Kafka**:\\n   - Create a virtual environment and install the necessary packages:\\n     ```\\n     python -m venv env\\n     source env/bin/activate\\n     pip install -r ../requirements.txt\\n     ```\\n   - Activate the virtual environment before running the Python files:\\n     ```\\n     source env/bin/activate\\n     ```\\n   - To deactivate the virtual environment:\\n     ```\\n     deactivate\\n     ```\\n\\nNote that the virtual environment should be created only to run the Python file, and Docker images should be up and running first.'"
      ]
     },
     "execution_count": 43,
     "metadata": {},
     "output_type": "execute_result"
    }
   ],
   "source": [
    "rag_anth(q)"
   ]
  },
  {
   "cell_type": "markdown",
   "id": "d3b83ae0-76e3-469f-b432-3ac5793c8a69",
   "metadata": {},
   "source": [
    "# Use Elastic search"
   ]
  },
  {
   "cell_type": "markdown",
   "id": "ae647cfc-47cb-424e-a00a-1845435a9735",
   "metadata": {},
   "source": [
    "Run elastic search image\n",
    "```bash\n",
    "docker run -it \\\n",
    "    --rm \\\n",
    "    --name elasticsearch \\\n",
    "    -p 9200:9200 \\\n",
    "    -p 9300:9300 \\\n",
    "    -e \"discovery.type=single-node\" \\\n",
    "    -e \"xpack.security.enabled=false\" \\\n",
    "    docker.elastic.co/elasticsearch/elasticsearch:8.4.3\n",
    "```"
   ]
  },
  {
   "cell_type": "code",
   "execution_count": 1,
   "id": "febbd0c5-ea8b-4b94-80f2-0562304c2c49",
   "metadata": {},
   "outputs": [],
   "source": [
    "from elasticsearch import Elasticsearch"
   ]
  },
  {
   "cell_type": "code",
   "execution_count": 24,
   "id": "9aadb784-e750-486a-af00-b25641053847",
   "metadata": {},
   "outputs": [],
   "source": [
    "es_client = Elasticsearch('http://localhost:9200')"
   ]
  },
  {
   "cell_type": "code",
   "execution_count": 26,
   "id": "a7e67508-00f9-455d-99a2-5fc228acdf91",
   "metadata": {},
   "outputs": [
    {
     "data": {
      "text/plain": [
       "ObjectApiResponse({'acknowledged': True, 'shards_acknowledged': True, 'index': 'course-questions'})"
      ]
     },
     "execution_count": 26,
     "metadata": {},
     "output_type": "execute_result"
    }
   ],
   "source": [
    "index_settings = {\n",
    "    \"settings\": {\n",
    "        \"number_of_shards\": 1,\n",
    "        \"number_of_replicas\": 0\n",
    "    },\n",
    "    \"mappings\": {\n",
    "        \"properties\": {\n",
    "            \"text\": {\"type\": \"text\"},\n",
    "            \"section\": {\"type\": \"text\"},\n",
    "            \"question\": {\"type\": \"text\"},\n",
    "            \"course\": {\"type\": \"keyword\"} \n",
    "        }\n",
    "    }\n",
    "}\n",
    "\n",
    "index_name = \"course-questions\"\n",
    "\n",
    "es_client.indices.create(index=index_name, body=index_settings)"
   ]
  },
  {
   "cell_type": "code",
   "execution_count": 27,
   "id": "bb909460-3e97-4589-8ee3-f5191f696082",
   "metadata": {},
   "outputs": [
    {
     "name": "stderr",
     "output_type": "stream",
     "text": [
      "/home/roman/.local/share/virtualenvs/llm-zoomcamp-6WKyO3I_/lib/python3.9/site-packages/tqdm/auto.py:21: TqdmWarning: IProgress not found. Please update jupyter and ipywidgets. See https://ipywidgets.readthedocs.io/en/stable/user_install.html\n",
      "  from .autonotebook import tqdm as notebook_tqdm\n"
     ]
    }
   ],
   "source": [
    "from tqdm.auto import tqdm"
   ]
  },
  {
   "cell_type": "code",
   "execution_count": 28,
   "id": "2fc4079b-c155-4c18-9a43-5064baceaa09",
   "metadata": {},
   "outputs": [
    {
     "name": "stderr",
     "output_type": "stream",
     "text": [
      "100%|████████████████████████████████████████████████████████████████████████████████| 948/948 [00:08<00:00, 114.92it/s]\n"
     ]
    }
   ],
   "source": [
    "for doc in tqdm(documents):\n",
    "    es_client.index(index=index_name, document=doc)"
   ]
  },
  {
   "cell_type": "code",
   "execution_count": 29,
   "id": "013dd2bd-3d29-4fb2-9130-fa71c0273041",
   "metadata": {},
   "outputs": [],
   "source": [
    "def elastic_search(query):\n",
    "    search_query = {\n",
    "        \"size\": 5,\n",
    "        \"query\": {\n",
    "            \"bool\": {\n",
    "                \"must\": {\n",
    "                    \"multi_match\": {\n",
    "                        \"query\": query,\n",
    "                        \"fields\": [\"question^3\", \"text\", \"section\"],\n",
    "                        \"type\": \"best_fields\"\n",
    "                    }\n",
    "                },\n",
    "                \"filter\": {\n",
    "                    \"term\": {\n",
    "                        \"course\": \"data-engineering-zoomcamp\"\n",
    "                    }\n",
    "                }\n",
    "            }\n",
    "        }\n",
    "    }\n",
    "\n",
    "    response = es_client.search(index=index_name, body=search_query)\n",
    "    \n",
    "    result_docs = []\n",
    "    \n",
    "    for hit in response['hits']['hits']:\n",
    "        result_docs.append(hit['_source'])\n",
    "    \n",
    "    return result_docs"
   ]
  },
  {
   "cell_type": "code",
   "execution_count": 30,
   "id": "d5752cef-1a39-427b-8ec3-be9398d16493",
   "metadata": {},
   "outputs": [
    {
     "data": {
      "text/plain": [
       "[{'text': \"Answer: To run the provided code, ensure that the 'dlt[duckdb]' package is installed. You can do this by executing the provided installation command: !pip install dlt[duckdb]. If you’re doing it locally, be sure to also have duckdb pip installed (even before the duckdb package is loaded).\",\n",
       "  'section': 'Workshop 1 - dlthub',\n",
       "  'question': 'How do I install the necessary dependencies to run the code?',\n",
       "  'course': 'data-engineering-zoomcamp'},\n",
       " {'text': 'In the project directory, run:\\njava -cp build/libs/<jar_name>-1.0-SNAPSHOT.jar:out src/main/java/org/example/JsonProducer.java',\n",
       "  'section': 'Module 6: streaming with kafka',\n",
       "  'question': 'Java Kafka: How to run producer/consumer/kstreams/etc in terminal',\n",
       "  'course': 'data-engineering-zoomcamp'},\n",
       " {'text': 'After you create a GitHub account, you should clone the course repo to your local machine using the process outlined in this video: Git for Everybody: How to Clone a Repository from GitHub\\nHaving this local repository on your computer will make it easy for you to access the instructors’ code and make pull requests (if you want to add your own notes or make changes to the course content).\\nYou will probably also create your own repositories that host your notes, versions of your file, to do this. Here is a great tutorial that shows you how to do this: https://www.atlassian.com/git/tutorials/setting-up-a-repository\\nRemember to ignore large database, .csv, and .gz files, and other files that should not be saved to a repository. Use .gitignore for this: https://www.atlassian.com/git/tutorials/saving-changes/gitignore NEVER store passwords or keys in a git repo (even if that repo is set to private).\\nThis is also a great resource: https://dangitgit.com/',\n",
       "  'section': 'General course-related questions',\n",
       "  'question': 'How do I use Git / GitHub for this course?',\n",
       "  'course': 'data-engineering-zoomcamp'},\n",
       " {'text': \"Solution from Alexey: create a virtual environment and run requirements.txt and the python files in that environment.\\nTo create a virtual env and install packages (run only once)\\npython -m venv env\\nsource env/bin/activate\\npip install -r ../requirements.txt\\nTo activate it (you'll need to run it every time you need the virtual env):\\nsource env/bin/activate\\nTo deactivate it:\\ndeactivate\\nThis works on MacOS, Linux and Windows - but for Windows the path is slightly different (it's env/Scripts/activate)\\nAlso the virtual environment should be created only to run the python file. Docker images should first all be up and running.\",\n",
       "  'section': 'Module 6: streaming with kafka',\n",
       "  'question': 'Module “kafka” not found when trying to run producer.py',\n",
       "  'course': 'data-engineering-zoomcamp'},\n",
       " {'text': 'You can check the version of your local spark using spark-submit --version. In the build.sh file of the Python folder, make sure that SPARK_VERSION matches your local version. Similarly, make sure the pyspark you pip installed also matches this version.',\n",
       "  'section': 'Module 6: streaming with kafka',\n",
       "  'question': 'How do I check compatibility of local and container Spark versions?',\n",
       "  'course': 'data-engineering-zoomcamp'}]"
      ]
     },
     "execution_count": 30,
     "metadata": {},
     "output_type": "execute_result"
    }
   ],
   "source": [
    "elastic_search(q)"
   ]
  },
  {
   "cell_type": "code",
   "execution_count": 31,
   "id": "c4ed8c9f-ad88-47ac-a8e8-1ad41d181016",
   "metadata": {},
   "outputs": [],
   "source": [
    "def rag_openai_es(query):\n",
    "    search_results = elastic_search(query)\n",
    "    prompt = build_prompt(query, search_results)\n",
    "    answer = llm_openai(prompt)\n",
    "    return answer"
   ]
  },
  {
   "cell_type": "code",
   "execution_count": 32,
   "id": "bad0b836-47c4-47be-ad55-0ae33b031bb6",
   "metadata": {},
   "outputs": [
    {
     "data": {
      "text/plain": [
       "'To run Kafka, follow the instructions provided for running Java Kafka producer/consumer/KStreams/etc in the terminal from the course content:\\n\\nIn the project directory, execute the following command:\\n```bash\\njava -cp build/libs/<jar_name>-1.0-SNAPSHOT.jar:out src/main/java/org/example/JsonProducer.java\\n```\\n\\nMake sure to replace `<jar_name>` with the actual name of your JAR file. This command will start the desired Kafka component (producer, in this example) specified in the Java class file `JsonProducer.java`.'"
      ]
     },
     "execution_count": 32,
     "metadata": {},
     "output_type": "execute_result"
    }
   ],
   "source": [
    "rag_openai_es(q)"
   ]
  },
  {
   "cell_type": "code",
   "execution_count": null,
   "id": "36fa9664-de65-4fab-a710-bd4340e1d5f3",
   "metadata": {},
   "outputs": [],
   "source": []
  }
 ],
 "metadata": {
  "kernelspec": {
   "display_name": "Python 3 (ipykernel)",
   "language": "python",
   "name": "python3"
  },
  "language_info": {
   "codemirror_mode": {
    "name": "ipython",
    "version": 3
   },
   "file_extension": ".py",
   "mimetype": "text/x-python",
   "name": "python",
   "nbconvert_exporter": "python",
   "pygments_lexer": "ipython3",
   "version": "3.9.5"
  }
 },
 "nbformat": 4,
 "nbformat_minor": 5
}
