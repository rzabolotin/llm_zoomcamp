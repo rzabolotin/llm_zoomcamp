{
 "cells": [
  {
   "cell_type": "markdown",
   "id": "e1fec8f4-59cc-489b-9c0b-292dabb61788",
   "metadata": {},
   "source": [
    "# Homework: Evaluation and Monitoring"
   ]
  },
  {
   "cell_type": "code",
   "execution_count": 1,
   "id": "2cd32b66-03a3-4e4b-a90d-331b786e54a8",
   "metadata": {},
   "outputs": [],
   "source": [
    "import pandas as pd"
   ]
  },
  {
   "cell_type": "markdown",
   "id": "f4db31df-560d-4061-8c04-e6e66e89284d",
   "metadata": {},
   "source": [
    "## Getting the data"
   ]
  },
  {
   "cell_type": "code",
   "execution_count": 2,
   "id": "e99820a9-04d5-4bee-a3c2-1bdb16406638",
   "metadata": {},
   "outputs": [],
   "source": [
    "github_url = \"https://github.com/DataTalksClub/llm-zoomcamp/blob/main/04-monitoring/data/results-gpt4o-mini.csv\"\n",
    "url = f'{github_url}?raw=1'\n",
    "df = pd.read_csv(url)"
   ]
  },
  {
   "cell_type": "code",
   "execution_count": 3,
   "id": "e4b9343e-f4df-4e09-874b-892e4317b820",
   "metadata": {},
   "outputs": [],
   "source": [
    "df = df.iloc[:300]"
   ]
  },
  {
   "cell_type": "code",
   "execution_count": 4,
   "id": "b7350fdf-b73a-42d7-a2a5-ad1aeac40733",
   "metadata": {},
   "outputs": [
    {
     "data": {
      "text/html": [
       "<div>\n",
       "<style scoped>\n",
       "    .dataframe tbody tr th:only-of-type {\n",
       "        vertical-align: middle;\n",
       "    }\n",
       "\n",
       "    .dataframe tbody tr th {\n",
       "        vertical-align: top;\n",
       "    }\n",
       "\n",
       "    .dataframe thead th {\n",
       "        text-align: right;\n",
       "    }\n",
       "</style>\n",
       "<table border=\"1\" class=\"dataframe\">\n",
       "  <thead>\n",
       "    <tr style=\"text-align: right;\">\n",
       "      <th></th>\n",
       "      <th>answer_llm</th>\n",
       "      <th>answer_orig</th>\n",
       "      <th>document</th>\n",
       "      <th>question</th>\n",
       "      <th>course</th>\n",
       "    </tr>\n",
       "  </thead>\n",
       "  <tbody>\n",
       "    <tr>\n",
       "      <th>0</th>\n",
       "      <td>You can sign up for the course by visiting the...</td>\n",
       "      <td>Machine Learning Zoomcamp FAQ\\nThe purpose of ...</td>\n",
       "      <td>0227b872</td>\n",
       "      <td>Where can I sign up for the course?</td>\n",
       "      <td>machine-learning-zoomcamp</td>\n",
       "    </tr>\n",
       "    <tr>\n",
       "      <th>1</th>\n",
       "      <td>You can sign up using the link provided in the...</td>\n",
       "      <td>Machine Learning Zoomcamp FAQ\\nThe purpose of ...</td>\n",
       "      <td>0227b872</td>\n",
       "      <td>Can you provide a link to sign up?</td>\n",
       "      <td>machine-learning-zoomcamp</td>\n",
       "    </tr>\n",
       "    <tr>\n",
       "      <th>2</th>\n",
       "      <td>Yes, there is an FAQ for the Machine Learning ...</td>\n",
       "      <td>Machine Learning Zoomcamp FAQ\\nThe purpose of ...</td>\n",
       "      <td>0227b872</td>\n",
       "      <td>Is there an FAQ for this Machine Learning course?</td>\n",
       "      <td>machine-learning-zoomcamp</td>\n",
       "    </tr>\n",
       "    <tr>\n",
       "      <th>3</th>\n",
       "      <td>The context does not provide any specific info...</td>\n",
       "      <td>Machine Learning Zoomcamp FAQ\\nThe purpose of ...</td>\n",
       "      <td>0227b872</td>\n",
       "      <td>Does this course have a GitHub repository for ...</td>\n",
       "      <td>machine-learning-zoomcamp</td>\n",
       "    </tr>\n",
       "    <tr>\n",
       "      <th>4</th>\n",
       "      <td>To structure your questions and answers for th...</td>\n",
       "      <td>Machine Learning Zoomcamp FAQ\\nThe purpose of ...</td>\n",
       "      <td>0227b872</td>\n",
       "      <td>How can I structure my questions and answers f...</td>\n",
       "      <td>machine-learning-zoomcamp</td>\n",
       "    </tr>\n",
       "  </tbody>\n",
       "</table>\n",
       "</div>"
      ],
      "text/plain": [
       "                                          answer_llm  \\\n",
       "0  You can sign up for the course by visiting the...   \n",
       "1  You can sign up using the link provided in the...   \n",
       "2  Yes, there is an FAQ for the Machine Learning ...   \n",
       "3  The context does not provide any specific info...   \n",
       "4  To structure your questions and answers for th...   \n",
       "\n",
       "                                         answer_orig  document  \\\n",
       "0  Machine Learning Zoomcamp FAQ\\nThe purpose of ...  0227b872   \n",
       "1  Machine Learning Zoomcamp FAQ\\nThe purpose of ...  0227b872   \n",
       "2  Machine Learning Zoomcamp FAQ\\nThe purpose of ...  0227b872   \n",
       "3  Machine Learning Zoomcamp FAQ\\nThe purpose of ...  0227b872   \n",
       "4  Machine Learning Zoomcamp FAQ\\nThe purpose of ...  0227b872   \n",
       "\n",
       "                                            question  \\\n",
       "0                Where can I sign up for the course?   \n",
       "1                 Can you provide a link to sign up?   \n",
       "2  Is there an FAQ for this Machine Learning course?   \n",
       "3  Does this course have a GitHub repository for ...   \n",
       "4  How can I structure my questions and answers f...   \n",
       "\n",
       "                      course  \n",
       "0  machine-learning-zoomcamp  \n",
       "1  machine-learning-zoomcamp  \n",
       "2  machine-learning-zoomcamp  \n",
       "3  machine-learning-zoomcamp  \n",
       "4  machine-learning-zoomcamp  "
      ]
     },
     "execution_count": 4,
     "metadata": {},
     "output_type": "execute_result"
    }
   ],
   "source": [
    "df.head()"
   ]
  },
  {
   "cell_type": "markdown",
   "id": "8d60dd1e-842c-45c3-bed4-a83ad492d3c6",
   "metadata": {},
   "source": [
    "## Q1. Getting the embeddings model"
   ]
  },
  {
   "cell_type": "code",
   "execution_count": 5,
   "id": "aaaa6e36-b747-4209-acd9-15de11db778e",
   "metadata": {},
   "outputs": [
    {
     "name": "stderr",
     "output_type": "stream",
     "text": [
      "/home/roman/.local/share/virtualenvs/llm-zoomcamp-6WKyO3I_/lib/python3.9/site-packages/sentence_transformers/cross_encoder/CrossEncoder.py:11: TqdmWarning: IProgress not found. Please update jupyter and ipywidgets. See https://ipywidgets.readthedocs.io/en/stable/user_install.html\n",
      "  from tqdm.autonotebook import tqdm, trange\n"
     ]
    }
   ],
   "source": [
    "from sentence_transformers import SentenceTransformer"
   ]
  },
  {
   "cell_type": "code",
   "execution_count": 6,
   "id": "cba84e37-bb30-4835-838b-239cdf5a37ee",
   "metadata": {},
   "outputs": [
    {
     "ename": "KeyboardInterrupt",
     "evalue": "",
     "output_type": "error",
     "traceback": [
      "\u001b[0;31m---------------------------------------------------------------------------\u001b[0m",
      "\u001b[0;31mKeyboardInterrupt\u001b[0m                         Traceback (most recent call last)",
      "Cell \u001b[0;32mIn[6], line 2\u001b[0m\n\u001b[1;32m      1\u001b[0m model_name \u001b[38;5;241m=\u001b[39m \u001b[38;5;124m\"\u001b[39m\u001b[38;5;124mmulti-qa-mpnet-base-dot-v1\u001b[39m\u001b[38;5;124m\"\u001b[39m\n\u001b[0;32m----> 2\u001b[0m embedding_model \u001b[38;5;241m=\u001b[39m \u001b[43mSentenceTransformer\u001b[49m\u001b[43m(\u001b[49m\u001b[43mmodel_name\u001b[49m\u001b[43m)\u001b[49m\n",
      "File \u001b[0;32m~/.local/share/virtualenvs/llm-zoomcamp-6WKyO3I_/lib/python3.9/site-packages/sentence_transformers/SentenceTransformer.py:287\u001b[0m, in \u001b[0;36mSentenceTransformer.__init__\u001b[0;34m(self, model_name_or_path, modules, device, prompts, default_prompt_name, similarity_fn_name, cache_folder, trust_remote_code, revision, local_files_only, token, use_auth_token, truncate_dim, model_kwargs, tokenizer_kwargs, config_kwargs, model_card_data)\u001b[0m\n\u001b[1;32m    278\u001b[0m         model_name_or_path \u001b[38;5;241m=\u001b[39m __MODEL_HUB_ORGANIZATION__ \u001b[38;5;241m+\u001b[39m \u001b[38;5;124m\"\u001b[39m\u001b[38;5;124m/\u001b[39m\u001b[38;5;124m\"\u001b[39m \u001b[38;5;241m+\u001b[39m model_name_or_path\n\u001b[1;32m    280\u001b[0m \u001b[38;5;28;01mif\u001b[39;00m is_sentence_transformer_model(\n\u001b[1;32m    281\u001b[0m     model_name_or_path,\n\u001b[1;32m    282\u001b[0m     token,\n\u001b[0;32m   (...)\u001b[0m\n\u001b[1;32m    285\u001b[0m     local_files_only\u001b[38;5;241m=\u001b[39mlocal_files_only,\n\u001b[1;32m    286\u001b[0m ):\n\u001b[0;32m--> 287\u001b[0m     modules \u001b[38;5;241m=\u001b[39m \u001b[38;5;28;43mself\u001b[39;49m\u001b[38;5;241;43m.\u001b[39;49m\u001b[43m_load_sbert_model\u001b[49m\u001b[43m(\u001b[49m\n\u001b[1;32m    288\u001b[0m \u001b[43m        \u001b[49m\u001b[43mmodel_name_or_path\u001b[49m\u001b[43m,\u001b[49m\n\u001b[1;32m    289\u001b[0m \u001b[43m        \u001b[49m\u001b[43mtoken\u001b[49m\u001b[38;5;241;43m=\u001b[39;49m\u001b[43mtoken\u001b[49m\u001b[43m,\u001b[49m\n\u001b[1;32m    290\u001b[0m \u001b[43m        \u001b[49m\u001b[43mcache_folder\u001b[49m\u001b[38;5;241;43m=\u001b[39;49m\u001b[43mcache_folder\u001b[49m\u001b[43m,\u001b[49m\n\u001b[1;32m    291\u001b[0m \u001b[43m        \u001b[49m\u001b[43mrevision\u001b[49m\u001b[38;5;241;43m=\u001b[39;49m\u001b[43mrevision\u001b[49m\u001b[43m,\u001b[49m\n\u001b[1;32m    292\u001b[0m \u001b[43m        \u001b[49m\u001b[43mtrust_remote_code\u001b[49m\u001b[38;5;241;43m=\u001b[39;49m\u001b[43mtrust_remote_code\u001b[49m\u001b[43m,\u001b[49m\n\u001b[1;32m    293\u001b[0m \u001b[43m        \u001b[49m\u001b[43mlocal_files_only\u001b[49m\u001b[38;5;241;43m=\u001b[39;49m\u001b[43mlocal_files_only\u001b[49m\u001b[43m,\u001b[49m\n\u001b[1;32m    294\u001b[0m \u001b[43m        \u001b[49m\u001b[43mmodel_kwargs\u001b[49m\u001b[38;5;241;43m=\u001b[39;49m\u001b[43mmodel_kwargs\u001b[49m\u001b[43m,\u001b[49m\n\u001b[1;32m    295\u001b[0m \u001b[43m        \u001b[49m\u001b[43mtokenizer_kwargs\u001b[49m\u001b[38;5;241;43m=\u001b[39;49m\u001b[43mtokenizer_kwargs\u001b[49m\u001b[43m,\u001b[49m\n\u001b[1;32m    296\u001b[0m \u001b[43m        \u001b[49m\u001b[43mconfig_kwargs\u001b[49m\u001b[38;5;241;43m=\u001b[39;49m\u001b[43mconfig_kwargs\u001b[49m\u001b[43m,\u001b[49m\n\u001b[1;32m    297\u001b[0m \u001b[43m    \u001b[49m\u001b[43m)\u001b[49m\n\u001b[1;32m    298\u001b[0m \u001b[38;5;28;01melse\u001b[39;00m:\n\u001b[1;32m    299\u001b[0m     modules \u001b[38;5;241m=\u001b[39m \u001b[38;5;28mself\u001b[39m\u001b[38;5;241m.\u001b[39m_load_auto_model(\n\u001b[1;32m    300\u001b[0m         model_name_or_path,\n\u001b[1;32m    301\u001b[0m         token\u001b[38;5;241m=\u001b[39mtoken,\n\u001b[0;32m   (...)\u001b[0m\n\u001b[1;32m    308\u001b[0m         config_kwargs\u001b[38;5;241m=\u001b[39mconfig_kwargs,\n\u001b[1;32m    309\u001b[0m     )\n",
      "File \u001b[0;32m~/.local/share/virtualenvs/llm-zoomcamp-6WKyO3I_/lib/python3.9/site-packages/sentence_transformers/SentenceTransformer.py:1487\u001b[0m, in \u001b[0;36mSentenceTransformer._load_sbert_model\u001b[0;34m(self, model_name_or_path, token, cache_folder, revision, trust_remote_code, local_files_only, model_kwargs, tokenizer_kwargs, config_kwargs)\u001b[0m\n\u001b[1;32m   1484\u001b[0m     \u001b[38;5;28;01mif\u001b[39;00m config_kwargs:\n\u001b[1;32m   1485\u001b[0m         kwargs[\u001b[38;5;124m\"\u001b[39m\u001b[38;5;124mconfig_args\u001b[39m\u001b[38;5;124m\"\u001b[39m]\u001b[38;5;241m.\u001b[39mupdate(config_kwargs)\n\u001b[0;32m-> 1487\u001b[0m     module \u001b[38;5;241m=\u001b[39m \u001b[43mTransformer\u001b[49m\u001b[43m(\u001b[49m\u001b[43mmodel_name_or_path\u001b[49m\u001b[43m,\u001b[49m\u001b[43m \u001b[49m\u001b[43mcache_dir\u001b[49m\u001b[38;5;241;43m=\u001b[39;49m\u001b[43mcache_folder\u001b[49m\u001b[43m,\u001b[49m\u001b[43m \u001b[49m\u001b[38;5;241;43m*\u001b[39;49m\u001b[38;5;241;43m*\u001b[39;49m\u001b[43mkwargs\u001b[49m\u001b[43m)\u001b[49m\n\u001b[1;32m   1488\u001b[0m \u001b[38;5;28;01melse\u001b[39;00m:\n\u001b[1;32m   1489\u001b[0m     \u001b[38;5;66;03m# Normalize does not require any files to be loaded\u001b[39;00m\n\u001b[1;32m   1490\u001b[0m     \u001b[38;5;28;01mif\u001b[39;00m module_class \u001b[38;5;241m==\u001b[39m Normalize:\n",
      "File \u001b[0;32m~/.local/share/virtualenvs/llm-zoomcamp-6WKyO3I_/lib/python3.9/site-packages/sentence_transformers/models/Transformer.py:54\u001b[0m, in \u001b[0;36mTransformer.__init__\u001b[0;34m(self, model_name_or_path, max_seq_length, model_args, tokenizer_args, config_args, cache_dir, do_lower_case, tokenizer_name_or_path)\u001b[0m\n\u001b[1;32m     51\u001b[0m     config_args \u001b[38;5;241m=\u001b[39m {}\n\u001b[1;32m     53\u001b[0m config \u001b[38;5;241m=\u001b[39m AutoConfig\u001b[38;5;241m.\u001b[39mfrom_pretrained(model_name_or_path, \u001b[38;5;241m*\u001b[39m\u001b[38;5;241m*\u001b[39mconfig_args, cache_dir\u001b[38;5;241m=\u001b[39mcache_dir)\n\u001b[0;32m---> 54\u001b[0m \u001b[38;5;28;43mself\u001b[39;49m\u001b[38;5;241;43m.\u001b[39;49m\u001b[43m_load_model\u001b[49m\u001b[43m(\u001b[49m\u001b[43mmodel_name_or_path\u001b[49m\u001b[43m,\u001b[49m\u001b[43m \u001b[49m\u001b[43mconfig\u001b[49m\u001b[43m,\u001b[49m\u001b[43m \u001b[49m\u001b[43mcache_dir\u001b[49m\u001b[43m,\u001b[49m\u001b[43m \u001b[49m\u001b[38;5;241;43m*\u001b[39;49m\u001b[38;5;241;43m*\u001b[39;49m\u001b[43mmodel_args\u001b[49m\u001b[43m)\u001b[49m\n\u001b[1;32m     56\u001b[0m \u001b[38;5;28;01mif\u001b[39;00m max_seq_length \u001b[38;5;129;01mis\u001b[39;00m \u001b[38;5;129;01mnot\u001b[39;00m \u001b[38;5;28;01mNone\u001b[39;00m \u001b[38;5;129;01mand\u001b[39;00m \u001b[38;5;124m\"\u001b[39m\u001b[38;5;124mmodel_max_length\u001b[39m\u001b[38;5;124m\"\u001b[39m \u001b[38;5;129;01mnot\u001b[39;00m \u001b[38;5;129;01min\u001b[39;00m tokenizer_args:\n\u001b[1;32m     57\u001b[0m     tokenizer_args[\u001b[38;5;124m\"\u001b[39m\u001b[38;5;124mmodel_max_length\u001b[39m\u001b[38;5;124m\"\u001b[39m] \u001b[38;5;241m=\u001b[39m max_seq_length\n",
      "File \u001b[0;32m~/.local/share/virtualenvs/llm-zoomcamp-6WKyO3I_/lib/python3.9/site-packages/sentence_transformers/models/Transformer.py:85\u001b[0m, in \u001b[0;36mTransformer._load_model\u001b[0;34m(self, model_name_or_path, config, cache_dir, **model_args)\u001b[0m\n\u001b[1;32m     83\u001b[0m     \u001b[38;5;28mself\u001b[39m\u001b[38;5;241m.\u001b[39m_load_mt5_model(model_name_or_path, config, cache_dir, \u001b[38;5;241m*\u001b[39m\u001b[38;5;241m*\u001b[39mmodel_args)\n\u001b[1;32m     84\u001b[0m \u001b[38;5;28;01melse\u001b[39;00m:\n\u001b[0;32m---> 85\u001b[0m     \u001b[38;5;28mself\u001b[39m\u001b[38;5;241m.\u001b[39mauto_model \u001b[38;5;241m=\u001b[39m \u001b[43mAutoModel\u001b[49m\u001b[38;5;241;43m.\u001b[39;49m\u001b[43mfrom_pretrained\u001b[49m\u001b[43m(\u001b[49m\n\u001b[1;32m     86\u001b[0m \u001b[43m        \u001b[49m\u001b[43mmodel_name_or_path\u001b[49m\u001b[43m,\u001b[49m\u001b[43m \u001b[49m\u001b[43mconfig\u001b[49m\u001b[38;5;241;43m=\u001b[39;49m\u001b[43mconfig\u001b[49m\u001b[43m,\u001b[49m\u001b[43m \u001b[49m\u001b[43mcache_dir\u001b[49m\u001b[38;5;241;43m=\u001b[39;49m\u001b[43mcache_dir\u001b[49m\u001b[43m,\u001b[49m\u001b[43m \u001b[49m\u001b[38;5;241;43m*\u001b[39;49m\u001b[38;5;241;43m*\u001b[39;49m\u001b[43mmodel_args\u001b[49m\n\u001b[1;32m     87\u001b[0m \u001b[43m    \u001b[49m\u001b[43m)\u001b[49m\n",
      "File \u001b[0;32m~/.local/share/virtualenvs/llm-zoomcamp-6WKyO3I_/lib/python3.9/site-packages/transformers/models/auto/auto_factory.py:564\u001b[0m, in \u001b[0;36m_BaseAutoModelClass.from_pretrained\u001b[0;34m(cls, pretrained_model_name_or_path, *model_args, **kwargs)\u001b[0m\n\u001b[1;32m    562\u001b[0m \u001b[38;5;28;01melif\u001b[39;00m \u001b[38;5;28mtype\u001b[39m(config) \u001b[38;5;129;01min\u001b[39;00m \u001b[38;5;28mcls\u001b[39m\u001b[38;5;241m.\u001b[39m_model_mapping\u001b[38;5;241m.\u001b[39mkeys():\n\u001b[1;32m    563\u001b[0m     model_class \u001b[38;5;241m=\u001b[39m _get_model_class(config, \u001b[38;5;28mcls\u001b[39m\u001b[38;5;241m.\u001b[39m_model_mapping)\n\u001b[0;32m--> 564\u001b[0m     \u001b[38;5;28;01mreturn\u001b[39;00m \u001b[43mmodel_class\u001b[49m\u001b[38;5;241;43m.\u001b[39;49m\u001b[43mfrom_pretrained\u001b[49m\u001b[43m(\u001b[49m\n\u001b[1;32m    565\u001b[0m \u001b[43m        \u001b[49m\u001b[43mpretrained_model_name_or_path\u001b[49m\u001b[43m,\u001b[49m\u001b[43m \u001b[49m\u001b[38;5;241;43m*\u001b[39;49m\u001b[43mmodel_args\u001b[49m\u001b[43m,\u001b[49m\u001b[43m \u001b[49m\u001b[43mconfig\u001b[49m\u001b[38;5;241;43m=\u001b[39;49m\u001b[43mconfig\u001b[49m\u001b[43m,\u001b[49m\u001b[43m \u001b[49m\u001b[38;5;241;43m*\u001b[39;49m\u001b[38;5;241;43m*\u001b[39;49m\u001b[43mhub_kwargs\u001b[49m\u001b[43m,\u001b[49m\u001b[43m \u001b[49m\u001b[38;5;241;43m*\u001b[39;49m\u001b[38;5;241;43m*\u001b[39;49m\u001b[43mkwargs\u001b[49m\n\u001b[1;32m    566\u001b[0m \u001b[43m    \u001b[49m\u001b[43m)\u001b[49m\n\u001b[1;32m    567\u001b[0m \u001b[38;5;28;01mraise\u001b[39;00m \u001b[38;5;167;01mValueError\u001b[39;00m(\n\u001b[1;32m    568\u001b[0m     \u001b[38;5;124mf\u001b[39m\u001b[38;5;124m\"\u001b[39m\u001b[38;5;124mUnrecognized configuration class \u001b[39m\u001b[38;5;132;01m{\u001b[39;00mconfig\u001b[38;5;241m.\u001b[39m\u001b[38;5;18m__class__\u001b[39m\u001b[38;5;132;01m}\u001b[39;00m\u001b[38;5;124m for this kind of AutoModel: \u001b[39m\u001b[38;5;132;01m{\u001b[39;00m\u001b[38;5;28mcls\u001b[39m\u001b[38;5;241m.\u001b[39m\u001b[38;5;18m__name__\u001b[39m\u001b[38;5;132;01m}\u001b[39;00m\u001b[38;5;124m.\u001b[39m\u001b[38;5;130;01m\\n\u001b[39;00m\u001b[38;5;124m\"\u001b[39m\n\u001b[1;32m    569\u001b[0m     \u001b[38;5;124mf\u001b[39m\u001b[38;5;124m\"\u001b[39m\u001b[38;5;124mModel type should be one of \u001b[39m\u001b[38;5;132;01m{\u001b[39;00m\u001b[38;5;124m'\u001b[39m\u001b[38;5;124m, \u001b[39m\u001b[38;5;124m'\u001b[39m\u001b[38;5;241m.\u001b[39mjoin(c\u001b[38;5;241m.\u001b[39m\u001b[38;5;18m__name__\u001b[39m\u001b[38;5;250m \u001b[39m\u001b[38;5;28;01mfor\u001b[39;00m\u001b[38;5;250m \u001b[39mc\u001b[38;5;250m \u001b[39m\u001b[38;5;129;01min\u001b[39;00m\u001b[38;5;250m \u001b[39m\u001b[38;5;28mcls\u001b[39m\u001b[38;5;241m.\u001b[39m_model_mapping\u001b[38;5;241m.\u001b[39mkeys())\u001b[38;5;132;01m}\u001b[39;00m\u001b[38;5;124m.\u001b[39m\u001b[38;5;124m\"\u001b[39m\n\u001b[1;32m    570\u001b[0m )\n",
      "File \u001b[0;32m~/.local/share/virtualenvs/llm-zoomcamp-6WKyO3I_/lib/python3.9/site-packages/transformers/modeling_utils.py:3838\u001b[0m, in \u001b[0;36mPreTrainedModel.from_pretrained\u001b[0;34m(cls, pretrained_model_name_or_path, config, cache_dir, ignore_mismatched_sizes, force_download, local_files_only, token, revision, use_safetensors, *model_args, **kwargs)\u001b[0m\n\u001b[1;32m   3828\u001b[0m     \u001b[38;5;28;01mif\u001b[39;00m dtype_orig \u001b[38;5;129;01mis\u001b[39;00m \u001b[38;5;129;01mnot\u001b[39;00m \u001b[38;5;28;01mNone\u001b[39;00m:\n\u001b[1;32m   3829\u001b[0m         torch\u001b[38;5;241m.\u001b[39mset_default_dtype(dtype_orig)\n\u001b[1;32m   3831\u001b[0m     (\n\u001b[1;32m   3832\u001b[0m         model,\n\u001b[1;32m   3833\u001b[0m         missing_keys,\n\u001b[1;32m   3834\u001b[0m         unexpected_keys,\n\u001b[1;32m   3835\u001b[0m         mismatched_keys,\n\u001b[1;32m   3836\u001b[0m         offload_index,\n\u001b[1;32m   3837\u001b[0m         error_msgs,\n\u001b[0;32m-> 3838\u001b[0m     ) \u001b[38;5;241m=\u001b[39m \u001b[38;5;28;43mcls\u001b[39;49m\u001b[38;5;241;43m.\u001b[39;49m\u001b[43m_load_pretrained_model\u001b[49m\u001b[43m(\u001b[49m\n\u001b[1;32m   3839\u001b[0m \u001b[43m        \u001b[49m\u001b[43mmodel\u001b[49m\u001b[43m,\u001b[49m\n\u001b[1;32m   3840\u001b[0m \u001b[43m        \u001b[49m\u001b[43mstate_dict\u001b[49m\u001b[43m,\u001b[49m\n\u001b[1;32m   3841\u001b[0m \u001b[43m        \u001b[49m\u001b[43mloaded_state_dict_keys\u001b[49m\u001b[43m,\u001b[49m\u001b[43m  \u001b[49m\u001b[38;5;66;43;03m# XXX: rename?\u001b[39;49;00m\n\u001b[1;32m   3842\u001b[0m \u001b[43m        \u001b[49m\u001b[43mresolved_archive_file\u001b[49m\u001b[43m,\u001b[49m\n\u001b[1;32m   3843\u001b[0m \u001b[43m        \u001b[49m\u001b[43mpretrained_model_name_or_path\u001b[49m\u001b[43m,\u001b[49m\n\u001b[1;32m   3844\u001b[0m \u001b[43m        \u001b[49m\u001b[43mignore_mismatched_sizes\u001b[49m\u001b[38;5;241;43m=\u001b[39;49m\u001b[43mignore_mismatched_sizes\u001b[49m\u001b[43m,\u001b[49m\n\u001b[1;32m   3845\u001b[0m \u001b[43m        \u001b[49m\u001b[43msharded_metadata\u001b[49m\u001b[38;5;241;43m=\u001b[39;49m\u001b[43msharded_metadata\u001b[49m\u001b[43m,\u001b[49m\n\u001b[1;32m   3846\u001b[0m \u001b[43m        \u001b[49m\u001b[43m_fast_init\u001b[49m\u001b[38;5;241;43m=\u001b[39;49m\u001b[43m_fast_init\u001b[49m\u001b[43m,\u001b[49m\n\u001b[1;32m   3847\u001b[0m \u001b[43m        \u001b[49m\u001b[43mlow_cpu_mem_usage\u001b[49m\u001b[38;5;241;43m=\u001b[39;49m\u001b[43mlow_cpu_mem_usage\u001b[49m\u001b[43m,\u001b[49m\n\u001b[1;32m   3848\u001b[0m \u001b[43m        \u001b[49m\u001b[43mdevice_map\u001b[49m\u001b[38;5;241;43m=\u001b[39;49m\u001b[43mdevice_map\u001b[49m\u001b[43m,\u001b[49m\n\u001b[1;32m   3849\u001b[0m \u001b[43m        \u001b[49m\u001b[43moffload_folder\u001b[49m\u001b[38;5;241;43m=\u001b[39;49m\u001b[43moffload_folder\u001b[49m\u001b[43m,\u001b[49m\n\u001b[1;32m   3850\u001b[0m \u001b[43m        \u001b[49m\u001b[43moffload_state_dict\u001b[49m\u001b[38;5;241;43m=\u001b[39;49m\u001b[43moffload_state_dict\u001b[49m\u001b[43m,\u001b[49m\n\u001b[1;32m   3851\u001b[0m \u001b[43m        \u001b[49m\u001b[43mdtype\u001b[49m\u001b[38;5;241;43m=\u001b[39;49m\u001b[43mtorch_dtype\u001b[49m\u001b[43m,\u001b[49m\n\u001b[1;32m   3852\u001b[0m \u001b[43m        \u001b[49m\u001b[43mhf_quantizer\u001b[49m\u001b[38;5;241;43m=\u001b[39;49m\u001b[43mhf_quantizer\u001b[49m\u001b[43m,\u001b[49m\n\u001b[1;32m   3853\u001b[0m \u001b[43m        \u001b[49m\u001b[43mkeep_in_fp32_modules\u001b[49m\u001b[38;5;241;43m=\u001b[39;49m\u001b[43mkeep_in_fp32_modules\u001b[49m\u001b[43m,\u001b[49m\n\u001b[1;32m   3854\u001b[0m \u001b[43m        \u001b[49m\u001b[43mgguf_path\u001b[49m\u001b[38;5;241;43m=\u001b[39;49m\u001b[43mgguf_path\u001b[49m\u001b[43m,\u001b[49m\n\u001b[1;32m   3855\u001b[0m \u001b[43m    \u001b[49m\u001b[43m)\u001b[49m\n\u001b[1;32m   3857\u001b[0m \u001b[38;5;66;03m# make sure token embedding weights are still tied if needed\u001b[39;00m\n\u001b[1;32m   3858\u001b[0m model\u001b[38;5;241m.\u001b[39mtie_weights()\n",
      "File \u001b[0;32m~/.local/share/virtualenvs/llm-zoomcamp-6WKyO3I_/lib/python3.9/site-packages/transformers/modeling_utils.py:4246\u001b[0m, in \u001b[0;36mPreTrainedModel._load_pretrained_model\u001b[0;34m(cls, model, state_dict, loaded_keys, resolved_archive_file, pretrained_model_name_or_path, ignore_mismatched_sizes, sharded_metadata, _fast_init, low_cpu_mem_usage, device_map, offload_folder, offload_state_dict, dtype, hf_quantizer, keep_in_fp32_modules, gguf_path)\u001b[0m\n\u001b[1;32m   4227\u001b[0m         error_msgs, offload_index, state_dict_index \u001b[38;5;241m=\u001b[39m _load_state_dict_into_meta_model(\n\u001b[1;32m   4228\u001b[0m             model_to_load,\n\u001b[1;32m   4229\u001b[0m             state_dict,\n\u001b[0;32m   (...)\u001b[0m\n\u001b[1;32m   4242\u001b[0m             unexpected_keys\u001b[38;5;241m=\u001b[39munexpected_keys,\n\u001b[1;32m   4243\u001b[0m         )\n\u001b[1;32m   4244\u001b[0m     \u001b[38;5;28;01melse\u001b[39;00m:\n\u001b[1;32m   4245\u001b[0m         \u001b[38;5;66;03m# Sharded checkpoint or whole but low_cpu_mem_usage==True\u001b[39;00m\n\u001b[0;32m-> 4246\u001b[0m         error_msgs \u001b[38;5;241m=\u001b[39m \u001b[43m_load_state_dict_into_model\u001b[49m\u001b[43m(\u001b[49m\u001b[43mmodel_to_load\u001b[49m\u001b[43m,\u001b[49m\u001b[43m \u001b[49m\u001b[43mstate_dict\u001b[49m\u001b[43m,\u001b[49m\u001b[43m \u001b[49m\u001b[43mstart_prefix\u001b[49m\u001b[43m)\u001b[49m\n\u001b[1;32m   4248\u001b[0m \u001b[38;5;28;01melse\u001b[39;00m:\n\u001b[1;32m   4249\u001b[0m     \u001b[38;5;66;03m# This should always be a list but, just to be sure.\u001b[39;00m\n\u001b[1;32m   4250\u001b[0m     \u001b[38;5;28;01mif\u001b[39;00m \u001b[38;5;129;01mnot\u001b[39;00m \u001b[38;5;28misinstance\u001b[39m(resolved_archive_file, \u001b[38;5;28mlist\u001b[39m):\n",
      "File \u001b[0;32m~/.local/share/virtualenvs/llm-zoomcamp-6WKyO3I_/lib/python3.9/site-packages/transformers/modeling_utils.py:711\u001b[0m, in \u001b[0;36m_load_state_dict_into_model\u001b[0;34m(model_to_load, state_dict, start_prefix)\u001b[0m\n\u001b[1;32m    708\u001b[0m         \u001b[38;5;28;01mif\u001b[39;00m child \u001b[38;5;129;01mis\u001b[39;00m \u001b[38;5;129;01mnot\u001b[39;00m \u001b[38;5;28;01mNone\u001b[39;00m:\n\u001b[1;32m    709\u001b[0m             load(child, state_dict, prefix \u001b[38;5;241m+\u001b[39m name \u001b[38;5;241m+\u001b[39m \u001b[38;5;124m\"\u001b[39m\u001b[38;5;124m.\u001b[39m\u001b[38;5;124m\"\u001b[39m)\n\u001b[0;32m--> 711\u001b[0m \u001b[43mload\u001b[49m\u001b[43m(\u001b[49m\u001b[43mmodel_to_load\u001b[49m\u001b[43m,\u001b[49m\u001b[43m \u001b[49m\u001b[43mstate_dict\u001b[49m\u001b[43m,\u001b[49m\u001b[43m \u001b[49m\u001b[43mprefix\u001b[49m\u001b[38;5;241;43m=\u001b[39;49m\u001b[43mstart_prefix\u001b[49m\u001b[43m)\u001b[49m\n\u001b[1;32m    712\u001b[0m \u001b[38;5;66;03m# Delete `state_dict` so it could be collected by GC earlier. Note that `state_dict` is a copy of the argument, so\u001b[39;00m\n\u001b[1;32m    713\u001b[0m \u001b[38;5;66;03m# it's safe to delete it.\u001b[39;00m\n\u001b[1;32m    714\u001b[0m \u001b[38;5;28;01mdel\u001b[39;00m state_dict\n",
      "File \u001b[0;32m~/.local/share/virtualenvs/llm-zoomcamp-6WKyO3I_/lib/python3.9/site-packages/transformers/modeling_utils.py:709\u001b[0m, in \u001b[0;36m_load_state_dict_into_model.<locals>.load\u001b[0;34m(module, state_dict, prefix)\u001b[0m\n\u001b[1;32m    707\u001b[0m \u001b[38;5;28;01mfor\u001b[39;00m name, child \u001b[38;5;129;01min\u001b[39;00m module\u001b[38;5;241m.\u001b[39m_modules\u001b[38;5;241m.\u001b[39mitems():\n\u001b[1;32m    708\u001b[0m     \u001b[38;5;28;01mif\u001b[39;00m child \u001b[38;5;129;01mis\u001b[39;00m \u001b[38;5;129;01mnot\u001b[39;00m \u001b[38;5;28;01mNone\u001b[39;00m:\n\u001b[0;32m--> 709\u001b[0m         \u001b[43mload\u001b[49m\u001b[43m(\u001b[49m\u001b[43mchild\u001b[49m\u001b[43m,\u001b[49m\u001b[43m \u001b[49m\u001b[43mstate_dict\u001b[49m\u001b[43m,\u001b[49m\u001b[43m \u001b[49m\u001b[43mprefix\u001b[49m\u001b[43m \u001b[49m\u001b[38;5;241;43m+\u001b[39;49m\u001b[43m \u001b[49m\u001b[43mname\u001b[49m\u001b[43m \u001b[49m\u001b[38;5;241;43m+\u001b[39;49m\u001b[43m \u001b[49m\u001b[38;5;124;43m\"\u001b[39;49m\u001b[38;5;124;43m.\u001b[39;49m\u001b[38;5;124;43m\"\u001b[39;49m\u001b[43m)\u001b[49m\n",
      "File \u001b[0;32m~/.local/share/virtualenvs/llm-zoomcamp-6WKyO3I_/lib/python3.9/site-packages/transformers/modeling_utils.py:709\u001b[0m, in \u001b[0;36m_load_state_dict_into_model.<locals>.load\u001b[0;34m(module, state_dict, prefix)\u001b[0m\n\u001b[1;32m    707\u001b[0m \u001b[38;5;28;01mfor\u001b[39;00m name, child \u001b[38;5;129;01min\u001b[39;00m module\u001b[38;5;241m.\u001b[39m_modules\u001b[38;5;241m.\u001b[39mitems():\n\u001b[1;32m    708\u001b[0m     \u001b[38;5;28;01mif\u001b[39;00m child \u001b[38;5;129;01mis\u001b[39;00m \u001b[38;5;129;01mnot\u001b[39;00m \u001b[38;5;28;01mNone\u001b[39;00m:\n\u001b[0;32m--> 709\u001b[0m         \u001b[43mload\u001b[49m\u001b[43m(\u001b[49m\u001b[43mchild\u001b[49m\u001b[43m,\u001b[49m\u001b[43m \u001b[49m\u001b[43mstate_dict\u001b[49m\u001b[43m,\u001b[49m\u001b[43m \u001b[49m\u001b[43mprefix\u001b[49m\u001b[43m \u001b[49m\u001b[38;5;241;43m+\u001b[39;49m\u001b[43m \u001b[49m\u001b[43mname\u001b[49m\u001b[43m \u001b[49m\u001b[38;5;241;43m+\u001b[39;49m\u001b[43m \u001b[49m\u001b[38;5;124;43m\"\u001b[39;49m\u001b[38;5;124;43m.\u001b[39;49m\u001b[38;5;124;43m\"\u001b[39;49m\u001b[43m)\u001b[49m\n",
      "File \u001b[0;32m~/.local/share/virtualenvs/llm-zoomcamp-6WKyO3I_/lib/python3.9/site-packages/transformers/modeling_utils.py:705\u001b[0m, in \u001b[0;36m_load_state_dict_into_model.<locals>.load\u001b[0;34m(module, state_dict, prefix)\u001b[0m\n\u001b[1;32m    703\u001b[0m                     module\u001b[38;5;241m.\u001b[39m_load_from_state_dict(\u001b[38;5;241m*\u001b[39margs)\n\u001b[1;32m    704\u001b[0m     \u001b[38;5;28;01melse\u001b[39;00m:\n\u001b[0;32m--> 705\u001b[0m         \u001b[43mmodule\u001b[49m\u001b[38;5;241;43m.\u001b[39;49m\u001b[43m_load_from_state_dict\u001b[49m\u001b[43m(\u001b[49m\u001b[38;5;241;43m*\u001b[39;49m\u001b[43margs\u001b[49m\u001b[43m)\u001b[49m\n\u001b[1;32m    707\u001b[0m \u001b[38;5;28;01mfor\u001b[39;00m name, child \u001b[38;5;129;01min\u001b[39;00m module\u001b[38;5;241m.\u001b[39m_modules\u001b[38;5;241m.\u001b[39mitems():\n\u001b[1;32m    708\u001b[0m     \u001b[38;5;28;01mif\u001b[39;00m child \u001b[38;5;129;01mis\u001b[39;00m \u001b[38;5;129;01mnot\u001b[39;00m \u001b[38;5;28;01mNone\u001b[39;00m:\n",
      "File \u001b[0;32m~/.local/share/virtualenvs/llm-zoomcamp-6WKyO3I_/lib/python3.9/site-packages/torch/nn/modules/module.py:2075\u001b[0m, in \u001b[0;36mModule._load_from_state_dict\u001b[0;34m(self, state_dict, prefix, local_metadata, strict, missing_keys, unexpected_keys, error_msgs)\u001b[0m\n\u001b[1;32m   2073\u001b[0m             \u001b[38;5;28msetattr\u001b[39m(\u001b[38;5;28mself\u001b[39m, name, input_param)\n\u001b[1;32m   2074\u001b[0m         \u001b[38;5;28;01melse\u001b[39;00m:\n\u001b[0;32m-> 2075\u001b[0m             \u001b[43mparam\u001b[49m\u001b[38;5;241;43m.\u001b[39;49m\u001b[43mcopy_\u001b[49m\u001b[43m(\u001b[49m\u001b[43minput_param\u001b[49m\u001b[43m)\u001b[49m\n\u001b[1;32m   2076\u001b[0m \u001b[38;5;28;01mexcept\u001b[39;00m \u001b[38;5;167;01mException\u001b[39;00m \u001b[38;5;28;01mas\u001b[39;00m ex:\n\u001b[1;32m   2077\u001b[0m     action \u001b[38;5;241m=\u001b[39m \u001b[38;5;124m\"\u001b[39m\u001b[38;5;124mswapping\u001b[39m\u001b[38;5;124m\"\u001b[39m \u001b[38;5;28;01mif\u001b[39;00m use_swap_tensors \u001b[38;5;28;01melse\u001b[39;00m \u001b[38;5;124m\"\u001b[39m\u001b[38;5;124mcopying\u001b[39m\u001b[38;5;124m\"\u001b[39m\n",
      "\u001b[0;31mKeyboardInterrupt\u001b[0m: "
     ]
    }
   ],
   "source": [
    "model_name = \"multi-qa-mpnet-base-dot-v1\"\n",
    "embedding_model = SentenceTransformer(model_name)"
   ]
  },
  {
   "cell_type": "code",
   "execution_count": null,
   "id": "3049160d-1671-4555-99f9-e4d672e8b966",
   "metadata": {},
   "outputs": [],
   "source": [
    "answer_llm = df.iloc[0].answer_llm"
   ]
  },
  {
   "cell_type": "code",
   "execution_count": 8,
   "id": "64b92ce7-5921-48e6-b081-0faf099ce611",
   "metadata": {},
   "outputs": [
    {
     "data": {
      "text/plain": [
       "-0.42244676"
      ]
     },
     "execution_count": 8,
     "metadata": {},
     "output_type": "execute_result"
    }
   ],
   "source": [
    "embedding_model.encode(answer_llm)[0]"
   ]
  },
  {
   "cell_type": "markdown",
   "id": "db05979c-25db-4867-b882-7c4c670c63b1",
   "metadata": {},
   "source": [
    "**What's the first value of the resulting vector?**\n",
    "\n",
    "**-0.42**  \n",
    "-0.22  \n",
    "-0.02  \n",
    "0.21  "
   ]
  },
  {
   "cell_type": "code",
   "execution_count": 9,
   "id": "105582ba-cfd1-46d2-8841-f333fc8df66e",
   "metadata": {},
   "outputs": [],
   "source": [
    "Answer: -0.42\n"
   ]
  },
  {
   "cell_type": "markdown",
   "id": "bb1ce4db-2dbb-4444-a08e-0335038f2e67",
   "metadata": {},
   "source": [
    "## Q2. Computing the dot product"
   ]
  },
  {
   "cell_type": "markdown",
   "id": "467a0e50-4db4-499c-8037-3a083b86561f",
   "metadata": {},
   "source": [
    "Now for each answer pair, let's create embeddings and compute dot product between them\n",
    "\n",
    "We will put the results (scores) into the evaluations list\n",
    "\n",
    "What's the 75% percentile of the score?"
   ]
  },
  {
   "cell_type": "code",
   "execution_count": 25,
   "id": "e1a8f731-ca17-405c-bbc5-ead748678960",
   "metadata": {},
   "outputs": [],
   "source": [
    "from tqdm.auto import tqdm"
   ]
  },
  {
   "cell_type": "code",
   "execution_count": 35,
   "id": "19803481-8f1d-4de2-8427-0224ce40dddc",
   "metadata": {},
   "outputs": [],
   "source": [
    "def get_embeddings(row, column):\n",
    "    return embedding_model.encode(row[column])"
   ]
  },
  {
   "cell_type": "code",
   "execution_count": 33,
   "id": "aa524f8e-3a19-4c91-991b-bd68058fcf78",
   "metadata": {},
   "outputs": [
    {
     "name": "stderr",
     "output_type": "stream",
     "text": [
      "/home/roman/.local/share/virtualenvs/llm-zoomcamp-6WKyO3I_/lib/python3.9/site-packages/sentence_transformers/SentenceTransformer.py:481: FutureWarning: Series.__getitem__ treating keys as positions is deprecated. In a future version, integer keys will always be treated as labels (consistent with DataFrame behavior). To access a value by position, use `ser.iloc[pos]`\n",
      "  sentences_sorted = [sentences[idx] for idx in length_sorted_idx]\n"
     ]
    },
    {
     "data": {
      "text/plain": [
       "array([[-4.22446758e-01, -2.24855900e-01, -3.24058443e-01,\n",
       "        -2.84758657e-01,  7.25698331e-03,  1.01186745e-01,\n",
       "         1.03716850e-01, -1.89983502e-01, -2.80596316e-02,\n",
       "         2.71588653e-01, -1.15337193e-01,  1.14665851e-01,\n",
       "        -8.49587470e-02,  3.32365155e-01,  5.52725643e-02,\n",
       "        -2.22195774e-01, -1.42540932e-01,  1.02519162e-01,\n",
       "        -1.52333617e-01, -2.02912480e-01,  1.98425725e-02,\n",
       "         8.38148519e-02, -5.68631887e-01,  2.32841987e-02,\n",
       "        -1.67292684e-01, -2.39256635e-01, -8.05459842e-02,\n",
       "         2.57079173e-02, -8.15462843e-02, -7.39287138e-02,\n",
       "        -2.61549920e-01,  1.92571841e-02,  3.22909236e-01,\n",
       "         1.90356985e-01, -9.34726340e-05, -2.13165760e-01,\n",
       "         2.88944878e-02, -1.79527570e-02, -5.92764653e-02,\n",
       "         1.99918449e-01, -4.75168340e-02,  1.71633810e-01,\n",
       "        -2.45913174e-02, -9.38060954e-02, -3.57002944e-01,\n",
       "         1.33263826e-01,  1.94046125e-01, -1.18530892e-01,\n",
       "         4.56915349e-01,  1.47727951e-01,  3.35945249e-01,\n",
       "        -1.86959803e-01,  2.45954841e-01, -1.07774384e-01,\n",
       "        -1.80859864e-01,  1.18171908e-01,  7.27291331e-02,\n",
       "         2.78034389e-01,  4.16389197e-01, -1.66038394e-01,\n",
       "        -1.28587276e-01,  3.40979904e-01, -5.31821810e-02,\n",
       "         2.86053065e-02,  2.70213038e-01,  1.59813371e-02,\n",
       "         5.30229688e-01, -4.24391329e-01,  4.41500358e-02,\n",
       "         1.12921610e-01,  5.93987584e-01,  1.31700844e-01,\n",
       "         7.96374772e-03, -9.32330359e-03,  2.07376376e-01,\n",
       "         9.57206711e-02, -1.83127880e-01,  1.22415848e-01,\n",
       "        -2.01750502e-01,  3.12428623e-01, -5.54986969e-02,\n",
       "        -2.87764370e-01, -1.73390806e-01,  1.55470878e-01,\n",
       "         1.19510125e-02,  3.49036634e-01, -8.38190541e-02,\n",
       "        -1.50645360e-01,  5.33233024e-02, -1.06787875e-01,\n",
       "         1.13244832e-01,  3.14916342e-01, -2.95566488e-03,\n",
       "         4.66762275e-01, -1.56012893e-01, -3.61533880e-01,\n",
       "         3.31571251e-02,  2.06269011e-01, -1.06713384e-01,\n",
       "        -5.01035638e-02,  1.83969736e-01, -1.39953634e-02,\n",
       "         2.16501102e-01,  1.41000196e-01,  1.90431863e-01,\n",
       "        -3.77752930e-01,  8.65836218e-02, -9.80310142e-02,\n",
       "         2.32716069e-01,  2.01483313e-02, -9.70336646e-02,\n",
       "         1.01333529e-01, -1.72074720e-01, -1.49902239e-01,\n",
       "        -2.79156446e-01,  4.38269109e-01, -1.79244578e-01,\n",
       "        -5.75873703e-02, -7.84661323e-02, -3.23518336e-01,\n",
       "        -2.88021624e-01,  1.18698604e-01,  8.74239057e-02,\n",
       "         2.05323324e-01, -4.80115525e-02, -5.71198575e-02,\n",
       "        -2.83937007e-02, -3.82447392e-02, -2.26608247e-01,\n",
       "        -6.20820671e-02, -8.28167722e-02,  3.57217312e-01,\n",
       "        -1.73984423e-01, -2.00290546e-01,  2.40433708e-01,\n",
       "         2.16891512e-01, -6.78277910e-02,  1.77686080e-01,\n",
       "        -7.99771864e-03,  2.68137604e-01,  1.61456436e-01,\n",
       "         3.94612223e-01,  8.85784179e-02,  2.40580961e-01,\n",
       "        -2.59231823e-03, -3.16258103e-01, -2.44214877e-01,\n",
       "         3.14837694e-01, -1.19753391e-01,  2.73648184e-02,\n",
       "        -1.63026378e-01, -1.62028093e-02, -3.58393788e-02,\n",
       "         3.33115429e-01,  5.83249450e-01, -2.79058158e-01,\n",
       "         4.58128542e-01,  4.30684060e-01, -9.04694423e-02,\n",
       "        -9.46646258e-02, -4.69530858e-02,  1.82061404e-01,\n",
       "         1.93517998e-01, -5.74659184e-02,  5.64569980e-02,\n",
       "         6.01408295e-02, -2.71577895e-01,  3.31841521e-02,\n",
       "        -2.93490529e-01,  8.48195106e-02,  1.16655231e-01,\n",
       "        -3.32130678e-02, -9.28955302e-02,  8.89662802e-02,\n",
       "         4.50650556e-03, -1.12345256e-01,  2.86366880e-01,\n",
       "        -4.58183289e-01,  2.24826083e-01, -1.59531340e-01,\n",
       "        -3.91900055e-02, -4.82417822e-01,  2.00283870e-01,\n",
       "         5.05797490e-02, -7.37686604e-02, -2.89323796e-02,\n",
       "         5.19144870e-02,  2.53143549e-01, -1.18402988e-01,\n",
       "        -3.78615914e-05, -1.42473087e-03,  8.79560411e-02,\n",
       "        -1.54602721e-01,  1.39947683e-01, -1.63175583e-01,\n",
       "        -2.27564976e-01,  2.43591107e-02,  1.83513463e-01,\n",
       "         2.09396169e-01,  6.44843979e-03, -1.67488694e-01,\n",
       "         2.13646919e-01, -9.41735730e-02, -1.58159323e-02,\n",
       "        -8.20812359e-02, -1.83308616e-01,  2.60268092e-01,\n",
       "        -5.81486881e-01, -1.88393012e-01,  4.93148535e-01,\n",
       "         1.71536431e-01, -1.94944009e-01, -2.98343897e-02,\n",
       "        -1.10752188e-01,  1.75625861e-01, -2.15448648e-01,\n",
       "         3.90823722e-01, -4.05554427e-04,  1.63337648e-01,\n",
       "        -1.30663857e-01, -1.60531953e-01, -1.78250208e-01,\n",
       "         1.44646302e-01, -5.53424023e-02, -2.84335405e-01,\n",
       "        -2.52671242e-01, -2.86734790e-01,  7.28118792e-02,\n",
       "         1.01622522e-01,  2.40729988e-01,  2.70243108e-01,\n",
       "        -2.02045813e-01,  3.18083733e-01,  2.44049296e-01,\n",
       "        -1.42584607e-01,  8.29213783e-02,  4.85365763e-02,\n",
       "         2.96781361e-01,  4.12520647e-01, -3.14378828e-01,\n",
       "        -1.16969936e-01,  6.29202500e-02,  7.08070695e-02,\n",
       "         2.58253276e-01, -1.14313355e-02,  4.45277244e-01,\n",
       "         1.21436141e-01, -1.32653967e-01, -7.34768957e-02,\n",
       "         1.45819008e-01,  8.71953517e-02,  3.29192318e-02,\n",
       "        -1.06550291e-01,  1.32414624e-01,  5.37194163e-02,\n",
       "         1.55813724e-01, -3.02493609e-02, -1.43764094e-01,\n",
       "        -2.87022531e-01,  2.91071951e-01,  1.64529920e-01,\n",
       "        -1.11769401e-01,  2.36827150e-01, -3.21419239e-01,\n",
       "        -1.66114524e-01, -1.28114698e-02,  3.42823237e-01,\n",
       "        -1.29734084e-01, -8.64387602e-02,  8.01283419e-02,\n",
       "         2.09743544e-01, -1.31370425e-01, -4.56719697e-01,\n",
       "        -2.07562268e-01,  2.11608350e-01, -1.06123157e-01,\n",
       "        -7.91285858e-02, -1.07585847e-01, -3.71915460e-01,\n",
       "        -7.27086812e-02, -1.18880793e-01, -8.83409679e-02,\n",
       "        -1.14618801e-02, -1.38135672e-01, -2.01837286e-01,\n",
       "        -4.67056409e-02, -9.99321565e-02, -2.49767542e-01,\n",
       "         2.34003887e-01, -3.08610529e-01,  5.94543852e-02,\n",
       "        -1.53505042e-01,  2.65017331e-01,  3.01990169e-03,\n",
       "        -1.05428964e-01,  1.93159342e-01,  3.11239868e-01,\n",
       "         3.94330263e-01, -1.93249341e-02,  4.99086231e-01,\n",
       "         1.55233182e-02, -1.99357286e-01,  5.28732722e-04,\n",
       "         4.31942135e-01,  7.14841811e-03, -1.23075821e-01,\n",
       "         8.09240248e-03, -1.80045784e-01,  6.30213274e-03,\n",
       "        -3.00478246e-02, -3.72297138e-01,  1.83589801e-01,\n",
       "         2.57175684e-01, -1.55412167e-01,  1.24235407e-01,\n",
       "         1.37525663e-01, -1.35490805e-01,  3.29679139e-02,\n",
       "        -9.26105604e-02, -5.65364659e-01,  2.80106645e-02,\n",
       "        -2.07517166e-02, -1.69507205e-01, -2.20879540e-01,\n",
       "        -2.19279423e-01, -2.83492386e-01, -4.83236074e-01,\n",
       "        -3.42599362e-01, -9.17718410e-02,  2.96830565e-01,\n",
       "        -5.98606188e-03,  6.14562146e-02, -1.05392337e-01,\n",
       "         1.58028707e-01,  4.33739461e-02,  2.40767434e-01,\n",
       "        -3.02058578e-01, -2.03180343e-01,  3.31529975e-01,\n",
       "        -3.77642125e-01, -2.81263769e-01,  1.91836223e-01,\n",
       "        -1.27188146e-01,  1.78841963e-01, -2.64506280e-01,\n",
       "         1.23100709e-02, -1.61026701e-01,  1.34970158e-01,\n",
       "        -8.89991745e-02, -4.67517376e-02,  4.90024179e-01,\n",
       "         7.38455877e-02, -1.30986512e-01, -3.05827022e-01,\n",
       "        -1.67545378e-01,  1.94467634e-01,  1.63925365e-01,\n",
       "         1.95639253e-01,  2.50459909e-01, -4.28530842e-01,\n",
       "         3.45155550e-03, -2.58735567e-01,  5.29081166e-01,\n",
       "        -3.74269724e-01,  1.52395934e-01, -1.04267828e-01,\n",
       "         5.28326817e-02,  6.97041526e-02,  3.10416490e-01,\n",
       "         1.34908497e-01, -1.46409467e-01,  8.79695937e-02,\n",
       "        -2.16057584e-01, -5.98237338e-03,  1.46351531e-01,\n",
       "         1.00755006e-01, -3.56721401e-01,  2.37128958e-01,\n",
       "        -2.08308607e-01, -1.37768105e-01,  1.87475055e-01,\n",
       "        -1.37021884e-01,  1.79654628e-01,  9.50279236e-02,\n",
       "         3.05512756e-01, -2.35139113e-03, -5.99395446e-02,\n",
       "         3.43031138e-01,  2.22358733e-01,  3.86910349e-01,\n",
       "        -4.61393967e-02, -5.23233056e-01, -1.88939229e-01,\n",
       "        -3.29894945e-02,  1.58315942e-01, -6.72142357e-02,\n",
       "         1.70431346e-01, -1.60779819e-01, -1.32888302e-01,\n",
       "         1.94981709e-01, -7.49424398e-02,  1.33112386e-01,\n",
       "        -3.46184187e-02, -3.98085341e-02,  1.55842692e-01,\n",
       "         7.61212483e-02,  6.12083003e-02,  1.30054146e-01,\n",
       "        -4.20598418e-01, -8.50357488e-02,  7.93767497e-02,\n",
       "         1.17576778e-01,  1.19343381e-02, -8.69095698e-03,\n",
       "         1.18011661e-01, -3.85569364e-01, -1.99203834e-01,\n",
       "         3.17576170e-01,  6.12186529e-02, -1.49612367e-01,\n",
       "        -8.59778970e-02, -3.21717635e-02,  1.85915366e-01,\n",
       "        -1.35080382e-01,  3.26780468e-01,  1.11499183e-01,\n",
       "         2.00124592e-01, -1.81169882e-01,  9.46182758e-03,\n",
       "         2.59241730e-01, -8.62893835e-02,  1.24218233e-01,\n",
       "        -2.26192132e-01,  1.87308416e-01, -6.76101670e-02,\n",
       "         1.09886684e-01,  7.81963617e-02,  1.59898371e-01,\n",
       "         4.34802249e-02,  3.77582133e-01,  2.00294480e-02,\n",
       "         3.12313169e-01,  3.17891955e-01,  3.18763666e-02,\n",
       "         1.84716672e-01,  1.02977000e-01, -1.29828518e-02,\n",
       "        -5.33965528e-01, -4.15454665e-03, -9.74936783e-02,\n",
       "         2.92788029e-01, -1.68571323e-02, -3.65061611e-01,\n",
       "         2.62162894e-01, -1.99976087e-01, -1.79652274e-01,\n",
       "        -6.74346760e-02, -7.36466050e-02,  7.99731072e-03,\n",
       "        -8.52298290e-02,  3.02016050e-01,  7.65381753e-01,\n",
       "         1.86538011e-01,  9.91610959e-02, -3.15702297e-02,\n",
       "        -2.39601403e-01,  3.49765897e-01, -3.79434377e-01,\n",
       "         4.37371224e-01, -3.03045005e-01,  3.50984298e-02,\n",
       "        -1.36658931e-02, -3.92120890e-02,  1.74251422e-01,\n",
       "         2.19215870e-01,  3.65047231e-02,  1.70672998e-01,\n",
       "         1.96939364e-01, -1.31071299e-01, -4.28891554e-02,\n",
       "         1.75453499e-01, -4.72446084e-02,  6.98637515e-02,\n",
       "         3.11691407e-02,  3.22513938e-01,  4.49009180e-01,\n",
       "         1.86776444e-01, -1.16197336e-02, -1.47021249e-01,\n",
       "        -2.00406179e-01,  7.67492056e-02, -1.27667814e-01,\n",
       "        -6.29128665e-02, -4.80404168e-01,  1.54105514e-01,\n",
       "        -9.61345807e-02, -2.31545016e-01,  3.21784802e-02,\n",
       "        -2.23329037e-01, -9.49422456e-03,  1.23602286e-01,\n",
       "        -1.67446449e-01,  2.84745961e-01,  1.42775932e-02,\n",
       "        -2.71190822e-01, -3.30283582e-01,  3.32763612e-01,\n",
       "         1.96248621e-01, -2.55561352e-01,  1.17187597e-01,\n",
       "         4.77881312e-01, -4.56431098e-02, -1.86917305e-01,\n",
       "        -2.67586350e-01,  1.55057728e-01,  4.42823142e-01,\n",
       "         3.23591977e-01,  2.25059241e-01,  4.15326804e-02,\n",
       "        -2.00824782e-01,  1.77915543e-01,  3.05669248e-01,\n",
       "         2.31600523e-01, -3.19246620e-01, -1.18139036e-01,\n",
       "         1.34351581e-01,  2.80499250e-01, -2.21151382e-01,\n",
       "         5.30993491e-02,  1.29903615e-01,  6.53693676e-02,\n",
       "        -1.18015567e-02,  6.73174709e-02,  8.00404027e-02,\n",
       "        -5.13182700e-01, -5.82337417e-02,  6.54616654e-02,\n",
       "         2.76209325e-01, -1.83693580e-02,  2.94542193e-01,\n",
       "        -3.07798922e-01,  1.83834359e-01,  1.59030542e-01,\n",
       "         4.07142013e-01, -1.66562840e-01, -4.79782820e-01,\n",
       "        -2.10012183e-01, -4.13606018e-01,  5.92357665e-02,\n",
       "         1.54404148e-01,  6.57954952e-04,  2.10361049e-01,\n",
       "         2.83089668e-01,  3.63211751e-01,  1.09330527e-01,\n",
       "        -5.22614777e-01, -1.22006804e-01,  1.48911178e-02,\n",
       "         8.16330537e-02,  9.79119688e-02, -1.71466365e-01,\n",
       "        -1.19785912e-01,  3.07114035e-01,  2.41553888e-01,\n",
       "         1.07853614e-01, -1.99582368e-01, -3.44078898e-01,\n",
       "        -6.04019761e-02,  5.21589629e-02,  3.28598805e-02,\n",
       "        -3.27363494e-03,  1.36293545e-01, -3.81066054e-02,\n",
       "        -2.55616307e-01,  1.35476440e-01, -2.36675903e-01,\n",
       "        -4.05685127e-01,  2.38533720e-01,  4.29496281e-02,\n",
       "         1.72239766e-02, -2.48770550e-01, -5.33273891e-02,\n",
       "        -3.07870843e-02,  5.81809059e-02, -1.23233572e-01,\n",
       "         2.18565892e-02,  2.29185969e-01,  9.34010893e-02,\n",
       "        -2.54486561e-01, -1.76820844e-01,  1.78003505e-01,\n",
       "        -1.88909903e-01, -2.32189134e-01,  1.38992593e-01,\n",
       "         8.63836482e-02,  1.66122913e-01, -1.26168028e-01,\n",
       "         4.47000265e-02, -2.57232529e-03,  9.59315598e-02,\n",
       "         1.70474008e-01,  4.11359854e-02,  3.73511136e-01,\n",
       "        -2.45751217e-01,  8.69031399e-02, -3.60793263e-01,\n",
       "        -1.35019615e-01,  2.28721723e-01,  5.50212115e-02,\n",
       "         2.56112993e-01, -2.00421400e-02,  1.00339301e-01,\n",
       "         2.35081930e-02, -5.19268103e-02,  1.96859032e-01,\n",
       "        -3.61293234e-04,  3.07785869e-01, -1.46380469e-01,\n",
       "         9.31805000e-02,  1.40383780e-01,  1.81082208e-02,\n",
       "        -1.38114318e-01,  4.64575142e-02,  5.93975484e-02,\n",
       "         4.88919951e-02,  2.51311958e-01, -8.47728625e-02,\n",
       "         7.51706362e-02,  1.41399773e-02,  3.21199358e-01,\n",
       "         1.87377095e-01,  3.38847578e-01,  1.51104882e-01,\n",
       "         3.21048379e-01,  1.62717342e-01, -4.25226122e-01,\n",
       "        -3.60833257e-01,  4.96278554e-02,  1.51703045e-01,\n",
       "        -2.27194116e-01, -1.19753748e-01, -2.01470628e-02,\n",
       "        -2.40545973e-01,  5.62719591e-02,  3.93150672e-02,\n",
       "         1.62902445e-01,  4.60214466e-02,  1.69598877e-01,\n",
       "        -1.60548031e-01, -2.60243728e-03, -9.23943743e-02,\n",
       "        -4.32310373e-01,  9.29706469e-02,  3.15057248e-01,\n",
       "         1.51551226e-02,  4.36365120e-02, -2.50602335e-01,\n",
       "        -8.28459933e-02,  1.22858636e-01,  3.40398438e-02,\n",
       "         1.75262913e-01, -1.60563603e-01, -3.39264125e-01,\n",
       "         8.57210308e-02,  7.73875788e-02, -1.93213835e-01,\n",
       "         1.34665787e-01,  3.19143361e-03,  2.99941808e-01,\n",
       "        -2.12176926e-02,  1.68446571e-01,  3.32506150e-01,\n",
       "        -2.90306777e-01, -2.65654940e-02,  1.57835722e-01,\n",
       "        -1.45968243e-01,  1.02216721e-01, -3.66670966e-01,\n",
       "        -1.05406545e-01,  8.61350596e-02, -2.02301532e-01,\n",
       "         3.80772240e-02, -1.82997763e-01, -1.71337545e-01,\n",
       "        -1.67107865e-01, -4.81708139e-01, -3.76029275e-02,\n",
       "        -2.37805232e-01,  1.88101441e-01, -5.88413477e-02,\n",
       "         5.97653747e-01,  2.54528403e-01,  3.43905687e-02,\n",
       "         3.61725874e-02, -3.01713109e-01, -3.13886881e-01,\n",
       "        -2.44421475e-02,  3.54955681e-02, -1.56710431e-01,\n",
       "        -3.16900551e-01,  2.10856106e-02,  2.57124752e-01,\n",
       "         4.08265352e-01,  1.50323093e-01, -6.00386737e-03,\n",
       "        -1.62305444e-01,  3.02282184e-01, -2.29149178e-01,\n",
       "         1.85533687e-01,  9.38915759e-02,  4.12929095e-02,\n",
       "        -1.50900871e-01, -1.33867159e-01,  2.03006044e-01,\n",
       "        -2.04596907e-01,  3.01504195e-01,  2.38587230e-01,\n",
       "         6.47759512e-02,  1.75632805e-01,  2.81314433e-01,\n",
       "         1.58512026e-01,  2.10833130e-03,  3.89198571e-01,\n",
       "        -2.64083624e-01, -2.38809615e-01,  2.06713453e-01,\n",
       "         1.16575889e-01, -1.77012697e-01, -2.77640279e-02,\n",
       "         1.83658957e-01,  2.25405857e-01, -8.78801644e-02,\n",
       "        -1.43584773e-01,  2.10636437e-01,  1.69541180e-01,\n",
       "        -5.84790076e-04, -3.66571061e-02, -3.57495308e-01,\n",
       "         2.06115037e-01, -1.50764883e-01, -8.18620548e-02,\n",
       "         3.86617780e-02,  1.66414931e-01,  1.40703199e-02,\n",
       "        -2.76515305e-01, -1.28965884e-01, -6.98807240e-02,\n",
       "         2.13923097e-01, -2.81380653e-01, -3.66246663e-02,\n",
       "        -1.43629253e-01,  6.90279305e-02, -7.71776140e-02,\n",
       "         1.96927235e-01, -2.78328449e-01, -4.52041067e-02,\n",
       "        -1.19244516e-01, -3.84129643e-01,  8.88785720e-02,\n",
       "         4.29855585e-01,  2.08253309e-01, -3.37734967e-01,\n",
       "        -2.85533547e-01,  9.70598385e-02,  2.04244569e-01,\n",
       "        -6.10272847e-02, -1.66054353e-01, -2.67020762e-01]], dtype=float32)"
      ]
     },
     "execution_count": 33,
     "metadata": {},
     "output_type": "execute_result"
    }
   ],
   "source": [
    "get_embeddings(df.loc[0,:], \"answer_llm\")"
   ]
  },
  {
   "cell_type": "code",
   "execution_count": 39,
   "id": "47df7b8c-79cb-4fc1-8a9b-6e2a753195e6",
   "metadata": {},
   "outputs": [
    {
     "name": "stderr",
     "output_type": "stream",
     "text": [
      "100%|█████████████████████████████████████████████████████████████████████████████████| 300/300 [01:23<00:00,  3.61it/s]\n"
     ]
    }
   ],
   "source": [
    "answer_llm_emb = []\n",
    "answer_orig_emb = []\n",
    "for _, row in tqdm(df.iterrows(), total=len(df)):\n",
    "    answer_llm_emb.append(get_embeddings(row, \"answer_llm\"))\n",
    "    answer_orig_emb.append(get_embeddings(row, \"answer_orig\"))\n",
    "    "
   ]
  },
  {
   "cell_type": "code",
   "execution_count": 13,
   "id": "ffd0c0b2-b7a0-4666-afe6-ccc7962c0636",
   "metadata": {},
   "outputs": [],
   "source": [
    "import numpy as np"
   ]
  },
  {
   "cell_type": "code",
   "execution_count": 45,
   "id": "34f3484c-5c19-49c2-96f1-7a06b74c9c73",
   "metadata": {},
   "outputs": [],
   "source": [
    "X1 = np.array(answer_llm_emb)\n",
    "X2 = np.array(answer_orig_emb)"
   ]
  },
  {
   "cell_type": "code",
   "execution_count": 55,
   "id": "3be46410-109f-44f0-ae15-a93fd0911fc6",
   "metadata": {},
   "outputs": [],
   "source": [
    "evaluations = np.diag(X1.dot(X2.T))"
   ]
  },
  {
   "cell_type": "code",
   "execution_count": 58,
   "id": "b7637d3b-1632-4c12-a34e-c5298a01afbc",
   "metadata": {},
   "outputs": [
    {
     "data": {
      "text/plain": [
       "31.67431640625"
      ]
     },
     "execution_count": 58,
     "metadata": {},
     "output_type": "execute_result"
    }
   ],
   "source": [
    "np.percentile(evaluations, 75)"
   ]
  },
  {
   "cell_type": "markdown",
   "id": "e5d9aaac-2334-4d92-8dd3-53252514febb",
   "metadata": {},
   "source": [
    "What's the 75% percentile of the score?\n",
    "\n",
    "21.67  \n",
    "**31.67**  \n",
    "41.67  \n",
    "51.67  \n",
    "\n",
    "Answer: 31.67"
   ]
  },
  {
   "cell_type": "markdown",
   "id": "a1ab073d-35e6-47f6-a6f1-10bf80824ec1",
   "metadata": {},
   "source": [
    "## Q3. Computing the cosine"
   ]
  },
  {
   "cell_type": "markdown",
   "id": "a8c97d77-1c6b-4a7b-9156-f58cdbafcb68",
   "metadata": {},
   "source": [
    "From Q2, we can see that the results are not within the [0, 1] range. It's because the vectors coming from this model are not normalized.\n",
    "\n",
    "So we need to normalize them."
   ]
  },
  {
   "cell_type": "code",
   "execution_count": 61,
   "id": "6b5642ac-2980-4b78-b3b8-ded2a4cd58d8",
   "metadata": {},
   "outputs": [],
   "source": [
    "def norm_f(v):\n",
    "    norm = np.sqrt((v * v).sum())\n",
    "    return v / norm"
   ]
  },
  {
   "cell_type": "code",
   "execution_count": 70,
   "id": "1ce79cc9-978b-4c60-ad9f-c0d882f4e7a7",
   "metadata": {},
   "outputs": [],
   "source": [
    "X1n = np.array([norm_f(row) for row in X1])"
   ]
  },
  {
   "cell_type": "code",
   "execution_count": 71,
   "id": "7c26b260-9330-46a1-8e86-902b01d44b8e",
   "metadata": {},
   "outputs": [],
   "source": [
    "X2n = np.array([norm_f(row) for row in X2])"
   ]
  },
  {
   "cell_type": "code",
   "execution_count": 72,
   "id": "31912279-2e1f-4296-8836-7af15de328b5",
   "metadata": {},
   "outputs": [],
   "source": [
    "evaluations = np.diag(X1n.dot(X2n.T))"
   ]
  },
  {
   "cell_type": "code",
   "execution_count": 73,
   "id": "86d11eb9-404d-4a9b-8a20-ef9ab9822d29",
   "metadata": {},
   "outputs": [
    {
     "data": {
      "text/plain": [
       "0.8362347781658173"
      ]
     },
     "execution_count": 73,
     "metadata": {},
     "output_type": "execute_result"
    }
   ],
   "source": [
    "np.percentile(evaluations, 75)"
   ]
  },
  {
   "cell_type": "markdown",
   "id": "910e56a8-c91b-4a3b-98d8-a62665b42815",
   "metadata": {},
   "source": [
    "What's the 75% cosine in the scores?\n",
    "\n",
    "0.63  \n",
    "0.73  \n",
    "**0.83**  \n",
    "0.93  \n",
    "\n",
    "Answer: 0.83"
   ]
  },
  {
   "cell_type": "markdown",
   "id": "2fe72ec0-4f61-49dd-83e3-7a9a6152de6f",
   "metadata": {},
   "source": [
    "## Q4. Rouge"
   ]
  },
  {
   "cell_type": "code",
   "execution_count": 74,
   "id": "7467fe90-7624-495d-84d9-238349bbb535",
   "metadata": {},
   "outputs": [
    {
     "name": "stderr",
     "output_type": "stream",
     "text": [
      "huggingface/tokenizers: The current process just got forked, after parallelism has already been used. Disabling parallelism to avoid deadlocks...\n",
      "To disable this warning, you can either:\n",
      "\t- Avoid using `tokenizers` before the fork if possible\n",
      "\t- Explicitly set the environment variable TOKENIZERS_PARALLELISM=(true | false)\n"
     ]
    },
    {
     "name": "stdout",
     "output_type": "stream",
     "text": [
      "Collecting rouge\n",
      "  Downloading rouge-1.0.1-py3-none-any.whl.metadata (4.1 kB)\n",
      "Requirement already satisfied: six in /home/roman/.local/share/virtualenvs/llm-zoomcamp-6WKyO3I_/lib/python3.9/site-packages (from rouge) (1.16.0)\n",
      "Downloading rouge-1.0.1-py3-none-any.whl (13 kB)\n",
      "Installing collected packages: rouge\n",
      "Successfully installed rouge-1.0.1\n"
     ]
    }
   ],
   "source": [
    "!pip install rouge"
   ]
  },
  {
   "cell_type": "code",
   "execution_count": 7,
   "id": "26540e82-122c-43f1-8b89-209509fc9752",
   "metadata": {},
   "outputs": [],
   "source": [
    "r = df.iloc[10,]"
   ]
  },
  {
   "cell_type": "code",
   "execution_count": 8,
   "id": "5276314d-5298-450b-953d-f0168c3cb6b1",
   "metadata": {},
   "outputs": [],
   "source": [
    "from rouge import Rouge\n",
    "rouge_scorer = Rouge()\n",
    "\n",
    "scores = rouge_scorer.get_scores(r['answer_llm'], r['answer_orig'])[0]"
   ]
  },
  {
   "cell_type": "code",
   "execution_count": 9,
   "id": "83dfca66-350a-4cbd-8ac8-f5952c6ffb17",
   "metadata": {},
   "outputs": [
    {
     "data": {
      "text/plain": [
       "{'rouge-1': {'r': 0.45454545454545453,\n",
       "  'p': 0.45454545454545453,\n",
       "  'f': 0.45454544954545456},\n",
       " 'rouge-2': {'r': 0.21621621621621623,\n",
       "  'p': 0.21621621621621623,\n",
       "  'f': 0.21621621121621637},\n",
       " 'rouge-l': {'r': 0.3939393939393939,\n",
       "  'p': 0.3939393939393939,\n",
       "  'f': 0.393939388939394}}"
      ]
     },
     "execution_count": 9,
     "metadata": {},
     "output_type": "execute_result"
    }
   ],
   "source": [
    "scores"
   ]
  },
  {
   "cell_type": "markdown",
   "id": "339f2e6a-8fe8-4ecf-926c-08f7af99ad04",
   "metadata": {},
   "source": [
    "What's the F score for rouge-1?\n",
    "\n",
    "0.35  \n",
    "**0.45**   \n",
    "0.55  \n",
    "0.65  \n",
    "\n",
    "Answer: 0.45"
   ]
  },
  {
   "cell_type": "markdown",
   "id": "8f794a02-6478-4af2-a94c-67c0fc9f87ac",
   "metadata": {},
   "source": [
    "## Q5. Average rouge score"
   ]
  },
  {
   "cell_type": "markdown",
   "id": "7369cfa5-3f67-4c36-83bb-1761c3f4c122",
   "metadata": {},
   "source": [
    "Let's compute the average F-score between rouge-1, rouge-2 and rouge-l for the same record from Q4\n",
    "\n",
    "**0.35**  \n",
    "0.45  \n",
    "0.55  \n",
    "0.65  "
   ]
  },
  {
   "cell_type": "code",
   "execution_count": 17,
   "id": "4003db96-6548-4b90-b902-ae8c33a4f65f",
   "metadata": {},
   "outputs": [
    {
     "name": "stdout",
     "output_type": "stream",
     "text": [
      "Mean score: 0.35490035490035493\n"
     ]
    }
   ],
   "source": [
    "print(f\"Mean score: {np.mean([scores[k]['r'] for k in scores])}\")"
   ]
  },
  {
   "cell_type": "markdown",
   "id": "a3652bf6-67e8-48a0-a773-9e20107bcd1c",
   "metadata": {},
   "source": [
    "## Q6. Average rouge score for all the data points"
   ]
  },
  {
   "cell_type": "code",
   "execution_count": 30,
   "id": "775a794d-66fd-43ff-8de4-432a34676fbc",
   "metadata": {},
   "outputs": [],
   "source": [
    "def get_rought_score_2(a1, a2):\n",
    "    scores = rouge_scorer.get_scores(a1, a2)[0]\n",
    "    return scores['rouge-2']['r']"
   ]
  },
  {
   "cell_type": "code",
   "execution_count": 31,
   "id": "448e8e0f-d571-4d7f-820d-8a5388dac26a",
   "metadata": {},
   "outputs": [
    {
     "data": {
      "text/plain": [
       "0.21621621621621623"
      ]
     },
     "execution_count": 31,
     "metadata": {},
     "output_type": "execute_result"
    }
   ],
   "source": [
    "get_rought_score_2(r['answer_llm'], r['answer_orig'])"
   ]
  },
  {
   "cell_type": "code",
   "execution_count": 32,
   "id": "fea877af-8807-4850-8b90-f8cf4a2cc292",
   "metadata": {},
   "outputs": [
    {
     "name": "stderr",
     "output_type": "stream",
     "text": [
      "100%|████████████████████████████████████████████████████████████████████████████████| 300/300 [00:00<00:00, 387.62it/s]\n"
     ]
    }
   ],
   "source": [
    "rought_scores = []\n",
    "for _, row in tqdm(df.iterrows(), total=len(df)):\n",
    "    rought_scores.append(get_rought_score_2(row[\"answer_llm\"], row[\"answer_orig\"]))\n",
    "    "
   ]
  },
  {
   "cell_type": "code",
   "execution_count": 33,
   "id": "a8e43247-15b6-4c76-90b1-cac8a4977ff8",
   "metadata": {},
   "outputs": [
    {
     "data": {
      "text/plain": [
       "0.19861258009846788"
      ]
     },
     "execution_count": 33,
     "metadata": {},
     "output_type": "execute_result"
    }
   ],
   "source": [
    "np.mean(rought_scores)"
   ]
  },
  {
   "cell_type": "markdown",
   "id": "2494da18-e9ab-45b0-a882-e3a3714c68b7",
   "metadata": {},
   "source": [
    "Now let's compute the score for all the records and create a dataframe from them.\n",
    "\n",
    "What's the average rouge_2 across all the records?\n",
    "\n",
    "0.10  \n",
    "**0.20**  \n",
    "0.30  \n",
    "0.40  "
   ]
  },
  {
   "cell_type": "code",
   "execution_count": null,
   "id": "e1dd1366-eaf2-4a3c-8d83-45225fec704b",
   "metadata": {},
   "outputs": [],
   "source": []
  }
 ],
 "metadata": {
  "kernelspec": {
   "display_name": "Python 3 (ipykernel)",
   "language": "python",
   "name": "python3"
  },
  "language_info": {
   "codemirror_mode": {
    "name": "ipython",
    "version": 3
   },
   "file_extension": ".py",
   "mimetype": "text/x-python",
   "name": "python",
   "nbconvert_exporter": "python",
   "pygments_lexer": "ipython3",
   "version": "3.9.5"
  }
 },
 "nbformat": 4,
 "nbformat_minor": 5
}
